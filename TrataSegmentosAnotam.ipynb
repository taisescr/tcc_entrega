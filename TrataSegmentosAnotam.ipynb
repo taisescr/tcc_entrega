{
 "cells": [
  {
   "cell_type": "code",
   "execution_count": 1,
   "metadata": {
    "executionInfo": {
     "elapsed": 372,
     "status": "ok",
     "timestamp": 1625240824673,
     "user": {
      "displayName": "Taise Santana",
      "photoUrl": "https://lh3.googleusercontent.com/a-/AOh14GgKAADg6Rps3N8uIyXhe_-x0PwLHGxngc11vJP1qdQ=s64",
      "userId": "17052149037411840574"
     },
     "user_tz": 180
    },
    "id": "465o5H36uIu-"
   },
   "outputs": [],
   "source": [
    "##### Se estiver executando no COLAB rode esta linha e restart o Kernel em seguida\n",
    "#!python -m spacy download pt_core_news_sm"
   ]
  },
  {
   "cell_type": "code",
   "execution_count": 2,
   "metadata": {
    "colab": {
     "base_uri": "https://localhost:8080/"
    },
    "executionInfo": {
     "elapsed": 27469,
     "status": "ok",
     "timestamp": 1625240852435,
     "user": {
      "displayName": "Taise Santana",
      "photoUrl": "https://lh3.googleusercontent.com/a-/AOh14GgKAADg6Rps3N8uIyXhe_-x0PwLHGxngc11vJP1qdQ=s64",
      "userId": "17052149037411840574"
     },
     "user_tz": 180
    },
    "id": "rhikUrWYuIvA",
    "outputId": "3a83eb8a-7477-4030-be8b-a6e48886edf4"
   },
   "outputs": [],
   "source": [
    "#Se tiver exwecutando no Colab rode esta célula\n",
    "#from google.colab import drive\n",
    "#drive.mount('/content/gdrive')\n",
    "#import sys\n",
    "#sys.path.insert(0,'/content/gdrive/My Drive/TCC/tcccimatec')\n",
    "#caminhoDados=\"/content/gdrive/My Drive/TCC/tcccimatec/dados/\"\n"
   ]
  },
  {
   "cell_type": "code",
   "execution_count": 3,
   "metadata": {
    "executionInfo": {
     "elapsed": 11,
     "status": "ok",
     "timestamp": 1625240852437,
     "user": {
      "displayName": "Taise Santana",
      "photoUrl": "https://lh3.googleusercontent.com/a-/AOh14GgKAADg6Rps3N8uIyXhe_-x0PwLHGxngc11vJP1qdQ=s64",
      "userId": "17052149037411840574"
     },
     "user_tz": 180
    },
    "id": "N0-b93gauIvA"
   },
   "outputs": [],
   "source": [
    "#Dados disponíveis em \n",
    "#https://drive.google.com/drive/folders/111ViaBRVmR0uevl00Ivmy3tbqMLjqIX7?usp=sharing"
   ]
  },
  {
   "cell_type": "code",
   "execution_count": 1,
   "metadata": {
    "executionInfo": {
     "elapsed": 9,
     "status": "ok",
     "timestamp": 1625240852438,
     "user": {
      "displayName": "Taise Santana",
      "photoUrl": "https://lh3.googleusercontent.com/a-/AOh14GgKAADg6Rps3N8uIyXhe_-x0PwLHGxngc11vJP1qdQ=s64",
      "userId": "17052149037411840574"
     },
     "user_tz": 180
    },
    "id": "NZ2SqRa5uIvA"
   },
   "outputs": [],
   "source": [
    "#Se estiver rodando localmente \n",
    "caminhoDados=\"dados/\""
   ]
  },
  {
   "cell_type": "code",
   "execution_count": 2,
   "metadata": {
    "colab": {
     "base_uri": "https://localhost:8080/"
    },
    "executionInfo": {
     "elapsed": 11926,
     "status": "ok",
     "timestamp": 1625240864356,
     "user": {
      "displayName": "Taise Santana",
      "photoUrl": "https://lh3.googleusercontent.com/a-/AOh14GgKAADg6Rps3N8uIyXhe_-x0PwLHGxngc11vJP1qdQ=s64",
      "userId": "17052149037411840574"
     },
     "user_tz": 180
    },
    "id": "j8bs-5ZKuIvB",
    "outputId": "3eb23a90-b8ac-453c-edd6-a8f94dbc383e"
   },
   "outputs": [
    {
     "name": "stderr",
     "output_type": "stream",
     "text": [
      "[nltk_data] Downloading package stopwords to\n",
      "[nltk_data]     /home/94779325587/nltk_data...\n",
      "[nltk_data]   Unzipping corpora/stopwords.zip.\n",
      "[nltk_data] Downloading package wordnet to\n",
      "[nltk_data]     /home/94779325587/nltk_data...\n",
      "[nltk_data]   Package wordnet is already up-to-date!\n",
      "[nltk_data] Downloading package punkt to\n",
      "[nltk_data]     /home/94779325587/nltk_data...\n",
      "[nltk_data]   Package punkt is already up-to-date!\n"
     ]
    }
   ],
   "source": [
    "import pandas as pd\n",
    "import numpy as np\n",
    "import matplotlib.pyplot as plt\n",
    "from zipfile import ZipFile\n",
    "import nltk\n",
    "from nltk.corpus import stopwords\n",
    "import re\n",
    "from unicodedata import normalize\n",
    "from nltk.tokenize import RegexpTokenizer, WordPunctTokenizer, WhitespaceTokenizer\n",
    "from wordcloud import WordCloud, STOPWORDS, ImageColorGenerator\n",
    "import html\n",
    "import spacy\n",
    "from libs import stopword, tratatexto\n",
    "nlp = spacy.load('pt_core_news_sm')\n",
    "nltk.download('stopwords')\n",
    "nltk.download('wordnet')\n",
    "nltk.download('punkt')\n",
    "random_state=26"
   ]
  },
  {
   "cell_type": "markdown",
   "metadata": {
    "id": "MaYgHW0muIvC"
   },
   "source": [
    "# Análise Exploratória"
   ]
  },
  {
   "cell_type": "code",
   "execution_count": 3,
   "metadata": {},
   "outputs": [],
   "source": [
    "df  = pd.read_json(caminhoDados+'segmentosOrigemAnotacao.json') \n",
    "#Excluindo o ano de 2021  por não estar completo\n",
    "df = df[df['ano']<2021]\n",
    "#unificando o nome da coluna idSegmento\n",
    "df.rename(columns={'idSegmentoOrigem': 'idSegmento'},inplace=True)\n"
   ]
  },
  {
   "cell_type": "code",
   "execution_count": 4,
   "metadata": {},
   "outputs": [
    {
     "data": {
      "text/plain": [
       "21012"
      ]
     },
     "execution_count": 4,
     "metadata": {},
     "output_type": "execute_result"
    }
   ],
   "source": [
    "len(df.index)"
   ]
  },
  {
   "cell_type": "code",
   "execution_count": 5,
   "metadata": {},
   "outputs": [
    {
     "data": {
      "text/plain": [
       "array([2013, 2014, 2015, 2016, 2017, 2018, 2019, 2020])"
      ]
     },
     "execution_count": 5,
     "metadata": {},
     "output_type": "execute_result"
    }
   ],
   "source": [
    "df['ano'].unique()"
   ]
  },
  {
   "cell_type": "code",
   "execution_count": 8,
   "metadata": {
    "executionInfo": {
     "elapsed": 39,
     "status": "ok",
     "timestamp": 1625240867244,
     "user": {
      "displayName": "Taise Santana",
      "photoUrl": "https://lh3.googleusercontent.com/a-/AOh14GgKAADg6Rps3N8uIyXhe_-x0PwLHGxngc11vJP1qdQ=s64",
      "userId": "17052149037411840574"
     },
     "user_tz": 180
    },
    "id": "zriMRQKjuIvE"
   },
   "outputs": [],
   "source": [
    "#Quantidade de segmentos anotados por tipo de Solução\n",
    "#Percebemos que alguns segmentos tem mais de uma anotação, esses casos não serão escopo desse trabalho\n",
    "#o alvo são segmentos que só possuem uma anotação\n",
    "df.groupby([\"idSegmento\"])[\"nomeTipoAnotacao\"].nunique().sort_values(ascending=False)\n",
    "dfseg = pd.DataFrame(df.groupby([\"idSegmento\"])[\"nomeTipoAnotacao\"].nunique())\n",
    "excluir = dfseg[dfseg['nomeTipoAnotacao']>1].index\n",
    "#Quantidade de segmentos a exluir\n",
    "len(excluir)\n",
    "df.drop(df[df['idSegmento'].isin(excluir)].index, inplace = True)"
   ]
  },
  {
   "cell_type": "code",
   "execution_count": 9,
   "metadata": {
    "executionInfo": {
     "elapsed": 19,
     "status": "ok",
     "timestamp": 1625240867246,
     "user": {
      "displayName": "Taise Santana",
      "photoUrl": "https://lh3.googleusercontent.com/a-/AOh14GgKAADg6Rps3N8uIyXhe_-x0PwLHGxngc11vJP1qdQ=s64",
      "userId": "17052149037411840574"
     },
     "user_tz": 180
    },
    "id": "coNTCkhyuIvF"
   },
   "outputs": [],
   "source": [
    "#As 28 anotacoes sem nome são anotações válidas para o negócio, no sistema tem um valor \"Inclusão por republicação parcial\"\n",
    "df.loc[df['nomeTipoAnotacao']==\"\", 'nomeTipoAnotacao']= \"Inclusão por republicação parcial\""
   ]
  },
  {
   "cell_type": "code",
   "execution_count": 10,
   "metadata": {
    "executionInfo": {
     "elapsed": 356,
     "status": "ok",
     "timestamp": 1625240868775,
     "user": {
      "displayName": "Taise Santana",
      "photoUrl": "https://lh3.googleusercontent.com/a-/AOh14GgKAADg6Rps3N8uIyXhe_-x0PwLHGxngc11vJP1qdQ=s64",
      "userId": "17052149037411840574"
     },
     "user_tz": 180
    },
    "id": "GOQ9cy5vuIvJ"
   },
   "outputs": [],
   "source": [
    "dfAlvoAnota = df"
   ]
  },
  {
   "cell_type": "code",
   "execution_count": 11,
   "metadata": {
    "executionInfo": {
     "elapsed": 14,
     "status": "ok",
     "timestamp": 1625240868776,
     "user": {
      "displayName": "Taise Santana",
      "photoUrl": "https://lh3.googleusercontent.com/a-/AOh14GgKAADg6Rps3N8uIyXhe_-x0PwLHGxngc11vJP1qdQ=s64",
      "userId": "17052149037411840574"
     },
     "user_tz": 180
    },
    "id": "YJ4z0lASuIvJ"
   },
   "outputs": [],
   "source": [
    "idAtoAlvo = dfAlvoAnota['idAto'].unique()"
   ]
  },
  {
   "cell_type": "markdown",
   "metadata": {
    "id": "n-BD4AaXuIvK"
   },
   "source": [
    "# Tratamento texto"
   ]
  },
  {
   "cell_type": "code",
   "execution_count": 12,
   "metadata": {
    "executionInfo": {
     "elapsed": 15,
     "status": "ok",
     "timestamp": 1625240869425,
     "user": {
      "displayName": "Taise Santana",
      "photoUrl": "https://lh3.googleusercontent.com/a-/AOh14GgKAADg6Rps3N8uIyXhe_-x0PwLHGxngc11vJP1qdQ=s64",
      "userId": "17052149037411840574"
     },
     "user_tz": 180
    },
    "id": "KZJ0GC66uIvK"
   },
   "outputs": [],
   "source": [
    "#Texto que tem anotação"
   ]
  },
  {
   "cell_type": "code",
   "execution_count": 13,
   "metadata": {
    "colab": {
     "base_uri": "https://localhost:8080/"
    },
    "executionInfo": {
     "elapsed": 4214,
     "status": "ok",
     "timestamp": 1625240873627,
     "user": {
      "displayName": "Taise Santana",
      "photoUrl": "https://lh3.googleusercontent.com/a-/AOh14GgKAADg6Rps3N8uIyXhe_-x0PwLHGxngc11vJP1qdQ=s64",
      "userId": "17052149037411840574"
     },
     "user_tz": 180
    },
    "id": "WhV6RGtFuIvL",
    "outputId": "5d573735-9b5b-4607-b467-b6ff18328532"
   },
   "outputs": [],
   "source": [
    "dfAlvoAnota['ementalimpa'] = dfAlvoAnota['ementa'].apply(tratatexto.limpaTexto)"
   ]
  },
  {
   "cell_type": "code",
   "execution_count": 14,
   "metadata": {
    "colab": {
     "base_uri": "https://localhost:8080/"
    },
    "executionInfo": {
     "elapsed": 171895,
     "status": "ok",
     "timestamp": 1625241049143,
     "user": {
      "displayName": "Taise Santana",
      "photoUrl": "https://lh3.googleusercontent.com/a-/AOh14GgKAADg6Rps3N8uIyXhe_-x0PwLHGxngc11vJP1qdQ=s64",
      "userId": "17052149037411840574"
     },
     "user_tz": 180
    },
    "id": "DduZiZqzuIvL",
    "outputId": "f01cd4ec-520c-4c3a-9854-18b65f462350"
   },
   "outputs": [],
   "source": [
    "dfAlvoAnota['verbosEmenta'] = dfAlvoAnota['ementalimpa'].apply(tratatexto.buscaVerbo)"
   ]
  },
  {
   "cell_type": "code",
   "execution_count": 15,
   "metadata": {
    "colab": {
     "base_uri": "https://localhost:8080/"
    },
    "executionInfo": {
     "elapsed": 3318,
     "status": "ok",
     "timestamp": 1625241055411,
     "user": {
      "displayName": "Taise Santana",
      "photoUrl": "https://lh3.googleusercontent.com/a-/AOh14GgKAADg6Rps3N8uIyXhe_-x0PwLHGxngc11vJP1qdQ=s64",
      "userId": "17052149037411840574"
     },
     "user_tz": 180
    },
    "id": "twshHZQpuIvM",
    "outputId": "27e89cab-9801-4fdd-9085-613f10cdb142"
   },
   "outputs": [],
   "source": [
    "dfAlvoAnota['textoIntegraLimpo'] = dfAlvoAnota['textoIntegra'].apply(tratatexto.limpaTexto)"
   ]
  },
  {
   "cell_type": "code",
   "execution_count": 16,
   "metadata": {},
   "outputs": [
    {
     "data": {
      "text/plain": [
       "'art autorizacao tratar art ficar condicionar comprovacao referir art incisar instrucao normativo '"
      ]
     },
     "execution_count": 16,
     "metadata": {},
     "output_type": "execute_result"
    }
   ],
   "source": [
    "dfAlvoAnota['textoIntegraLimpo'][0]"
   ]
  },
  {
   "cell_type": "code",
   "execution_count": 17,
   "metadata": {
    "colab": {
     "base_uri": "https://localhost:8080/"
    },
    "executionInfo": {
     "elapsed": 162893,
     "status": "ok",
     "timestamp": 1625241222087,
     "user": {
      "displayName": "Taise Santana",
      "photoUrl": "https://lh3.googleusercontent.com/a-/AOh14GgKAADg6Rps3N8uIyXhe_-x0PwLHGxngc11vJP1qdQ=s64",
      "userId": "17052149037411840574"
     },
     "user_tz": 180
    },
    "id": "L-0z9S9QuIvM",
    "outputId": "340882b2-a768-48dc-a08b-882f8f59fd4c"
   },
   "outputs": [],
   "source": [
    "dfAlvoAnota['verbosTextoIntegra'] = dfAlvoAnota['textoIntegraLimpo'].apply(tratatexto.buscaVerbo)"
   ]
  },
  {
   "cell_type": "markdown",
   "metadata": {},
   "source": [
    "# Gerando Json"
   ]
  },
  {
   "cell_type": "code",
   "execution_count": 18,
   "metadata": {
    "executionInfo": {
     "elapsed": 12,
     "status": "ok",
     "timestamp": 1625241297521,
     "user": {
      "displayName": "Taise Santana",
      "photoUrl": "https://lh3.googleusercontent.com/a-/AOh14GgKAADg6Rps3N8uIyXhe_-x0PwLHGxngc11vJP1qdQ=s64",
      "userId": "17052149037411840574"
     },
     "user_tz": 180
    },
    "id": "ZJIzCdlwuIvS"
   },
   "outputs": [
    {
     "data": {
      "text/html": [
       "<div>\n",
       "<style scoped>\n",
       "    .dataframe tbody tr th:only-of-type {\n",
       "        vertical-align: middle;\n",
       "    }\n",
       "\n",
       "    .dataframe tbody tr th {\n",
       "        vertical-align: top;\n",
       "    }\n",
       "\n",
       "    .dataframe thead th {\n",
       "        text-align: right;\n",
       "    }\n",
       "</style>\n",
       "<table border=\"1\" class=\"dataframe\">\n",
       "  <thead>\n",
       "    <tr style=\"text-align: right;\">\n",
       "      <th></th>\n",
       "      <th>ano</th>\n",
       "      <th>ementa</th>\n",
       "      <th>idAto</th>\n",
       "      <th>idSegmento</th>\n",
       "      <th>idTipoAnotacao</th>\n",
       "      <th>idTipoAto</th>\n",
       "      <th>idTipoSegmento</th>\n",
       "      <th>nomeTipoAnotacao</th>\n",
       "      <th>nomeTipoAto</th>\n",
       "      <th>nomeTipoSegmento</th>\n",
       "      <th>siglaTipoAnotacao</th>\n",
       "      <th>textoIntegra</th>\n",
       "      <th>tipoSolucao</th>\n",
       "      <th>versaoSegmento</th>\n",
       "      <th>ementalimpa</th>\n",
       "      <th>verbosEmenta</th>\n",
       "      <th>textoIntegraLimpo</th>\n",
       "      <th>verbosTextoIntegra</th>\n",
       "      <th>verbos</th>\n",
       "      <th>textoTotal</th>\n",
       "    </tr>\n",
       "  </thead>\n",
       "  <tbody>\n",
       "    <tr>\n",
       "      <th>0</th>\n",
       "      <td>2013</td>\n",
       "      <td>Autoriza exportação de cigarros do estabelecim...</td>\n",
       "      <td>39246</td>\n",
       "      <td>1260061</td>\n",
       "      <td>24</td>\n",
       "      <td>9</td>\n",
       "      <td>3</td>\n",
       "      <td>Vide</td>\n",
       "      <td>Ato Declaratório Executivo</td>\n",
       "      <td>Artigo</td>\n",
       "      <td>VID</td>\n",
       "      <td>Art. 2º A autorização de que trata o art. 1º f...</td>\n",
       "      <td>REF</td>\n",
       "      <td>1</td>\n",
       "      <td>autorizar exportacao cigarro estabelecimento e...</td>\n",
       "      <td>autorizar inscrever</td>\n",
       "      <td>art autorizacao tratar art ficar condicionar c...</td>\n",
       "      <td>tratar ficar condicionar referir incisar</td>\n",
       "      <td>autorizar inscrever tratar ficar condicionar r...</td>\n",
       "      <td>autorizar exportacao cigarro estabelecimento e...</td>\n",
       "    </tr>\n",
       "    <tr>\n",
       "      <th>1</th>\n",
       "      <td>2013</td>\n",
       "      <td>Altera a Instrução Normativa SRF nº 588, de 21...</td>\n",
       "      <td>39255</td>\n",
       "      <td>1260829</td>\n",
       "      <td>1</td>\n",
       "      <td>42</td>\n",
       "      <td>999</td>\n",
       "      <td>Alteração</td>\n",
       "      <td>Instrução Normativa</td>\n",
       "      <td>Não Identificado</td>\n",
       "      <td>RedaÃ§Ã£o dada</td>\n",
       "      <td>“Art. 17. As entidades fechadas de previdência...</td>\n",
       "      <td>ALT</td>\n",
       "      <td>1</td>\n",
       "      <td>alterar instrucao normativo srf dezembro dispo...</td>\n",
       "      <td>alterar dispoe beneficiar vidar clausular prov...</td>\n",
       "      <td>art entidade fechar previdencia complementar i...</td>\n",
       "      <td>fechar impor render dever lucrar liquidar</td>\n",
       "      <td>alterar dispoe beneficiar vidar clausular prov...</td>\n",
       "      <td>alterar instrucao normativo srf dezembro dispo...</td>\n",
       "    </tr>\n",
       "    <tr>\n",
       "      <th>10</th>\n",
       "      <td>2013</td>\n",
       "      <td>Altera a Instrução Normativa SRF nº 386, de 14...</td>\n",
       "      <td>39322</td>\n",
       "      <td>1264027</td>\n",
       "      <td>3</td>\n",
       "      <td>42</td>\n",
       "      <td>5</td>\n",
       "      <td>Inclusão</td>\n",
       "      <td>Instrução Normativa</td>\n",
       "      <td>Parágrafo</td>\n",
       "      <td>INC</td>\n",
       "      <td>§ 3º Na hipótese de exigência de controle admi...</td>\n",
       "      <td>INC</td>\n",
       "      <td>1</td>\n",
       "      <td>alterar instrucao normativo srf janeiro dispoe...</td>\n",
       "      <td>alterar dispoe depositar</td>\n",
       "      <td>hipotese exigencia controlo administrativo par...</td>\n",
       "      <td>exigencia partir despachar consumir mercadoria...</td>\n",
       "      <td>alterar dispoe depositar exigencia partir desp...</td>\n",
       "      <td>alterar instrucao normativo srf janeiro dispoe...</td>\n",
       "    </tr>\n",
       "    <tr>\n",
       "      <th>100</th>\n",
       "      <td>2013</td>\n",
       "      <td>Dispõe sobre a instituição de códigos de recei...</td>\n",
       "      <td>39584</td>\n",
       "      <td>1271069</td>\n",
       "      <td>9</td>\n",
       "      <td>9</td>\n",
       "      <td>15</td>\n",
       "      <td>Revogação</td>\n",
       "      <td>Ato Declaratório Executivo</td>\n",
       "      <td>Inciso</td>\n",
       "      <td>RVO</td>\n",
       "      <td>I - o Ato Declaratório Executivo Codac nº 31, ...</td>\n",
       "      <td>EXC</td>\n",
       "      <td>1</td>\n",
       "      <td>dispoe instituicao codigos caso especificar co...</td>\n",
       "      <td>dispoe especificar consolidar indevido</td>\n",
       "      <td>atar declaratorio executivo codac abril</td>\n",
       "      <td>atar codac</td>\n",
       "      <td>dispoe especificar consolidar indevido atar codac</td>\n",
       "      <td>dispoe instituicao codigos caso especificar co...</td>\n",
       "    </tr>\n",
       "    <tr>\n",
       "      <th>1000</th>\n",
       "      <td>2013</td>\n",
       "      <td>Altera a Instrução Normativa nº 1.307, de 27 d...</td>\n",
       "      <td>45387</td>\n",
       "      <td>1334040</td>\n",
       "      <td>1</td>\n",
       "      <td>42</td>\n",
       "      <td>15</td>\n",
       "      <td>Alteração</td>\n",
       "      <td>Instrução Normativa</td>\n",
       "      <td>Inciso</td>\n",
       "      <td>RedaÃ§Ã£o dada</td>\n",
       "      <td>XII - a Secretaria Especial de Portos, no que ...</td>\n",
       "      <td>ALT</td>\n",
       "      <td>1</td>\n",
       "      <td>alterar instrucao normativo dezembro dispoe de...</td>\n",
       "      <td>alterar dispoe</td>\n",
       "      <td>xii secretariar especial porto respeitar proje...</td>\n",
       "      <td>secretariar respeitar reidi aprovar</td>\n",
       "      <td>alterar dispoe secretariar respeitar reidi apr...</td>\n",
       "      <td>alterar instrucao normativo dezembro dispoe de...</td>\n",
       "    </tr>\n",
       "  </tbody>\n",
       "</table>\n",
       "</div>"
      ],
      "text/plain": [
       "       ano                                             ementa  idAto  \\\n",
       "0     2013  Autoriza exportação de cigarros do estabelecim...  39246   \n",
       "1     2013  Altera a Instrução Normativa SRF nº 588, de 21...  39255   \n",
       "10    2013  Altera a Instrução Normativa SRF nº 386, de 14...  39322   \n",
       "100   2013  Dispõe sobre a instituição de códigos de recei...  39584   \n",
       "1000  2013  Altera a Instrução Normativa nº 1.307, de 27 d...  45387   \n",
       "\n",
       "      idSegmento  idTipoAnotacao  idTipoAto  idTipoSegmento nomeTipoAnotacao  \\\n",
       "0        1260061              24          9               3             Vide   \n",
       "1        1260829               1         42             999        Alteração   \n",
       "10       1264027               3         42               5         Inclusão   \n",
       "100      1271069               9          9              15        Revogação   \n",
       "1000     1334040               1         42              15        Alteração   \n",
       "\n",
       "                     nomeTipoAto  nomeTipoSegmento siglaTipoAnotacao  \\\n",
       "0     Ato Declaratório Executivo            Artigo               VID   \n",
       "1            Instrução Normativa  Não Identificado   RedaÃ§Ã£o dada    \n",
       "10           Instrução Normativa         Parágrafo               INC   \n",
       "100   Ato Declaratório Executivo            Inciso               RVO   \n",
       "1000         Instrução Normativa            Inciso   RedaÃ§Ã£o dada    \n",
       "\n",
       "                                           textoIntegra tipoSolucao  \\\n",
       "0     Art. 2º A autorização de que trata o art. 1º f...         REF   \n",
       "1     “Art. 17. As entidades fechadas de previdência...         ALT   \n",
       "10    § 3º Na hipótese de exigência de controle admi...         INC   \n",
       "100   I - o Ato Declaratório Executivo Codac nº 31, ...         EXC   \n",
       "1000  XII - a Secretaria Especial de Portos, no que ...         ALT   \n",
       "\n",
       "      versaoSegmento                                        ementalimpa  \\\n",
       "0                  1  autorizar exportacao cigarro estabelecimento e...   \n",
       "1                  1  alterar instrucao normativo srf dezembro dispo...   \n",
       "10                 1  alterar instrucao normativo srf janeiro dispoe...   \n",
       "100                1  dispoe instituicao codigos caso especificar co...   \n",
       "1000               1  alterar instrucao normativo dezembro dispoe de...   \n",
       "\n",
       "                                           verbosEmenta  \\\n",
       "0                                   autorizar inscrever   \n",
       "1     alterar dispoe beneficiar vidar clausular prov...   \n",
       "10                             alterar dispoe depositar   \n",
       "100              dispoe especificar consolidar indevido   \n",
       "1000                                     alterar dispoe   \n",
       "\n",
       "                                      textoIntegraLimpo  \\\n",
       "0     art autorizacao tratar art ficar condicionar c...   \n",
       "1     art entidade fechar previdencia complementar i...   \n",
       "10    hipotese exigencia controlo administrativo par...   \n",
       "100            atar declaratorio executivo codac abril    \n",
       "1000  xii secretariar especial porto respeitar proje...   \n",
       "\n",
       "                                     verbosTextoIntegra  \\\n",
       "0              tratar ficar condicionar referir incisar   \n",
       "1             fechar impor render dever lucrar liquidar   \n",
       "10    exigencia partir despachar consumir mercadoria...   \n",
       "100                                          atar codac   \n",
       "1000                secretariar respeitar reidi aprovar   \n",
       "\n",
       "                                                 verbos  \\\n",
       "0     autorizar inscrever tratar ficar condicionar r...   \n",
       "1     alterar dispoe beneficiar vidar clausular prov...   \n",
       "10    alterar dispoe depositar exigencia partir desp...   \n",
       "100   dispoe especificar consolidar indevido atar codac   \n",
       "1000  alterar dispoe secretariar respeitar reidi apr...   \n",
       "\n",
       "                                             textoTotal  \n",
       "0     autorizar exportacao cigarro estabelecimento e...  \n",
       "1     alterar instrucao normativo srf dezembro dispo...  \n",
       "10    alterar instrucao normativo srf janeiro dispoe...  \n",
       "100   dispoe instituicao codigos caso especificar co...  \n",
       "1000  alterar instrucao normativo dezembro dispoe de...  "
      ]
     },
     "execution_count": 18,
     "metadata": {},
     "output_type": "execute_result"
    }
   ],
   "source": [
    "\n",
    "#Para os segmentos que não anotam não faz sentido usar a ementa nem seus verbos\n",
    "valores = {'idTipoAnotacao': 0, 'nomeTipoAnotacao':'Não anota','verbosEmenta':'','ementalimpa':''}\n",
    "dfAlvoAnota.fillna(value = valores, inplace = True)\n",
    "\n",
    "#colunas que não importam para o tratamento de textos\n",
    "#limpar = ['ano','ementa','idAto','idTipoAto','idTipoSegmento','nomeTipoAto','nomeTipoSegmento','siglaTipoAnotacao','tipoSolucao','versaoSegmento']\n",
    "#dfAlvoAnota.drop(limpar,axis=1, inplace=True)\n",
    "\n",
    "#Gerando arquivo \n",
    "dfAlvoAnota['verbos'] = dfAlvoAnota['verbosEmenta']+ \" \"  + dfAlvoAnota['verbosTextoIntegra']\n",
    "dfAlvoAnota['textoTotal'] = dfAlvoAnota['ementalimpa']+ \" \"  + dfAlvoAnota['textoIntegraLimpo']\n",
    "dfAlvoAnota.to_json(caminhoDados+'dfAlvoAnota.json')\n",
    "dfAlvoAnota  = pd.read_json(caminhoDados+'dfAlvoAnota.json') \n",
    "dfAlvoAnota.head()"
   ]
  }
 ],
 "metadata": {
  "colab": {
   "name": "Cópia de AnaliseExploratoria.ipynb",
   "provenance": [
    {
     "file_id": "https://github.com/taisescr/tcccimatec/blob/main/AnaliseExploratoria.ipynb",
     "timestamp": 1625240353922
    }
   ]
  },
  "kernelspec": {
   "display_name": "Python 3",
   "language": "python",
   "name": "python3"
  },
  "language_info": {
   "codemirror_mode": {
    "name": "ipython",
    "version": 3
   },
   "file_extension": ".py",
   "mimetype": "text/x-python",
   "name": "python",
   "nbconvert_exporter": "python",
   "pygments_lexer": "ipython3",
   "version": "3.7.3"
  }
 },
 "nbformat": 4,
 "nbformat_minor": 1
}
