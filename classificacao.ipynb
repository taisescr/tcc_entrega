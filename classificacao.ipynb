{
 "cells": [
  {
   "cell_type": "code",
   "execution_count": 1,
   "metadata": {},
   "outputs": [],
   "source": [
    "import pandas as pd\n",
    "from libs import preprocessa, modelos, vo_X, metricas\n",
    "from imblearn.over_sampling import SMOTE\n",
    "from imblearn.under_sampling import NearMiss\n",
    "random_state=26"
   ]
  },
  {
   "cell_type": "code",
   "execution_count": 2,
   "metadata": {},
   "outputs": [],
   "source": [
    "#Se estiver rodando localmente \n",
    "caminhoDados=\"dados/\"\n",
    "\n",
    "#Esse json é gerado no notebook TrataSegmentosAnotam.ipynb\n",
    "df  = pd.read_json(caminhoDados+'dfAlvoAnota.json') \n",
    "vocabulario = df[\"textoTotal\"]\n"
   ]
  },
  {
   "cell_type": "code",
   "execution_count": 3,
   "metadata": {},
   "outputs": [],
   "source": [
    "#filtrar as classes mais relevantes a partir de 0.5% de presença\n",
    "classesInteresse = [1,3,9,22,24,13,10,4,25]\n",
    "\n",
    "#União Alt e inc\n",
    "df =  df[df['idTipoAnotacao'].isin(classesInteresse)]\n",
    "df.loc[df['idTipoAnotacao'] == 3, 'idTipoAnotacao'] = 1\n",
    "\n",
    "#dfInteresse.groupby(['idTipoAnotacao','nomeTipoAnotacao']).idSegmento.count()\n"
   ]
  },
  {
   "cell_type": "code",
   "execution_count": 4,
   "metadata": {},
   "outputs": [],
   "source": [
    "##Atributos iniciais\n",
    "y = df['idTipoAnotacao']\n",
    "\n",
    "dadosOriginais = []\n",
    "x = preprocessa.vetorizaTFIDF(vocabulario,df[\"textoIntegraLimpo\"].astype(str))\n",
    "dadosOriginais.append(vo_X.vo_X(x,y,\"Segmento\"))\n",
    "\n",
    "x = preprocessa.vetorizaTFIDF(vocabulario,df[\"verbosTextoIntegra\"].astype(str))\n",
    "dadosOriginais.append(vo_X.vo_X(x,y,\"VerbosSegmento\"))\n",
    "\n",
    "x = preprocessa.vetorizaTFIDF(vocabulario,df[\"textoTotal\"].astype(str))\n",
    "dadosOriginais.append(vo_X.vo_X(x,y,\"Segmento+Ementa\"))\n",
    "\n",
    "x = preprocessa.vetorizaTFIDF(vocabulario,df[\"verbos\"].astype(str))\n",
    "dadosOriginais.append(vo_X.vo_X(x,y,\"TodosVerbos\"))\n"
   ]
  },
  {
   "cell_type": "code",
   "execution_count": 5,
   "metadata": {},
   "outputs": [],
   "source": [
    "## Seleção Atributos\n",
    "dadosChi = []\n",
    "for dados in dadosOriginais:\n",
    "    xChi1 = preprocessa.seleciona(vocabulario,dados.x, y,0.1)\n",
    "    dadosChi.append(vo_X.vo_X(xChi1,y, dados.estrategia + \" Chi 0.1\"))\n",
    "    \n",
    "    xChi25 = preprocessa.seleciona(vocabulario,dados.x, y,0.25)\n",
    "    dadosChi.append(vo_X.vo_X(xChi25,y, dados.estrategia + \" Chi 0.25\"))\n",
    "    \n",
    "    xChi50 = preprocessa.seleciona(vocabulario,dados.x, y,0.5)\n",
    "    dadosChi.append(vo_X.vo_X(xChi50,y, dados.estrategia + \" Chi 0.5\"))\n",
    "    \n",
    "   "
   ]
  },
  {
   "cell_type": "code",
   "execution_count": 6,
   "metadata": {},
   "outputs": [],
   "source": [
    "#Reamostragem Smote\n",
    "smote = SMOTE(random_state=random_state)\n",
    "dadosSmote = []\n",
    "for dados in dadosOriginais:     \n",
    "    xs, ys = smote.fit_sample(dados.x,y)\n",
    "    dadosSmote.append(vo_X.vo_X(xs, ys, dados.estrategia + \" Smote\"))\n",
    "    \n",
    "for dados in dadosChi:     \n",
    "    xs, ys = smote.fit_sample(dados.x,y)\n",
    "    dadosSmote.append(vo_X.vo_X(xs, ys, dados.estrategia + \" Smote\"))"
   ]
  },
  {
   "cell_type": "code",
   "execution_count": 7,
   "metadata": {},
   "outputs": [],
   "source": [
    "#Reamostragem NearMiss\n",
    "sampler = NearMiss()\n",
    "dadosNearMiss = []\n",
    "\n",
    "for dados in dadosOriginais: \n",
    "    xn, yn = sampler.fit_resample(dados.x,y)\n",
    "    dadosNearMiss.append(vo_X.vo_X(xn, yn, dados.estrategia + \" NearMiss\"))\n",
    "\n",
    "for dados in dadosChi:\n",
    "    xn, yn = sampler.fit_resample(dados.x,y)\n",
    "    dadosNearMiss.append(vo_X.vo_X(xn, yn, dados.estrategia + \" NearMiss\"))\n"
   ]
  },
  {
   "cell_type": "code",
   "execution_count": 8,
   "metadata": {},
   "outputs": [],
   "source": [
    "listaDados = [*dadosOriginais, *dadosChi, *dadosSmote, *dadosNearMiss]"
   ]
  },
  {
   "cell_type": "code",
   "execution_count": 9,
   "metadata": {},
   "outputs": [],
   "source": [
    "resultadoGeral = []\n",
    "for dados in listaDados:\n",
    "    classificadores = modelos.classificadores()\n",
    "    classificadores.LSVC = True\n",
    "    classificadores.MNB = True\n",
    "    resultadosClassificacao =  classificadores.classificar(dados.x,dados.y)\n",
    "    for res in resultadosClassificacao:\n",
    "        res.insert(1, dados.estrategia) \n",
    "    resultadoGeral.extend(resultadosClassificacao)   "
   ]
  },
  {
   "cell_type": "code",
   "execution_count": 10,
   "metadata": {},
   "outputs": [
    {
     "output_type": "execute_result",
     "data": {
      "text/plain": [
       "         Modelo                         Estratégia  Acurácia %      DP  \\\n",
       "36          SVM              Segmento+Ementa Smote       98.90  0.0084   \n",
       "32          SVM                     Segmento Smote       97.60  0.0044   \n",
       "56          SVM      Segmento+Ementa Chi 0.5 Smote       96.96  0.0090   \n",
       "62          SVM          TodosVerbos Chi 0.5 Smote       96.39  0.0070   \n",
       "38          SVM                  TodosVerbos Smote       96.25  0.0076   \n",
       "60          SVM         TodosVerbos Chi 0.25 Smote       95.76  0.0073   \n",
       "54          SVM     Segmento+Ementa Chi 0.25 Smote       95.47  0.0095   \n",
       "33  Naive Bayes                     Segmento Smote       94.68  0.0056   \n",
       "44          SVM             Segmento Chi 0.5 Smote       94.28  0.0033   \n",
       "37  Naive Bayes              Segmento+Ementa Smote       93.98  0.0137   \n",
       "52          SVM      Segmento+Ementa Chi 0.1 Smote       93.80  0.0094   \n",
       "58          SVM          TodosVerbos Chi 0.1 Smote       93.38  0.0078   \n",
       "50          SVM       VerbosSegmento Chi 0.5 Smote       92.60  0.0122   \n",
       "42          SVM            Segmento Chi 0.25 Smote       92.47  0.0027   \n",
       "34          SVM               VerbosSegmento Smote       92.54  0.0119   \n",
       "48          SVM      VerbosSegmento Chi 0.25 Smote       91.98  0.0091   \n",
       "40          SVM             Segmento Chi 0.1 Smote       89.87  0.0041   \n",
       "46          SVM       VerbosSegmento Chi 0.1 Smote       89.17  0.0065   \n",
       "45  Naive Bayes             Segmento Chi 0.5 Smote       88.64  0.0083   \n",
       "57  Naive Bayes      Segmento+Ementa Chi 0.5 Smote       88.23  0.0113   \n",
       "63  Naive Bayes          TodosVerbos Chi 0.5 Smote       88.04  0.0096   \n",
       "51  Naive Bayes       VerbosSegmento Chi 0.5 Smote       87.51  0.0089   \n",
       "61  Naive Bayes         TodosVerbos Chi 0.25 Smote       86.91  0.0101   \n",
       "35  Naive Bayes               VerbosSegmento Smote       86.82  0.0092   \n",
       "49  Naive Bayes      VerbosSegmento Chi 0.25 Smote       86.52  0.0101   \n",
       "39  Naive Bayes                  TodosVerbos Smote       86.23  0.0093   \n",
       "55  Naive Bayes     Segmento+Ementa Chi 0.25 Smote       85.73  0.0136   \n",
       "68          SVM           Segmento+Ementa NearMiss       86.20  0.0784   \n",
       "59  Naive Bayes          TodosVerbos Chi 0.1 Smote       84.33  0.0120   \n",
       "47  Naive Bayes       VerbosSegmento Chi 0.1 Smote       84.14  0.0119   \n",
       "..          ...                                ...         ...     ...   \n",
       "87  Naive Bayes  Segmento+Ementa Chi 0.25 NearMiss       64.78  0.1031   \n",
       "66          SVM            VerbosSegmento NearMiss       63.80  0.1055   \n",
       "78          SVM    VerbosSegmento Chi 0.1 NearMiss       63.80  0.0603   \n",
       "75  Naive Bayes         Segmento Chi 0.25 NearMiss       62.83  0.1005   \n",
       "77  Naive Bayes          Segmento Chi 0.5 NearMiss       60.76  0.0934   \n",
       "73  Naive Bayes          Segmento Chi 0.1 NearMiss       58.26  0.1019   \n",
       "95  Naive Bayes       TodosVerbos Chi 0.5 NearMiss       56.09  0.1090   \n",
       "81  Naive Bayes   VerbosSegmento Chi 0.25 NearMiss       56.85  0.1157   \n",
       "93  Naive Bayes      TodosVerbos Chi 0.25 NearMiss       55.87  0.0987   \n",
       "67  Naive Bayes            VerbosSegmento NearMiss       57.07  0.0985   \n",
       "71  Naive Bayes               TodosVerbos NearMiss       55.33  0.0907   \n",
       "83  Naive Bayes    VerbosSegmento Chi 0.5 NearMiss       56.63  0.1130   \n",
       "79  Naive Bayes    VerbosSegmento Chi 0.1 NearMiss       53.48  0.0566   \n",
       "23  Naive Bayes           Segmento+Ementa Chi 0.25       82.25  0.0236   \n",
       "27  Naive Bayes                TodosVerbos Chi 0.1       84.85  0.0308   \n",
       "21  Naive Bayes            Segmento+Ementa Chi 0.1       80.09  0.0262   \n",
       "91  Naive Bayes       TodosVerbos Chi 0.1 NearMiss       50.00  0.1056   \n",
       "25  Naive Bayes            Segmento+Ementa Chi 0.5       82.92  0.0193   \n",
       "15  Naive Bayes             VerbosSegmento Chi 0.1       84.96  0.0271   \n",
       "17  Naive Bayes            VerbosSegmento Chi 0.25       85.49  0.0251   \n",
       "29  Naive Bayes               TodosVerbos Chi 0.25       83.61  0.0588   \n",
       "19  Naive Bayes             VerbosSegmento Chi 0.5       85.29  0.0271   \n",
       "31  Naive Bayes                TodosVerbos Chi 0.5       83.35  0.0594   \n",
       "13  Naive Bayes                   Segmento Chi 0.5       83.03  0.0228   \n",
       "1   Naive Bayes                           Segmento       84.39  0.0162   \n",
       "11  Naive Bayes                  Segmento Chi 0.25       81.36  0.0310   \n",
       "9   Naive Bayes                   Segmento Chi 0.1       79.48  0.0374   \n",
       "5   Naive Bayes                    Segmento+Ementa       79.52  0.0498   \n",
       "3   Naive Bayes                     VerbosSegmento       81.47  0.0320   \n",
       "7   Naive Bayes                        TodosVerbos       80.24  0.0216   \n",
       "\n",
       "    Precisão      DP  Revocação      DP     F1      DP  \n",
       "36     98.97  0.0069      98.90  0.0084  98.89  0.0086  \n",
       "32     97.84  0.0035      97.60  0.0044  97.63  0.0043  \n",
       "56     96.98  0.0086      96.96  0.0090  96.93  0.0094  \n",
       "62     96.58  0.0058      96.39  0.0070  96.38  0.0074  \n",
       "38     96.45  0.0063      96.25  0.0076  96.24  0.0080  \n",
       "60     95.96  0.0060      95.76  0.0073  95.74  0.0078  \n",
       "54     95.57  0.0097      95.47  0.0095  95.44  0.0099  \n",
       "33     94.75  0.0056      94.68  0.0056  94.58  0.0058  \n",
       "44     95.00  0.0026      94.28  0.0033  94.36  0.0031  \n",
       "37     94.13  0.0118      93.98  0.0137  93.90  0.0145  \n",
       "52     93.95  0.0093      93.80  0.0094  93.76  0.0095  \n",
       "58     93.57  0.0077      93.38  0.0078  93.35  0.0082  \n",
       "50     93.52  0.0064      92.60  0.0122  92.70  0.0115  \n",
       "42     93.65  0.0028      92.47  0.0027  92.66  0.0026  \n",
       "34     93.48  0.0059      92.54  0.0119  92.64  0.0112  \n",
       "48     92.78  0.0072      91.98  0.0091  92.05  0.0092  \n",
       "40     91.59  0.0042      89.87  0.0041  90.10  0.0041  \n",
       "46     90.95  0.0053      89.17  0.0065  89.49  0.0061  \n",
       "45     88.72  0.0082      88.64  0.0083  88.31  0.0088  \n",
       "57     88.82  0.0118      88.22  0.0113  88.16  0.0109  \n",
       "63     88.82  0.0092      88.04  0.0096  87.95  0.0092  \n",
       "51     88.45  0.0067      87.51  0.0089  87.53  0.0084  \n",
       "61     87.98  0.0102      86.91  0.0101  86.83  0.0097  \n",
       "35     87.87  0.0057      86.82  0.0092  86.79  0.0085  \n",
       "49     87.60  0.0077      86.52  0.0101  86.55  0.0097  \n",
       "39     87.55  0.0080      86.23  0.0093  85.99  0.0088  \n",
       "55     86.42  0.0133      85.73  0.0136  85.50  0.0129  \n",
       "68     87.61  0.0728      85.98  0.0793  85.24  0.0874  \n",
       "59     85.40  0.0119      84.33  0.0120  84.15  0.0111  \n",
       "47     85.44  0.0098      84.14  0.0119  84.13  0.0117  \n",
       "..       ...     ...        ...     ...    ...     ...  \n",
       "87     63.82  0.1428      64.79  0.1023  60.61  0.1230  \n",
       "66     61.22  0.1080      63.83  0.1079  59.69  0.1115  \n",
       "78     62.43  0.0500      63.59  0.0596  59.56  0.0649  \n",
       "75     59.05  0.1077      63.05  0.1005  57.49  0.1081  \n",
       "77     56.16  0.0925      60.99  0.0932  55.34  0.0954  \n",
       "73     55.90  0.0714      58.36  0.1019  52.98  0.1015  \n",
       "95     53.79  0.1018      56.13  0.1122  51.72  0.1175  \n",
       "81     55.67  0.1216      57.03  0.1188  51.12  0.1296  \n",
       "93     52.93  0.0847      55.86  0.1013  50.99  0.1089  \n",
       "67     52.91  0.0742      57.22  0.1003  50.99  0.0989  \n",
       "71     52.46  0.0925      55.27  0.0925  50.87  0.0970  \n",
       "83     50.09  0.1313      56.77  0.1154  49.89  0.1240  \n",
       "79     49.87  0.0610      53.49  0.0564  47.02  0.0538  \n",
       "23     74.51  0.1163      39.67  0.0498  46.52  0.0613  \n",
       "27     63.10  0.0789      41.16  0.0457  46.24  0.0500  \n",
       "21     78.96  0.0901      37.52  0.0463  45.28  0.0565  \n",
       "91     45.54  0.1141      50.14  0.1046  44.81  0.1117  \n",
       "25     67.13  0.0600      37.77  0.0524  43.29  0.0634  \n",
       "15     53.52  0.1083      35.96  0.0358  39.82  0.0494  \n",
       "17     45.45  0.0617      35.26  0.0334  38.20  0.0432  \n",
       "29     47.08  0.0735      34.56  0.0259  37.04  0.0246  \n",
       "19     42.58  0.0504      32.99  0.0287  35.32  0.0282  \n",
       "31     40.45  0.0253      33.16  0.0303  35.25  0.0302  \n",
       "13     47.67  0.0571      31.09  0.0322  33.94  0.0439  \n",
       "1      46.19  0.0683      31.35  0.0378  33.37  0.0481  \n",
       "11     51.95  0.0835      29.67  0.0305  32.85  0.0415  \n",
       "9      58.93  0.1236      27.79  0.0300  31.21  0.0395  \n",
       "5      41.08  0.0302      28.04  0.0301  30.63  0.0344  \n",
       "3      42.85  0.0682      26.25  0.0275  28.14  0.0289  \n",
       "7      41.95  0.0536      25.33  0.0195  27.64  0.0233  \n",
       "\n",
       "[96 rows x 10 columns]"
      ],
      "text/html": "<div>\n<style scoped>\n    .dataframe tbody tr th:only-of-type {\n        vertical-align: middle;\n    }\n\n    .dataframe tbody tr th {\n        vertical-align: top;\n    }\n\n    .dataframe thead th {\n        text-align: right;\n    }\n</style>\n<table border=\"1\" class=\"dataframe\">\n  <thead>\n    <tr style=\"text-align: right;\">\n      <th></th>\n      <th>Modelo</th>\n      <th>Estratégia</th>\n      <th>Acurácia %</th>\n      <th>DP</th>\n      <th>Precisão</th>\n      <th>DP</th>\n      <th>Revocação</th>\n      <th>DP</th>\n      <th>F1</th>\n      <th>DP</th>\n    </tr>\n  </thead>\n  <tbody>\n    <tr>\n      <th>36</th>\n      <td>SVM</td>\n      <td>Segmento+Ementa Smote</td>\n      <td>98.90</td>\n      <td>0.0084</td>\n      <td>98.97</td>\n      <td>0.0069</td>\n      <td>98.90</td>\n      <td>0.0084</td>\n      <td>98.89</td>\n      <td>0.0086</td>\n    </tr>\n    <tr>\n      <th>32</th>\n      <td>SVM</td>\n      <td>Segmento Smote</td>\n      <td>97.60</td>\n      <td>0.0044</td>\n      <td>97.84</td>\n      <td>0.0035</td>\n      <td>97.60</td>\n      <td>0.0044</td>\n      <td>97.63</td>\n      <td>0.0043</td>\n    </tr>\n    <tr>\n      <th>56</th>\n      <td>SVM</td>\n      <td>Segmento+Ementa Chi 0.5 Smote</td>\n      <td>96.96</td>\n      <td>0.0090</td>\n      <td>96.98</td>\n      <td>0.0086</td>\n      <td>96.96</td>\n      <td>0.0090</td>\n      <td>96.93</td>\n      <td>0.0094</td>\n    </tr>\n    <tr>\n      <th>62</th>\n      <td>SVM</td>\n      <td>TodosVerbos Chi 0.5 Smote</td>\n      <td>96.39</td>\n      <td>0.0070</td>\n      <td>96.58</td>\n      <td>0.0058</td>\n      <td>96.39</td>\n      <td>0.0070</td>\n      <td>96.38</td>\n      <td>0.0074</td>\n    </tr>\n    <tr>\n      <th>38</th>\n      <td>SVM</td>\n      <td>TodosVerbos Smote</td>\n      <td>96.25</td>\n      <td>0.0076</td>\n      <td>96.45</td>\n      <td>0.0063</td>\n      <td>96.25</td>\n      <td>0.0076</td>\n      <td>96.24</td>\n      <td>0.0080</td>\n    </tr>\n    <tr>\n      <th>60</th>\n      <td>SVM</td>\n      <td>TodosVerbos Chi 0.25 Smote</td>\n      <td>95.76</td>\n      <td>0.0073</td>\n      <td>95.96</td>\n      <td>0.0060</td>\n      <td>95.76</td>\n      <td>0.0073</td>\n      <td>95.74</td>\n      <td>0.0078</td>\n    </tr>\n    <tr>\n      <th>54</th>\n      <td>SVM</td>\n      <td>Segmento+Ementa Chi 0.25 Smote</td>\n      <td>95.47</td>\n      <td>0.0095</td>\n      <td>95.57</td>\n      <td>0.0097</td>\n      <td>95.47</td>\n      <td>0.0095</td>\n      <td>95.44</td>\n      <td>0.0099</td>\n    </tr>\n    <tr>\n      <th>33</th>\n      <td>Naive Bayes</td>\n      <td>Segmento Smote</td>\n      <td>94.68</td>\n      <td>0.0056</td>\n      <td>94.75</td>\n      <td>0.0056</td>\n      <td>94.68</td>\n      <td>0.0056</td>\n      <td>94.58</td>\n      <td>0.0058</td>\n    </tr>\n    <tr>\n      <th>44</th>\n      <td>SVM</td>\n      <td>Segmento Chi 0.5 Smote</td>\n      <td>94.28</td>\n      <td>0.0033</td>\n      <td>95.00</td>\n      <td>0.0026</td>\n      <td>94.28</td>\n      <td>0.0033</td>\n      <td>94.36</td>\n      <td>0.0031</td>\n    </tr>\n    <tr>\n      <th>37</th>\n      <td>Naive Bayes</td>\n      <td>Segmento+Ementa Smote</td>\n      <td>93.98</td>\n      <td>0.0137</td>\n      <td>94.13</td>\n      <td>0.0118</td>\n      <td>93.98</td>\n      <td>0.0137</td>\n      <td>93.90</td>\n      <td>0.0145</td>\n    </tr>\n    <tr>\n      <th>52</th>\n      <td>SVM</td>\n      <td>Segmento+Ementa Chi 0.1 Smote</td>\n      <td>93.80</td>\n      <td>0.0094</td>\n      <td>93.95</td>\n      <td>0.0093</td>\n      <td>93.80</td>\n      <td>0.0094</td>\n      <td>93.76</td>\n      <td>0.0095</td>\n    </tr>\n    <tr>\n      <th>58</th>\n      <td>SVM</td>\n      <td>TodosVerbos Chi 0.1 Smote</td>\n      <td>93.38</td>\n      <td>0.0078</td>\n      <td>93.57</td>\n      <td>0.0077</td>\n      <td>93.38</td>\n      <td>0.0078</td>\n      <td>93.35</td>\n      <td>0.0082</td>\n    </tr>\n    <tr>\n      <th>50</th>\n      <td>SVM</td>\n      <td>VerbosSegmento Chi 0.5 Smote</td>\n      <td>92.60</td>\n      <td>0.0122</td>\n      <td>93.52</td>\n      <td>0.0064</td>\n      <td>92.60</td>\n      <td>0.0122</td>\n      <td>92.70</td>\n      <td>0.0115</td>\n    </tr>\n    <tr>\n      <th>42</th>\n      <td>SVM</td>\n      <td>Segmento Chi 0.25 Smote</td>\n      <td>92.47</td>\n      <td>0.0027</td>\n      <td>93.65</td>\n      <td>0.0028</td>\n      <td>92.47</td>\n      <td>0.0027</td>\n      <td>92.66</td>\n      <td>0.0026</td>\n    </tr>\n    <tr>\n      <th>34</th>\n      <td>SVM</td>\n      <td>VerbosSegmento Smote</td>\n      <td>92.54</td>\n      <td>0.0119</td>\n      <td>93.48</td>\n      <td>0.0059</td>\n      <td>92.54</td>\n      <td>0.0119</td>\n      <td>92.64</td>\n      <td>0.0112</td>\n    </tr>\n    <tr>\n      <th>48</th>\n      <td>SVM</td>\n      <td>VerbosSegmento Chi 0.25 Smote</td>\n      <td>91.98</td>\n      <td>0.0091</td>\n      <td>92.78</td>\n      <td>0.0072</td>\n      <td>91.98</td>\n      <td>0.0091</td>\n      <td>92.05</td>\n      <td>0.0092</td>\n    </tr>\n    <tr>\n      <th>40</th>\n      <td>SVM</td>\n      <td>Segmento Chi 0.1 Smote</td>\n      <td>89.87</td>\n      <td>0.0041</td>\n      <td>91.59</td>\n      <td>0.0042</td>\n      <td>89.87</td>\n      <td>0.0041</td>\n      <td>90.10</td>\n      <td>0.0041</td>\n    </tr>\n    <tr>\n      <th>46</th>\n      <td>SVM</td>\n      <td>VerbosSegmento Chi 0.1 Smote</td>\n      <td>89.17</td>\n      <td>0.0065</td>\n      <td>90.95</td>\n      <td>0.0053</td>\n      <td>89.17</td>\n      <td>0.0065</td>\n      <td>89.49</td>\n      <td>0.0061</td>\n    </tr>\n    <tr>\n      <th>45</th>\n      <td>Naive Bayes</td>\n      <td>Segmento Chi 0.5 Smote</td>\n      <td>88.64</td>\n      <td>0.0083</td>\n      <td>88.72</td>\n      <td>0.0082</td>\n      <td>88.64</td>\n      <td>0.0083</td>\n      <td>88.31</td>\n      <td>0.0088</td>\n    </tr>\n    <tr>\n      <th>57</th>\n      <td>Naive Bayes</td>\n      <td>Segmento+Ementa Chi 0.5 Smote</td>\n      <td>88.23</td>\n      <td>0.0113</td>\n      <td>88.82</td>\n      <td>0.0118</td>\n      <td>88.22</td>\n      <td>0.0113</td>\n      <td>88.16</td>\n      <td>0.0109</td>\n    </tr>\n    <tr>\n      <th>63</th>\n      <td>Naive Bayes</td>\n      <td>TodosVerbos Chi 0.5 Smote</td>\n      <td>88.04</td>\n      <td>0.0096</td>\n      <td>88.82</td>\n      <td>0.0092</td>\n      <td>88.04</td>\n      <td>0.0096</td>\n      <td>87.95</td>\n      <td>0.0092</td>\n    </tr>\n    <tr>\n      <th>51</th>\n      <td>Naive Bayes</td>\n      <td>VerbosSegmento Chi 0.5 Smote</td>\n      <td>87.51</td>\n      <td>0.0089</td>\n      <td>88.45</td>\n      <td>0.0067</td>\n      <td>87.51</td>\n      <td>0.0089</td>\n      <td>87.53</td>\n      <td>0.0084</td>\n    </tr>\n    <tr>\n      <th>61</th>\n      <td>Naive Bayes</td>\n      <td>TodosVerbos Chi 0.25 Smote</td>\n      <td>86.91</td>\n      <td>0.0101</td>\n      <td>87.98</td>\n      <td>0.0102</td>\n      <td>86.91</td>\n      <td>0.0101</td>\n      <td>86.83</td>\n      <td>0.0097</td>\n    </tr>\n    <tr>\n      <th>35</th>\n      <td>Naive Bayes</td>\n      <td>VerbosSegmento Smote</td>\n      <td>86.82</td>\n      <td>0.0092</td>\n      <td>87.87</td>\n      <td>0.0057</td>\n      <td>86.82</td>\n      <td>0.0092</td>\n      <td>86.79</td>\n      <td>0.0085</td>\n    </tr>\n    <tr>\n      <th>49</th>\n      <td>Naive Bayes</td>\n      <td>VerbosSegmento Chi 0.25 Smote</td>\n      <td>86.52</td>\n      <td>0.0101</td>\n      <td>87.60</td>\n      <td>0.0077</td>\n      <td>86.52</td>\n      <td>0.0101</td>\n      <td>86.55</td>\n      <td>0.0097</td>\n    </tr>\n    <tr>\n      <th>39</th>\n      <td>Naive Bayes</td>\n      <td>TodosVerbos Smote</td>\n      <td>86.23</td>\n      <td>0.0093</td>\n      <td>87.55</td>\n      <td>0.0080</td>\n      <td>86.23</td>\n      <td>0.0093</td>\n      <td>85.99</td>\n      <td>0.0088</td>\n    </tr>\n    <tr>\n      <th>55</th>\n      <td>Naive Bayes</td>\n      <td>Segmento+Ementa Chi 0.25 Smote</td>\n      <td>85.73</td>\n      <td>0.0136</td>\n      <td>86.42</td>\n      <td>0.0133</td>\n      <td>85.73</td>\n      <td>0.0136</td>\n      <td>85.50</td>\n      <td>0.0129</td>\n    </tr>\n    <tr>\n      <th>68</th>\n      <td>SVM</td>\n      <td>Segmento+Ementa NearMiss</td>\n      <td>86.20</td>\n      <td>0.0784</td>\n      <td>87.61</td>\n      <td>0.0728</td>\n      <td>85.98</td>\n      <td>0.0793</td>\n      <td>85.24</td>\n      <td>0.0874</td>\n    </tr>\n    <tr>\n      <th>59</th>\n      <td>Naive Bayes</td>\n      <td>TodosVerbos Chi 0.1 Smote</td>\n      <td>84.33</td>\n      <td>0.0120</td>\n      <td>85.40</td>\n      <td>0.0119</td>\n      <td>84.33</td>\n      <td>0.0120</td>\n      <td>84.15</td>\n      <td>0.0111</td>\n    </tr>\n    <tr>\n      <th>47</th>\n      <td>Naive Bayes</td>\n      <td>VerbosSegmento Chi 0.1 Smote</td>\n      <td>84.14</td>\n      <td>0.0119</td>\n      <td>85.44</td>\n      <td>0.0098</td>\n      <td>84.14</td>\n      <td>0.0119</td>\n      <td>84.13</td>\n      <td>0.0117</td>\n    </tr>\n    <tr>\n      <th>...</th>\n      <td>...</td>\n      <td>...</td>\n      <td>...</td>\n      <td>...</td>\n      <td>...</td>\n      <td>...</td>\n      <td>...</td>\n      <td>...</td>\n      <td>...</td>\n      <td>...</td>\n    </tr>\n    <tr>\n      <th>87</th>\n      <td>Naive Bayes</td>\n      <td>Segmento+Ementa Chi 0.25 NearMiss</td>\n      <td>64.78</td>\n      <td>0.1031</td>\n      <td>63.82</td>\n      <td>0.1428</td>\n      <td>64.79</td>\n      <td>0.1023</td>\n      <td>60.61</td>\n      <td>0.1230</td>\n    </tr>\n    <tr>\n      <th>66</th>\n      <td>SVM</td>\n      <td>VerbosSegmento NearMiss</td>\n      <td>63.80</td>\n      <td>0.1055</td>\n      <td>61.22</td>\n      <td>0.1080</td>\n      <td>63.83</td>\n      <td>0.1079</td>\n      <td>59.69</td>\n      <td>0.1115</td>\n    </tr>\n    <tr>\n      <th>78</th>\n      <td>SVM</td>\n      <td>VerbosSegmento Chi 0.1 NearMiss</td>\n      <td>63.80</td>\n      <td>0.0603</td>\n      <td>62.43</td>\n      <td>0.0500</td>\n      <td>63.59</td>\n      <td>0.0596</td>\n      <td>59.56</td>\n      <td>0.0649</td>\n    </tr>\n    <tr>\n      <th>75</th>\n      <td>Naive Bayes</td>\n      <td>Segmento Chi 0.25 NearMiss</td>\n      <td>62.83</td>\n      <td>0.1005</td>\n      <td>59.05</td>\n      <td>0.1077</td>\n      <td>63.05</td>\n      <td>0.1005</td>\n      <td>57.49</td>\n      <td>0.1081</td>\n    </tr>\n    <tr>\n      <th>77</th>\n      <td>Naive Bayes</td>\n      <td>Segmento Chi 0.5 NearMiss</td>\n      <td>60.76</td>\n      <td>0.0934</td>\n      <td>56.16</td>\n      <td>0.0925</td>\n      <td>60.99</td>\n      <td>0.0932</td>\n      <td>55.34</td>\n      <td>0.0954</td>\n    </tr>\n    <tr>\n      <th>73</th>\n      <td>Naive Bayes</td>\n      <td>Segmento Chi 0.1 NearMiss</td>\n      <td>58.26</td>\n      <td>0.1019</td>\n      <td>55.90</td>\n      <td>0.0714</td>\n      <td>58.36</td>\n      <td>0.1019</td>\n      <td>52.98</td>\n      <td>0.1015</td>\n    </tr>\n    <tr>\n      <th>95</th>\n      <td>Naive Bayes</td>\n      <td>TodosVerbos Chi 0.5 NearMiss</td>\n      <td>56.09</td>\n      <td>0.1090</td>\n      <td>53.79</td>\n      <td>0.1018</td>\n      <td>56.13</td>\n      <td>0.1122</td>\n      <td>51.72</td>\n      <td>0.1175</td>\n    </tr>\n    <tr>\n      <th>81</th>\n      <td>Naive Bayes</td>\n      <td>VerbosSegmento Chi 0.25 NearMiss</td>\n      <td>56.85</td>\n      <td>0.1157</td>\n      <td>55.67</td>\n      <td>0.1216</td>\n      <td>57.03</td>\n      <td>0.1188</td>\n      <td>51.12</td>\n      <td>0.1296</td>\n    </tr>\n    <tr>\n      <th>93</th>\n      <td>Naive Bayes</td>\n      <td>TodosVerbos Chi 0.25 NearMiss</td>\n      <td>55.87</td>\n      <td>0.0987</td>\n      <td>52.93</td>\n      <td>0.0847</td>\n      <td>55.86</td>\n      <td>0.1013</td>\n      <td>50.99</td>\n      <td>0.1089</td>\n    </tr>\n    <tr>\n      <th>67</th>\n      <td>Naive Bayes</td>\n      <td>VerbosSegmento NearMiss</td>\n      <td>57.07</td>\n      <td>0.0985</td>\n      <td>52.91</td>\n      <td>0.0742</td>\n      <td>57.22</td>\n      <td>0.1003</td>\n      <td>50.99</td>\n      <td>0.0989</td>\n    </tr>\n    <tr>\n      <th>71</th>\n      <td>Naive Bayes</td>\n      <td>TodosVerbos NearMiss</td>\n      <td>55.33</td>\n      <td>0.0907</td>\n      <td>52.46</td>\n      <td>0.0925</td>\n      <td>55.27</td>\n      <td>0.0925</td>\n      <td>50.87</td>\n      <td>0.0970</td>\n    </tr>\n    <tr>\n      <th>83</th>\n      <td>Naive Bayes</td>\n      <td>VerbosSegmento Chi 0.5 NearMiss</td>\n      <td>56.63</td>\n      <td>0.1130</td>\n      <td>50.09</td>\n      <td>0.1313</td>\n      <td>56.77</td>\n      <td>0.1154</td>\n      <td>49.89</td>\n      <td>0.1240</td>\n    </tr>\n    <tr>\n      <th>79</th>\n      <td>Naive Bayes</td>\n      <td>VerbosSegmento Chi 0.1 NearMiss</td>\n      <td>53.48</td>\n      <td>0.0566</td>\n      <td>49.87</td>\n      <td>0.0610</td>\n      <td>53.49</td>\n      <td>0.0564</td>\n      <td>47.02</td>\n      <td>0.0538</td>\n    </tr>\n    <tr>\n      <th>23</th>\n      <td>Naive Bayes</td>\n      <td>Segmento+Ementa Chi 0.25</td>\n      <td>82.25</td>\n      <td>0.0236</td>\n      <td>74.51</td>\n      <td>0.1163</td>\n      <td>39.67</td>\n      <td>0.0498</td>\n      <td>46.52</td>\n      <td>0.0613</td>\n    </tr>\n    <tr>\n      <th>27</th>\n      <td>Naive Bayes</td>\n      <td>TodosVerbos Chi 0.1</td>\n      <td>84.85</td>\n      <td>0.0308</td>\n      <td>63.10</td>\n      <td>0.0789</td>\n      <td>41.16</td>\n      <td>0.0457</td>\n      <td>46.24</td>\n      <td>0.0500</td>\n    </tr>\n    <tr>\n      <th>21</th>\n      <td>Naive Bayes</td>\n      <td>Segmento+Ementa Chi 0.1</td>\n      <td>80.09</td>\n      <td>0.0262</td>\n      <td>78.96</td>\n      <td>0.0901</td>\n      <td>37.52</td>\n      <td>0.0463</td>\n      <td>45.28</td>\n      <td>0.0565</td>\n    </tr>\n    <tr>\n      <th>91</th>\n      <td>Naive Bayes</td>\n      <td>TodosVerbos Chi 0.1 NearMiss</td>\n      <td>50.00</td>\n      <td>0.1056</td>\n      <td>45.54</td>\n      <td>0.1141</td>\n      <td>50.14</td>\n      <td>0.1046</td>\n      <td>44.81</td>\n      <td>0.1117</td>\n    </tr>\n    <tr>\n      <th>25</th>\n      <td>Naive Bayes</td>\n      <td>Segmento+Ementa Chi 0.5</td>\n      <td>82.92</td>\n      <td>0.0193</td>\n      <td>67.13</td>\n      <td>0.0600</td>\n      <td>37.77</td>\n      <td>0.0524</td>\n      <td>43.29</td>\n      <td>0.0634</td>\n    </tr>\n    <tr>\n      <th>15</th>\n      <td>Naive Bayes</td>\n      <td>VerbosSegmento Chi 0.1</td>\n      <td>84.96</td>\n      <td>0.0271</td>\n      <td>53.52</td>\n      <td>0.1083</td>\n      <td>35.96</td>\n      <td>0.0358</td>\n      <td>39.82</td>\n      <td>0.0494</td>\n    </tr>\n    <tr>\n      <th>17</th>\n      <td>Naive Bayes</td>\n      <td>VerbosSegmento Chi 0.25</td>\n      <td>85.49</td>\n      <td>0.0251</td>\n      <td>45.45</td>\n      <td>0.0617</td>\n      <td>35.26</td>\n      <td>0.0334</td>\n      <td>38.20</td>\n      <td>0.0432</td>\n    </tr>\n    <tr>\n      <th>29</th>\n      <td>Naive Bayes</td>\n      <td>TodosVerbos Chi 0.25</td>\n      <td>83.61</td>\n      <td>0.0588</td>\n      <td>47.08</td>\n      <td>0.0735</td>\n      <td>34.56</td>\n      <td>0.0259</td>\n      <td>37.04</td>\n      <td>0.0246</td>\n    </tr>\n    <tr>\n      <th>19</th>\n      <td>Naive Bayes</td>\n      <td>VerbosSegmento Chi 0.5</td>\n      <td>85.29</td>\n      <td>0.0271</td>\n      <td>42.58</td>\n      <td>0.0504</td>\n      <td>32.99</td>\n      <td>0.0287</td>\n      <td>35.32</td>\n      <td>0.0282</td>\n    </tr>\n    <tr>\n      <th>31</th>\n      <td>Naive Bayes</td>\n      <td>TodosVerbos Chi 0.5</td>\n      <td>83.35</td>\n      <td>0.0594</td>\n      <td>40.45</td>\n      <td>0.0253</td>\n      <td>33.16</td>\n      <td>0.0303</td>\n      <td>35.25</td>\n      <td>0.0302</td>\n    </tr>\n    <tr>\n      <th>13</th>\n      <td>Naive Bayes</td>\n      <td>Segmento Chi 0.5</td>\n      <td>83.03</td>\n      <td>0.0228</td>\n      <td>47.67</td>\n      <td>0.0571</td>\n      <td>31.09</td>\n      <td>0.0322</td>\n      <td>33.94</td>\n      <td>0.0439</td>\n    </tr>\n    <tr>\n      <th>1</th>\n      <td>Naive Bayes</td>\n      <td>Segmento</td>\n      <td>84.39</td>\n      <td>0.0162</td>\n      <td>46.19</td>\n      <td>0.0683</td>\n      <td>31.35</td>\n      <td>0.0378</td>\n      <td>33.37</td>\n      <td>0.0481</td>\n    </tr>\n    <tr>\n      <th>11</th>\n      <td>Naive Bayes</td>\n      <td>Segmento Chi 0.25</td>\n      <td>81.36</td>\n      <td>0.0310</td>\n      <td>51.95</td>\n      <td>0.0835</td>\n      <td>29.67</td>\n      <td>0.0305</td>\n      <td>32.85</td>\n      <td>0.0415</td>\n    </tr>\n    <tr>\n      <th>9</th>\n      <td>Naive Bayes</td>\n      <td>Segmento Chi 0.1</td>\n      <td>79.48</td>\n      <td>0.0374</td>\n      <td>58.93</td>\n      <td>0.1236</td>\n      <td>27.79</td>\n      <td>0.0300</td>\n      <td>31.21</td>\n      <td>0.0395</td>\n    </tr>\n    <tr>\n      <th>5</th>\n      <td>Naive Bayes</td>\n      <td>Segmento+Ementa</td>\n      <td>79.52</td>\n      <td>0.0498</td>\n      <td>41.08</td>\n      <td>0.0302</td>\n      <td>28.04</td>\n      <td>0.0301</td>\n      <td>30.63</td>\n      <td>0.0344</td>\n    </tr>\n    <tr>\n      <th>3</th>\n      <td>Naive Bayes</td>\n      <td>VerbosSegmento</td>\n      <td>81.47</td>\n      <td>0.0320</td>\n      <td>42.85</td>\n      <td>0.0682</td>\n      <td>26.25</td>\n      <td>0.0275</td>\n      <td>28.14</td>\n      <td>0.0289</td>\n    </tr>\n    <tr>\n      <th>7</th>\n      <td>Naive Bayes</td>\n      <td>TodosVerbos</td>\n      <td>80.24</td>\n      <td>0.0216</td>\n      <td>41.95</td>\n      <td>0.0536</td>\n      <td>25.33</td>\n      <td>0.0195</td>\n      <td>27.64</td>\n      <td>0.0233</td>\n    </tr>\n  </tbody>\n</table>\n<p>96 rows × 10 columns</p>\n</div>"
     },
     "metadata": {},
     "execution_count": 10
    }
   ],
   "source": [
    "df_resultado  = pd.DataFrame(resultadoGeral)\n",
    "df_resultado.columns = ['Modelo','Estratégia',\n",
    "                        'Acurácia %','DP','Precisão',\n",
    "                        'DP', 'Revocação','DP', 'F1','DP' ]\n",
    "df_resultado.loc[df_resultado['Modelo']=='LinearSVC','Modelo']='SVM'\n",
    "df_resultado.loc[df_resultado['Modelo']=='MultinomialNB','Modelo']='Naive Bayes'\n",
    "df_resultado.sort_values(['F1'], ascending = False)"
   ]
  },
  {
   "cell_type": "code",
   "execution_count": 11,
   "metadata": {},
   "outputs": [],
   "source": [
    "df_resultado.to_csv(\"resultado.csv\")"
   ]
  },
  {
   "cell_type": "code",
   "execution_count": 12,
   "metadata": {},
   "outputs": [
    {
     "output_type": "stream",
     "name": "stdout",
     "text": [
      "\\begin{tabular}{llrrrrrrrr}\n\\toprule\n      Modelo &                         Estratégia &  Acurácia \\% &      DP &  Precisão &      DP &  Revocação &      DP &     F1 &      DP \\\\\n\\midrule\n         SVM &              Segmento+Ementa Smote &       98.90 &  0.0084 &     98.97 &  0.0069 &      98.90 &  0.0084 &  98.89 &  0.0086 \\\\\n         SVM &                     Segmento Smote &       97.60 &  0.0044 &     97.84 &  0.0035 &      97.60 &  0.0044 &  97.63 &  0.0043 \\\\\n         SVM &      Segmento+Ementa Chi 0.5 Smote &       96.96 &  0.0090 &     96.98 &  0.0086 &      96.96 &  0.0090 &  96.93 &  0.0094 \\\\\n         SVM &          TodosVerbos Chi 0.5 Smote &       96.39 &  0.0070 &     96.58 &  0.0058 &      96.39 &  0.0070 &  96.38 &  0.0074 \\\\\n         SVM &                  TodosVerbos Smote &       96.25 &  0.0076 &     96.45 &  0.0063 &      96.25 &  0.0076 &  96.24 &  0.0080 \\\\\n         SVM &         TodosVerbos Chi 0.25 Smote &       95.76 &  0.0073 &     95.96 &  0.0060 &      95.76 &  0.0073 &  95.74 &  0.0078 \\\\\n         SVM &     Segmento+Ementa Chi 0.25 Smote &       95.47 &  0.0095 &     95.57 &  0.0097 &      95.47 &  0.0095 &  95.44 &  0.0099 \\\\\n Naive Bayes &                     Segmento Smote &       94.68 &  0.0056 &     94.75 &  0.0056 &      94.68 &  0.0056 &  94.58 &  0.0058 \\\\\n         SVM &             Segmento Chi 0.5 Smote &       94.28 &  0.0033 &     95.00 &  0.0026 &      94.28 &  0.0033 &  94.36 &  0.0031 \\\\\n Naive Bayes &              Segmento+Ementa Smote &       93.98 &  0.0137 &     94.13 &  0.0118 &      93.98 &  0.0137 &  93.90 &  0.0145 \\\\\n         SVM &      Segmento+Ementa Chi 0.1 Smote &       93.80 &  0.0094 &     93.95 &  0.0093 &      93.80 &  0.0094 &  93.76 &  0.0095 \\\\\n         SVM &          TodosVerbos Chi 0.1 Smote &       93.38 &  0.0078 &     93.57 &  0.0077 &      93.38 &  0.0078 &  93.35 &  0.0082 \\\\\n         SVM &       VerbosSegmento Chi 0.5 Smote &       92.60 &  0.0122 &     93.52 &  0.0064 &      92.60 &  0.0122 &  92.70 &  0.0115 \\\\\n         SVM &            Segmento Chi 0.25 Smote &       92.47 &  0.0027 &     93.65 &  0.0028 &      92.47 &  0.0027 &  92.66 &  0.0026 \\\\\n         SVM &               VerbosSegmento Smote &       92.54 &  0.0119 &     93.48 &  0.0059 &      92.54 &  0.0119 &  92.64 &  0.0112 \\\\\n         SVM &      VerbosSegmento Chi 0.25 Smote &       91.98 &  0.0091 &     92.78 &  0.0072 &      91.98 &  0.0091 &  92.05 &  0.0092 \\\\\n         SVM &             Segmento Chi 0.1 Smote &       89.87 &  0.0041 &     91.59 &  0.0042 &      89.87 &  0.0041 &  90.10 &  0.0041 \\\\\n         SVM &       VerbosSegmento Chi 0.1 Smote &       89.17 &  0.0065 &     90.95 &  0.0053 &      89.17 &  0.0065 &  89.49 &  0.0061 \\\\\n Naive Bayes &             Segmento Chi 0.5 Smote &       88.64 &  0.0083 &     88.72 &  0.0082 &      88.64 &  0.0083 &  88.31 &  0.0088 \\\\\n Naive Bayes &      Segmento+Ementa Chi 0.5 Smote &       88.23 &  0.0113 &     88.82 &  0.0118 &      88.22 &  0.0113 &  88.16 &  0.0109 \\\\\n Naive Bayes &          TodosVerbos Chi 0.5 Smote &       88.04 &  0.0096 &     88.82 &  0.0092 &      88.04 &  0.0096 &  87.95 &  0.0092 \\\\\n Naive Bayes &       VerbosSegmento Chi 0.5 Smote &       87.51 &  0.0089 &     88.45 &  0.0067 &      87.51 &  0.0089 &  87.53 &  0.0084 \\\\\n Naive Bayes &         TodosVerbos Chi 0.25 Smote &       86.91 &  0.0101 &     87.98 &  0.0102 &      86.91 &  0.0101 &  86.83 &  0.0097 \\\\\n Naive Bayes &               VerbosSegmento Smote &       86.82 &  0.0092 &     87.87 &  0.0057 &      86.82 &  0.0092 &  86.79 &  0.0085 \\\\\n Naive Bayes &      VerbosSegmento Chi 0.25 Smote &       86.52 &  0.0101 &     87.60 &  0.0077 &      86.52 &  0.0101 &  86.55 &  0.0097 \\\\\n Naive Bayes &                  TodosVerbos Smote &       86.23 &  0.0093 &     87.55 &  0.0080 &      86.23 &  0.0093 &  85.99 &  0.0088 \\\\\n Naive Bayes &     Segmento+Ementa Chi 0.25 Smote &       85.73 &  0.0136 &     86.42 &  0.0133 &      85.73 &  0.0136 &  85.50 &  0.0129 \\\\\n         SVM &           Segmento+Ementa NearMiss &       86.20 &  0.0784 &     87.61 &  0.0728 &      85.98 &  0.0793 &  85.24 &  0.0874 \\\\\n Naive Bayes &          TodosVerbos Chi 0.1 Smote &       84.33 &  0.0120 &     85.40 &  0.0119 &      84.33 &  0.0120 &  84.15 &  0.0111 \\\\\n Naive Bayes &       VerbosSegmento Chi 0.1 Smote &       84.14 &  0.0119 &     85.44 &  0.0098 &      84.14 &  0.0119 &  84.13 &  0.0117 \\\\\n Naive Bayes &            Segmento Chi 0.25 Smote &       83.38 &  0.0153 &     83.73 &  0.0140 &      83.38 &  0.0153 &  82.90 &  0.0174 \\\\\n Naive Bayes &      Segmento+Ementa Chi 0.1 Smote &       82.07 &  0.0156 &     82.94 &  0.0153 &      82.07 &  0.0156 &  81.70 &  0.0149 \\\\\n         SVM &  Segmento+Ementa Chi 0.25 NearMiss &       81.96 &  0.0824 &     83.21 &  0.0779 &      81.84 &  0.0818 &  81.25 &  0.0900 \\\\\n         SVM &   Segmento+Ementa Chi 0.5 NearMiss &       80.65 &  0.0668 &     82.70 &  0.0666 &      80.55 &  0.0664 &  79.76 &  0.0695 \\\\\n         SVM &                    Segmento+Ementa &       89.96 &  0.0575 &     84.95 &  0.0581 &      76.33 &  0.0382 &  78.95 &  0.0468 \\\\\n         SVM &            Segmento+Ementa Chi 0.5 &       90.29 &  0.0520 &     87.83 &  0.0466 &      73.77 &  0.0424 &  78.09 &  0.0460 \\\\\n         SVM &           Segmento+Ementa Chi 0.25 &       89.75 &  0.0536 &     88.75 &  0.0503 &      73.74 &  0.0367 &  77.98 &  0.0405 \\\\\n         SVM &            Segmento+Ementa Chi 0.1 &       89.66 &  0.0575 &     87.44 &  0.0517 &      73.02 &  0.0421 &  77.33 &  0.0458 \\\\\n         SVM &                           Segmento &       91.31 &  0.0083 &     85.82 &  0.0553 &      72.69 &  0.0273 &  77.16 &  0.0362 \\\\\n         SVM &   Segmento+Ementa Chi 0.1 NearMiss &       78.26 &  0.0826 &     78.99 &  0.0890 &      78.01 &  0.0837 &  76.85 &  0.0935 \\\\\n         SVM &               TodosVerbos NearMiss &       77.50 &  0.0867 &     79.79 &  0.0772 &      77.53 &  0.0851 &  76.52 &  0.0947 \\\\\n         SVM &                  Segmento Chi 0.25 &       91.14 &  0.0092 &     87.91 &  0.0428 &      70.88 &  0.0334 &  76.36 &  0.0336 \\\\\n Naive Bayes &             Segmento Chi 0.1 Smote &       76.64 &  0.0215 &     77.76 &  0.0224 &      76.64 &  0.0215 &  76.25 &  0.0244 \\\\\n         SVM &                   Segmento Chi 0.5 &       91.35 &  0.0087 &     87.62 &  0.0542 &      70.39 &  0.0319 &  75.85 &  0.0370 \\\\\n         SVM &                   Segmento Chi 0.1 &       90.31 &  0.0114 &     87.01 &  0.0476 &      69.55 &  0.0326 &  74.83 &  0.0367 \\\\\n         SVM &       TodosVerbos Chi 0.5 NearMiss &       75.65 &  0.0584 &     78.73 &  0.0556 &      75.51 &  0.0582 &  74.29 &  0.0671 \\\\\n         SVM &                        TodosVerbos &       89.45 &  0.0515 &     80.81 &  0.0660 &      71.80 &  0.0521 &  74.15 &  0.0544 \\\\\n         SVM &                TodosVerbos Chi 0.5 &       89.36 &  0.0494 &     81.46 &  0.0696 &      70.10 &  0.0463 &  73.41 &  0.0531 \\\\\n         SVM &                  Segmento NearMiss &       76.20 &  0.0606 &     73.88 &  0.0893 &      76.12 &  0.0652 &  72.69 &  0.0779 \\\\\n         SVM &          Segmento Chi 0.1 NearMiss &       75.65 &  0.0683 &     75.69 &  0.0535 &      75.30 &  0.0668 &  72.65 &  0.0777 \\\\\n         SVM &               TodosVerbos Chi 0.25 &       89.28 &  0.0502 &     81.20 &  0.0719 &      68.42 &  0.0497 &  72.07 &  0.0542 \\\\\n         SVM &                TodosVerbos Chi 0.1 &       88.25 &  0.0529 &     81.72 &  0.0703 &      66.88 &  0.0660 &  71.34 &  0.0632 \\\\\n         SVM &         Segmento Chi 0.25 NearMiss &       73.70 &  0.0569 &     72.99 &  0.0470 &      73.55 &  0.0540 &  70.40 &  0.0526 \\\\\n Naive Bayes &           Segmento+Ementa NearMiss &       72.28 &  0.1050 &     74.74 &  0.1071 &      72.10 &  0.1061 &  70.04 &  0.1129 \\\\\n         SVM &             VerbosSegmento Chi 0.1 &       88.58 &  0.0218 &     82.63 &  0.0677 &      63.31 &  0.0543 &  69.70 &  0.0593 \\\\\n         SVM &      TodosVerbos Chi 0.25 NearMiss &       71.30 &  0.0632 &     73.46 &  0.0539 &      71.14 &  0.0613 &  69.27 &  0.0689 \\\\\n         SVM &          Segmento Chi 0.5 NearMiss &       71.85 &  0.0817 &     74.13 &  0.0605 &      71.82 &  0.0787 &  69.25 &  0.0712 \\\\\n         SVM &                     VerbosSegmento &       88.15 &  0.0239 &     79.68 &  0.0651 &      63.78 &  0.0493 &  69.19 &  0.0541 \\\\\n         SVM &             VerbosSegmento Chi 0.5 &       88.30 &  0.0213 &     80.16 &  0.0589 &      63.35 &  0.0490 &  69.06 &  0.0523 \\\\\n         SVM &            VerbosSegmento Chi 0.25 &       88.36 &  0.0226 &     80.81 &  0.0616 &      62.95 &  0.0500 &  68.97 &  0.0529 \\\\\n         SVM &       TodosVerbos Chi 0.1 NearMiss &       70.87 &  0.1174 &     72.49 &  0.1398 &      71.05 &  0.1142 &  68.80 &  0.1330 \\\\\n Naive Bayes &   Segmento+Ementa Chi 0.1 NearMiss &       68.91 &  0.0815 &     70.34 &  0.0777 &      68.94 &  0.0805 &  65.18 &  0.0851 \\\\\n         SVM &   VerbosSegmento Chi 0.25 NearMiss &       65.98 &  0.1031 &     68.65 &  0.1150 &      65.68 &  0.1023 &  63.36 &  0.1082 \\\\\n         SVM &    VerbosSegmento Chi 0.5 NearMiss &       65.65 &  0.0966 &     68.66 &  0.0913 &      65.43 &  0.0971 &  63.19 &  0.1064 \\\\\n Naive Bayes &   Segmento+Ementa Chi 0.5 NearMiss &       65.65 &  0.0592 &     69.80 &  0.0714 &      65.64 &  0.0599 &  62.42 &  0.0684 \\\\\n Naive Bayes &                  Segmento NearMiss &       65.76 &  0.1396 &     63.78 &  0.1206 &      65.90 &  0.1437 &  61.03 &  0.1492 \\\\\n Naive Bayes &  Segmento+Ementa Chi 0.25 NearMiss &       64.78 &  0.1031 &     63.82 &  0.1428 &      64.79 &  0.1023 &  60.61 &  0.1230 \\\\\n         SVM &            VerbosSegmento NearMiss &       63.80 &  0.1055 &     61.22 &  0.1080 &      63.83 &  0.1079 &  59.69 &  0.1115 \\\\\n         SVM &    VerbosSegmento Chi 0.1 NearMiss &       63.80 &  0.0603 &     62.43 &  0.0500 &      63.59 &  0.0596 &  59.56 &  0.0649 \\\\\n Naive Bayes &         Segmento Chi 0.25 NearMiss &       62.83 &  0.1005 &     59.05 &  0.1077 &      63.05 &  0.1005 &  57.49 &  0.1081 \\\\\n Naive Bayes &          Segmento Chi 0.5 NearMiss &       60.76 &  0.0934 &     56.16 &  0.0925 &      60.99 &  0.0932 &  55.34 &  0.0954 \\\\\n Naive Bayes &          Segmento Chi 0.1 NearMiss &       58.26 &  0.1019 &     55.90 &  0.0714 &      58.36 &  0.1019 &  52.98 &  0.1015 \\\\\n Naive Bayes &       TodosVerbos Chi 0.5 NearMiss &       56.09 &  0.1090 &     53.79 &  0.1018 &      56.13 &  0.1122 &  51.72 &  0.1175 \\\\\n Naive Bayes &   VerbosSegmento Chi 0.25 NearMiss &       56.85 &  0.1157 &     55.67 &  0.1216 &      57.03 &  0.1188 &  51.12 &  0.1296 \\\\\n Naive Bayes &      TodosVerbos Chi 0.25 NearMiss &       55.87 &  0.0987 &     52.93 &  0.0847 &      55.86 &  0.1013 &  50.99 &  0.1089 \\\\\n Naive Bayes &            VerbosSegmento NearMiss &       57.07 &  0.0985 &     52.91 &  0.0742 &      57.22 &  0.1003 &  50.99 &  0.0989 \\\\\n Naive Bayes &               TodosVerbos NearMiss &       55.33 &  0.0907 &     52.46 &  0.0925 &      55.27 &  0.0925 &  50.87 &  0.0970 \\\\\n Naive Bayes &    VerbosSegmento Chi 0.5 NearMiss &       56.63 &  0.1130 &     50.09 &  0.1313 &      56.77 &  0.1154 &  49.89 &  0.1240 \\\\\n Naive Bayes &    VerbosSegmento Chi 0.1 NearMiss &       53.48 &  0.0566 &     49.87 &  0.0610 &      53.49 &  0.0564 &  47.02 &  0.0538 \\\\\n Naive Bayes &           Segmento+Ementa Chi 0.25 &       82.25 &  0.0236 &     74.51 &  0.1163 &      39.67 &  0.0498 &  46.52 &  0.0613 \\\\\n Naive Bayes &                TodosVerbos Chi 0.1 &       84.85 &  0.0308 &     63.10 &  0.0789 &      41.16 &  0.0457 &  46.24 &  0.0500 \\\\\n Naive Bayes &            Segmento+Ementa Chi 0.1 &       80.09 &  0.0262 &     78.96 &  0.0901 &      37.52 &  0.0463 &  45.28 &  0.0565 \\\\\n Naive Bayes &       TodosVerbos Chi 0.1 NearMiss &       50.00 &  0.1056 &     45.54 &  0.1141 &      50.14 &  0.1046 &  44.81 &  0.1117 \\\\\n Naive Bayes &            Segmento+Ementa Chi 0.5 &       82.92 &  0.0193 &     67.13 &  0.0600 &      37.77 &  0.0524 &  43.29 &  0.0634 \\\\\n Naive Bayes &             VerbosSegmento Chi 0.1 &       84.96 &  0.0271 &     53.52 &  0.1083 &      35.96 &  0.0358 &  39.82 &  0.0494 \\\\\n Naive Bayes &            VerbosSegmento Chi 0.25 &       85.49 &  0.0251 &     45.45 &  0.0617 &      35.26 &  0.0334 &  38.20 &  0.0432 \\\\\n Naive Bayes &               TodosVerbos Chi 0.25 &       83.61 &  0.0588 &     47.08 &  0.0735 &      34.56 &  0.0259 &  37.04 &  0.0246 \\\\\n Naive Bayes &             VerbosSegmento Chi 0.5 &       85.29 &  0.0271 &     42.58 &  0.0504 &      32.99 &  0.0287 &  35.32 &  0.0282 \\\\\n Naive Bayes &                TodosVerbos Chi 0.5 &       83.35 &  0.0594 &     40.45 &  0.0253 &      33.16 &  0.0303 &  35.25 &  0.0302 \\\\\n Naive Bayes &                   Segmento Chi 0.5 &       83.03 &  0.0228 &     47.67 &  0.0571 &      31.09 &  0.0322 &  33.94 &  0.0439 \\\\\n Naive Bayes &                           Segmento &       84.39 &  0.0162 &     46.19 &  0.0683 &      31.35 &  0.0378 &  33.37 &  0.0481 \\\\\n Naive Bayes &                  Segmento Chi 0.25 &       81.36 &  0.0310 &     51.95 &  0.0835 &      29.67 &  0.0305 &  32.85 &  0.0415 \\\\\n Naive Bayes &                   Segmento Chi 0.1 &       79.48 &  0.0374 &     58.93 &  0.1236 &      27.79 &  0.0300 &  31.21 &  0.0395 \\\\\n Naive Bayes &                    Segmento+Ementa &       79.52 &  0.0498 &     41.08 &  0.0302 &      28.04 &  0.0301 &  30.63 &  0.0344 \\\\\n Naive Bayes &                     VerbosSegmento &       81.47 &  0.0320 &     42.85 &  0.0682 &      26.25 &  0.0275 &  28.14 &  0.0289 \\\\\n Naive Bayes &                        TodosVerbos &       80.24 &  0.0216 &     41.95 &  0.0536 &      25.33 &  0.0195 &  27.64 &  0.0233 \\\\\n\\bottomrule\n\\end{tabular}\n\n"
     ]
    }
   ],
   "source": [
    "print(df_resultado.sort_values(['F1'], ascending = False).to_latex(index=False))"
   ]
  }
 ],
 "metadata": {
  "kernelspec": {
   "display_name": "Python 3",
   "language": "python",
   "name": "python3"
  },
  "language_info": {
   "codemirror_mode": {
    "name": "ipython",
    "version": 3
   },
   "file_extension": ".py",
   "mimetype": "text/x-python",
   "name": "python",
   "nbconvert_exporter": "python",
   "pygments_lexer": "ipython3",
   "version": "3.7.3-final"
  }
 },
 "nbformat": 4,
 "nbformat_minor": 2
}