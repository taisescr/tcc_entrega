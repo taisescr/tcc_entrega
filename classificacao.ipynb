{
 "cells": [
  {
   "cell_type": "code",
   "execution_count": 1,
   "metadata": {},
   "outputs": [],
   "source": [
    "import pandas as pd\n",
    "from libs import preprocessa, modelos, vo_X, metricas\n",
    "from imblearn.over_sampling import SMOTE\n",
    "from imblearn.under_sampling import NearMiss\n",
    "random_state=26"
   ]
  },
  {
   "cell_type": "code",
   "execution_count": 2,
   "metadata": {},
   "outputs": [],
   "source": [
    "#Se estiver rodando localmente \n",
    "caminhoDados=\"dados/\"\n",
    "\n",
    "#Esse json é gerado no notebook TrataSegmentosAnotam.ipynb\n",
    "df  = pd.read_json(caminhoDados+'dfAlvoAnota.json') \n",
    "vocabulario = df[\"textoTotal\"]\n"
   ]
  },
  {
   "cell_type": "code",
   "execution_count": 3,
   "metadata": {},
   "outputs": [],
   "source": [
    "#filtrar as classes mais relevantes a partir de 0.5% de presença\n",
    "classesInteresse = [1,3,9,22,24,13,10,4,25]\n",
    "\n",
    "#União Alt e inc\n",
    "df =  df[df['idTipoAnotacao'].isin(classesInteresse)]\n",
    "df.loc[df['idTipoAnotacao'] == 3, 'idTipoAnotacao'] = 1\n",
    "\n",
    "#dfInteresse.groupby(['idTipoAnotacao','nomeTipoAnotacao']).idSegmento.count()\n"
   ]
  },
  {
   "cell_type": "code",
   "execution_count": 4,
   "metadata": {},
   "outputs": [],
   "source": [
    "##Atributos iniciais\n",
    "y = df['idTipoAnotacao']\n",
    "\n",
    "dadosOriginais = []\n",
    "\n",
    "vocabulario = df[\"textoIntegraLimpo\"]\n",
    "x = preprocessa.vetorizaTFIDF(vocabulario,df[\"textoIntegraLimpo\"].astype(str))\n",
    "dadosOriginais.append(vo_X.vo_X(x,y,\"Segmento\"))\n",
    "\n",
    "vocabulario = df[\"verbosTextoIntegra\"]\n",
    "x = preprocessa.vetorizaTFIDF(vocabulario,df[\"verbosTextoIntegra\"].astype(str))\n",
    "dadosOriginais.append(vo_X.vo_X(x,y,\"VerbosSegmento\"))\n",
    "\n",
    "vocabulario = df[\"textoTotal\"]\n",
    "x = preprocessa.vetorizaTFIDF(vocabulario,df[\"textoTotal\"].astype(str))\n",
    "dadosOriginais.append(vo_X.vo_X(x,y,\"Segmento+Ementa\"))\n",
    "\n",
    "vocabulario = df[\"verbos\"]\n",
    "x = preprocessa.vetorizaTFIDF(vocabulario,df[\"verbos\"].astype(str))\n",
    "dadosOriginais.append(vo_X.vo_X(x,y,\"TodosVerbos\"))\n"
   ]
  },
  {
   "cell_type": "code",
   "execution_count": 5,
   "metadata": {},
   "outputs": [],
   "source": [
    "## Seleção Atributos\n",
    "dadosChi = []\n",
    "for dados in dadosOriginais:\n",
    "    xChi1 = preprocessa.seleciona(vocabulario,dados.x, y,0.1)\n",
    "    dadosChi.append(vo_X.vo_X(xChi1,y, dados.estrategia + \" Chi 0.1\"))\n",
    "    \n",
    "    xChi25 = preprocessa.seleciona(vocabulario,dados.x, y,0.25)\n",
    "    dadosChi.append(vo_X.vo_X(xChi25,y, dados.estrategia + \" Chi 0.25\"))\n",
    "    \n",
    "    xChi50 = preprocessa.seleciona(vocabulario,dados.x, y,0.5)\n",
    "    dadosChi.append(vo_X.vo_X(xChi50,y, dados.estrategia + \" Chi 0.5\"))\n",
    "    \n",
    "   "
   ]
  },
  {
   "cell_type": "code",
   "execution_count": 6,
   "metadata": {},
   "outputs": [],
   "source": [
    "#Reamostragem Smote\n",
    "smote = SMOTE(random_state=random_state)\n",
    "dadosSmote = []\n",
    "for dados in dadosOriginais:     \n",
    "    xs, ys = smote.fit_sample(dados.x,y)\n",
    "    dadosSmote.append(vo_X.vo_X(xs, ys, dados.estrategia + \" Smote\"))\n",
    "    \n",
    "for dados in dadosChi:     \n",
    "    xs, ys = smote.fit_sample(dados.x,y)\n",
    "    dadosSmote.append(vo_X.vo_X(xs, ys, dados.estrategia + \" Smote\"))"
   ]
  },
  {
   "cell_type": "code",
   "execution_count": 7,
   "metadata": {},
   "outputs": [],
   "source": [
    "#Reamostragem NearMiss\n",
    "sampler = NearMiss()\n",
    "dadosNearMiss = []\n",
    "\n",
    "for dados in dadosOriginais: \n",
    "    xn, yn = sampler.fit_resample(dados.x,y)\n",
    "    dadosNearMiss.append(vo_X.vo_X(xn, yn, dados.estrategia + \" NearMiss\"))\n",
    "\n",
    "for dados in dadosChi:\n",
    "    xn, yn = sampler.fit_resample(dados.x,y)\n",
    "    dadosNearMiss.append(vo_X.vo_X(xn, yn, dados.estrategia + \" NearMiss\"))\n"
   ]
  },
  {
   "cell_type": "code",
   "execution_count": 8,
   "metadata": {},
   "outputs": [],
   "source": [
    "listaDados = [*dadosOriginais, *dadosChi, *dadosSmote, *dadosNearMiss]"
   ]
  },
  {
   "cell_type": "code",
   "execution_count": 9,
   "metadata": {},
   "outputs": [],
   "source": [
    "resultadoGeral = []\n",
    "for dados in listaDados:\n",
    "    if dados.estrategia == 'Segmento+Ementa Smote':\n",
    "        classificadores = modelos.classificadores()\n",
    "        classificadores.LSVC = True\n",
    "        #classificadores.MNB = True\n",
    "        resultadosClassificacao =  classificadores.classificar(dados.x,dados.y)\n",
    "    for res in resultadosClassificacao:\n",
    "        res.insert(1, dados.estrategia) \n",
    "    resultadoGeral.extend(resultadosClassificacao)   "
   ]
  },
  {
   "cell_type": "code",
   "execution_count": 10,
   "metadata": {},
   "outputs": [
    {
     "output_type": "execute_result",
     "data": {
      "text/plain": [
       "   Modelo                         Estratégia  Acurácia %      DP  Precisão  \\\n",
       "18    SVM              Segmento+Ementa Smote       98.90  0.0084     98.97   \n",
       "16    SVM                     Segmento Smote       97.58  0.0045     97.83   \n",
       "19    SVM                  TodosVerbos Smote       96.80  0.0089     97.04   \n",
       "28    SVM      Segmento+Ementa Chi 0.5 Smote       94.93  0.0098     95.07   \n",
       "27    SVM     Segmento+Ementa Chi 0.25 Smote       93.63  0.0096     93.78   \n",
       "31    SVM          TodosVerbos Chi 0.5 Smote       92.92  0.0097     93.27   \n",
       "17    SVM               VerbosSegmento Smote       92.68  0.0078     94.05   \n",
       "22    SVM             Segmento Chi 0.5 Smote       91.93  0.0022     93.14   \n",
       "26    SVM      Segmento+Ementa Chi 0.1 Smote       91.30  0.0099     91.56   \n",
       "30    SVM         TodosVerbos Chi 0.25 Smote       90.64  0.0081     91.19   \n",
       "21    SVM            Segmento Chi 0.25 Smote       89.86  0.0044     91.57   \n",
       "25    SVM       VerbosSegmento Chi 0.5 Smote       88.76  0.0039     91.13   \n",
       "29    SVM          TodosVerbos Chi 0.1 Smote       88.08  0.0113     88.60   \n",
       "20    SVM             Segmento Chi 0.1 Smote       87.08  0.0047     89.29   \n",
       "24    SVM      VerbosSegmento Chi 0.25 Smote       86.74  0.0053     89.51   \n",
       "34    SVM           Segmento+Ementa NearMiss       86.20  0.0811     87.50   \n",
       "23    SVM       VerbosSegmento Chi 0.1 Smote       82.52  0.0051     86.25   \n",
       "44    SVM   Segmento+Ementa Chi 0.5 NearMiss       82.61  0.0902     84.03   \n",
       "2     SVM                    Segmento+Ementa       89.96  0.0575     85.07   \n",
       "43    SVM  Segmento+Ementa Chi 0.25 NearMiss       80.22  0.0500     80.87   \n",
       "12    SVM            Segmento+Ementa Chi 0.5       89.53  0.0552     86.42   \n",
       "0     SVM                           Segmento       91.57  0.0077     85.67   \n",
       "11    SVM           Segmento+Ementa Chi 0.25       89.76  0.0549     87.35   \n",
       "37    SVM         Segmento Chi 0.25 NearMiss       79.13  0.0813     80.63   \n",
       "6     SVM                   Segmento Chi 0.5       91.16  0.0065     86.96   \n",
       "35    SVM               TodosVerbos NearMiss       76.74  0.0701     80.91   \n",
       "5     SVM                  Segmento Chi 0.25       90.22  0.0108     86.66   \n",
       "32    SVM                  Segmento NearMiss       77.83  0.0588     75.29   \n",
       "10    SVM            Segmento+Ementa Chi 0.1       89.91  0.0231     86.65   \n",
       "3     SVM                        TodosVerbos       88.88  0.0614     81.53   \n",
       "4     SVM                   Segmento Chi 0.1       89.83  0.0122     85.89   \n",
       "36    SVM          Segmento Chi 0.1 NearMiss       74.67  0.0761     75.20   \n",
       "14    SVM               TodosVerbos Chi 0.25       88.81  0.0299     84.48   \n",
       "15    SVM                TodosVerbos Chi 0.5       88.92  0.0356     84.45   \n",
       "47    SVM       TodosVerbos Chi 0.5 NearMiss       73.59  0.1187     75.56   \n",
       "13    SVM                TodosVerbos Chi 0.1       88.13  0.0295     84.11   \n",
       "1     SVM                     VerbosSegmento       87.77  0.0255     81.92   \n",
       "9     SVM             VerbosSegmento Chi 0.5       88.09  0.0213     83.76   \n",
       "8     SVM            VerbosSegmento Chi 0.25       87.58  0.0250     83.59   \n",
       "38    SVM          Segmento Chi 0.5 NearMiss       71.41  0.0764     69.15   \n",
       "46    SVM      TodosVerbos Chi 0.25 NearMiss       70.54  0.1039     68.88   \n",
       "7     SVM             VerbosSegmento Chi 0.1       87.07  0.0260     83.41   \n",
       "42    SVM   Segmento+Ementa Chi 0.1 NearMiss       70.65  0.0887     67.50   \n",
       "33    SVM            VerbosSegmento NearMiss       68.91  0.0806     66.65   \n",
       "40    SVM   VerbosSegmento Chi 0.25 NearMiss       66.30  0.0731     65.81   \n",
       "41    SVM    VerbosSegmento Chi 0.5 NearMiss       64.13  0.0764     66.93   \n",
       "45    SVM       TodosVerbos Chi 0.1 NearMiss       62.50  0.0821     62.02   \n",
       "39    SVM    VerbosSegmento Chi 0.1 NearMiss       62.72  0.0784     59.17   \n",
       "\n",
       "        DP  Revocação      DP     F1      DP  \n",
       "18  0.0069      98.90  0.0084  98.89  0.0086  \n",
       "16  0.0036      97.58  0.0045  97.61  0.0045  \n",
       "19  0.0075      96.79  0.0089  96.79  0.0094  \n",
       "28  0.0099      94.93  0.0098  94.91  0.0101  \n",
       "27  0.0095      93.63  0.0096  93.59  0.0098  \n",
       "31  0.0100      92.92  0.0097  92.92  0.0100  \n",
       "17  0.0040      92.68  0.0078  92.88  0.0074  \n",
       "22  0.0022      91.93  0.0022  92.13  0.0021  \n",
       "26  0.0086      91.30  0.0099  91.23  0.0097  \n",
       "30  0.0094      90.64  0.0081  90.63  0.0084  \n",
       "21  0.0045      89.86  0.0044  90.07  0.0044  \n",
       "25  0.0033      88.76  0.0040  89.22  0.0038  \n",
       "29  0.0121      88.08  0.0113  87.94  0.0113  \n",
       "20  0.0047      87.08  0.0047  87.30  0.0047  \n",
       "24  0.0038      86.74  0.0053  87.21  0.0051  \n",
       "34  0.0798      85.98  0.0818  85.17  0.0915  \n",
       "23  0.0042      82.52  0.0051  83.18  0.0051  \n",
       "44  0.0897      82.50  0.0895  81.68  0.0969  \n",
       "2   0.0575      76.33  0.0381  79.01  0.0465  \n",
       "43  0.0748      79.98  0.0509  78.67  0.0629  \n",
       "12  0.0526      73.53  0.0407  77.58  0.0431  \n",
       "0   0.0503      73.18  0.0303  77.53  0.0363  \n",
       "11  0.0555      73.06  0.0438  77.37  0.0486  \n",
       "37  0.0768      78.85  0.0804  77.05  0.0955  \n",
       "6   0.0357      71.35  0.0331  76.52  0.0337  \n",
       "35  0.0713      76.80  0.0699  75.16  0.0811  \n",
       "5   0.0519      69.10  0.0409  74.46  0.0462  \n",
       "32  0.0957      77.77  0.0624  74.22  0.0754  \n",
       "10  0.0646      69.38  0.0462  73.76  0.0583  \n",
       "3   0.0727      70.65  0.0542  73.59  0.0587  \n",
       "4   0.0523      67.78  0.0359  72.98  0.0442  \n",
       "36  0.0865      74.37  0.0742  71.42  0.0893  \n",
       "14  0.0681      65.52  0.0516  71.33  0.0594  \n",
       "15  0.0610      65.23  0.0515  71.29  0.0556  \n",
       "47  0.1289      73.48  0.1197  70.89  0.1252  \n",
       "13  0.0854      63.67  0.0641  69.35  0.0727  \n",
       "1   0.0633      62.85  0.0592  68.98  0.0602  \n",
       "9   0.0486      60.80  0.0470  68.17  0.0459  \n",
       "8   0.0552      60.97  0.0520  68.12  0.0525  \n",
       "38  0.0313      71.34  0.0714  67.58  0.0721  \n",
       "46  0.1230      70.63  0.1008  67.39  0.1185  \n",
       "7   0.0594      59.62  0.0568  66.91  0.0592  \n",
       "42  0.0763      70.60  0.0857  66.11  0.0883  \n",
       "33  0.0752      68.89  0.0775  65.14  0.0864  \n",
       "40  0.0586      65.95  0.0736  62.04  0.0706  \n",
       "41  0.0783      63.74  0.0770  61.43  0.0853  \n",
       "45  0.0862      62.40  0.0770  58.82  0.0827  \n",
       "39  0.0820      62.47  0.0769  57.58  0.0802  "
      ],
      "text/html": "<div>\n<style scoped>\n    .dataframe tbody tr th:only-of-type {\n        vertical-align: middle;\n    }\n\n    .dataframe tbody tr th {\n        vertical-align: top;\n    }\n\n    .dataframe thead th {\n        text-align: right;\n    }\n</style>\n<table border=\"1\" class=\"dataframe\">\n  <thead>\n    <tr style=\"text-align: right;\">\n      <th></th>\n      <th>Modelo</th>\n      <th>Estratégia</th>\n      <th>Acurácia %</th>\n      <th>DP</th>\n      <th>Precisão</th>\n      <th>DP</th>\n      <th>Revocação</th>\n      <th>DP</th>\n      <th>F1</th>\n      <th>DP</th>\n    </tr>\n  </thead>\n  <tbody>\n    <tr>\n      <th>18</th>\n      <td>SVM</td>\n      <td>Segmento+Ementa Smote</td>\n      <td>98.90</td>\n      <td>0.0084</td>\n      <td>98.97</td>\n      <td>0.0069</td>\n      <td>98.90</td>\n      <td>0.0084</td>\n      <td>98.89</td>\n      <td>0.0086</td>\n    </tr>\n    <tr>\n      <th>16</th>\n      <td>SVM</td>\n      <td>Segmento Smote</td>\n      <td>97.58</td>\n      <td>0.0045</td>\n      <td>97.83</td>\n      <td>0.0036</td>\n      <td>97.58</td>\n      <td>0.0045</td>\n      <td>97.61</td>\n      <td>0.0045</td>\n    </tr>\n    <tr>\n      <th>19</th>\n      <td>SVM</td>\n      <td>TodosVerbos Smote</td>\n      <td>96.80</td>\n      <td>0.0089</td>\n      <td>97.04</td>\n      <td>0.0075</td>\n      <td>96.79</td>\n      <td>0.0089</td>\n      <td>96.79</td>\n      <td>0.0094</td>\n    </tr>\n    <tr>\n      <th>28</th>\n      <td>SVM</td>\n      <td>Segmento+Ementa Chi 0.5 Smote</td>\n      <td>94.93</td>\n      <td>0.0098</td>\n      <td>95.07</td>\n      <td>0.0099</td>\n      <td>94.93</td>\n      <td>0.0098</td>\n      <td>94.91</td>\n      <td>0.0101</td>\n    </tr>\n    <tr>\n      <th>27</th>\n      <td>SVM</td>\n      <td>Segmento+Ementa Chi 0.25 Smote</td>\n      <td>93.63</td>\n      <td>0.0096</td>\n      <td>93.78</td>\n      <td>0.0095</td>\n      <td>93.63</td>\n      <td>0.0096</td>\n      <td>93.59</td>\n      <td>0.0098</td>\n    </tr>\n    <tr>\n      <th>31</th>\n      <td>SVM</td>\n      <td>TodosVerbos Chi 0.5 Smote</td>\n      <td>92.92</td>\n      <td>0.0097</td>\n      <td>93.27</td>\n      <td>0.0100</td>\n      <td>92.92</td>\n      <td>0.0097</td>\n      <td>92.92</td>\n      <td>0.0100</td>\n    </tr>\n    <tr>\n      <th>17</th>\n      <td>SVM</td>\n      <td>VerbosSegmento Smote</td>\n      <td>92.68</td>\n      <td>0.0078</td>\n      <td>94.05</td>\n      <td>0.0040</td>\n      <td>92.68</td>\n      <td>0.0078</td>\n      <td>92.88</td>\n      <td>0.0074</td>\n    </tr>\n    <tr>\n      <th>22</th>\n      <td>SVM</td>\n      <td>Segmento Chi 0.5 Smote</td>\n      <td>91.93</td>\n      <td>0.0022</td>\n      <td>93.14</td>\n      <td>0.0022</td>\n      <td>91.93</td>\n      <td>0.0022</td>\n      <td>92.13</td>\n      <td>0.0021</td>\n    </tr>\n    <tr>\n      <th>26</th>\n      <td>SVM</td>\n      <td>Segmento+Ementa Chi 0.1 Smote</td>\n      <td>91.30</td>\n      <td>0.0099</td>\n      <td>91.56</td>\n      <td>0.0086</td>\n      <td>91.30</td>\n      <td>0.0099</td>\n      <td>91.23</td>\n      <td>0.0097</td>\n    </tr>\n    <tr>\n      <th>30</th>\n      <td>SVM</td>\n      <td>TodosVerbos Chi 0.25 Smote</td>\n      <td>90.64</td>\n      <td>0.0081</td>\n      <td>91.19</td>\n      <td>0.0094</td>\n      <td>90.64</td>\n      <td>0.0081</td>\n      <td>90.63</td>\n      <td>0.0084</td>\n    </tr>\n    <tr>\n      <th>21</th>\n      <td>SVM</td>\n      <td>Segmento Chi 0.25 Smote</td>\n      <td>89.86</td>\n      <td>0.0044</td>\n      <td>91.57</td>\n      <td>0.0045</td>\n      <td>89.86</td>\n      <td>0.0044</td>\n      <td>90.07</td>\n      <td>0.0044</td>\n    </tr>\n    <tr>\n      <th>25</th>\n      <td>SVM</td>\n      <td>VerbosSegmento Chi 0.5 Smote</td>\n      <td>88.76</td>\n      <td>0.0039</td>\n      <td>91.13</td>\n      <td>0.0033</td>\n      <td>88.76</td>\n      <td>0.0040</td>\n      <td>89.22</td>\n      <td>0.0038</td>\n    </tr>\n    <tr>\n      <th>29</th>\n      <td>SVM</td>\n      <td>TodosVerbos Chi 0.1 Smote</td>\n      <td>88.08</td>\n      <td>0.0113</td>\n      <td>88.60</td>\n      <td>0.0121</td>\n      <td>88.08</td>\n      <td>0.0113</td>\n      <td>87.94</td>\n      <td>0.0113</td>\n    </tr>\n    <tr>\n      <th>20</th>\n      <td>SVM</td>\n      <td>Segmento Chi 0.1 Smote</td>\n      <td>87.08</td>\n      <td>0.0047</td>\n      <td>89.29</td>\n      <td>0.0047</td>\n      <td>87.08</td>\n      <td>0.0047</td>\n      <td>87.30</td>\n      <td>0.0047</td>\n    </tr>\n    <tr>\n      <th>24</th>\n      <td>SVM</td>\n      <td>VerbosSegmento Chi 0.25 Smote</td>\n      <td>86.74</td>\n      <td>0.0053</td>\n      <td>89.51</td>\n      <td>0.0038</td>\n      <td>86.74</td>\n      <td>0.0053</td>\n      <td>87.21</td>\n      <td>0.0051</td>\n    </tr>\n    <tr>\n      <th>34</th>\n      <td>SVM</td>\n      <td>Segmento+Ementa NearMiss</td>\n      <td>86.20</td>\n      <td>0.0811</td>\n      <td>87.50</td>\n      <td>0.0798</td>\n      <td>85.98</td>\n      <td>0.0818</td>\n      <td>85.17</td>\n      <td>0.0915</td>\n    </tr>\n    <tr>\n      <th>23</th>\n      <td>SVM</td>\n      <td>VerbosSegmento Chi 0.1 Smote</td>\n      <td>82.52</td>\n      <td>0.0051</td>\n      <td>86.25</td>\n      <td>0.0042</td>\n      <td>82.52</td>\n      <td>0.0051</td>\n      <td>83.18</td>\n      <td>0.0051</td>\n    </tr>\n    <tr>\n      <th>44</th>\n      <td>SVM</td>\n      <td>Segmento+Ementa Chi 0.5 NearMiss</td>\n      <td>82.61</td>\n      <td>0.0902</td>\n      <td>84.03</td>\n      <td>0.0897</td>\n      <td>82.50</td>\n      <td>0.0895</td>\n      <td>81.68</td>\n      <td>0.0969</td>\n    </tr>\n    <tr>\n      <th>2</th>\n      <td>SVM</td>\n      <td>Segmento+Ementa</td>\n      <td>89.96</td>\n      <td>0.0575</td>\n      <td>85.07</td>\n      <td>0.0575</td>\n      <td>76.33</td>\n      <td>0.0381</td>\n      <td>79.01</td>\n      <td>0.0465</td>\n    </tr>\n    <tr>\n      <th>43</th>\n      <td>SVM</td>\n      <td>Segmento+Ementa Chi 0.25 NearMiss</td>\n      <td>80.22</td>\n      <td>0.0500</td>\n      <td>80.87</td>\n      <td>0.0748</td>\n      <td>79.98</td>\n      <td>0.0509</td>\n      <td>78.67</td>\n      <td>0.0629</td>\n    </tr>\n    <tr>\n      <th>12</th>\n      <td>SVM</td>\n      <td>Segmento+Ementa Chi 0.5</td>\n      <td>89.53</td>\n      <td>0.0552</td>\n      <td>86.42</td>\n      <td>0.0526</td>\n      <td>73.53</td>\n      <td>0.0407</td>\n      <td>77.58</td>\n      <td>0.0431</td>\n    </tr>\n    <tr>\n      <th>0</th>\n      <td>SVM</td>\n      <td>Segmento</td>\n      <td>91.57</td>\n      <td>0.0077</td>\n      <td>85.67</td>\n      <td>0.0503</td>\n      <td>73.18</td>\n      <td>0.0303</td>\n      <td>77.53</td>\n      <td>0.0363</td>\n    </tr>\n    <tr>\n      <th>11</th>\n      <td>SVM</td>\n      <td>Segmento+Ementa Chi 0.25</td>\n      <td>89.76</td>\n      <td>0.0549</td>\n      <td>87.35</td>\n      <td>0.0555</td>\n      <td>73.06</td>\n      <td>0.0438</td>\n      <td>77.37</td>\n      <td>0.0486</td>\n    </tr>\n    <tr>\n      <th>37</th>\n      <td>SVM</td>\n      <td>Segmento Chi 0.25 NearMiss</td>\n      <td>79.13</td>\n      <td>0.0813</td>\n      <td>80.63</td>\n      <td>0.0768</td>\n      <td>78.85</td>\n      <td>0.0804</td>\n      <td>77.05</td>\n      <td>0.0955</td>\n    </tr>\n    <tr>\n      <th>6</th>\n      <td>SVM</td>\n      <td>Segmento Chi 0.5</td>\n      <td>91.16</td>\n      <td>0.0065</td>\n      <td>86.96</td>\n      <td>0.0357</td>\n      <td>71.35</td>\n      <td>0.0331</td>\n      <td>76.52</td>\n      <td>0.0337</td>\n    </tr>\n    <tr>\n      <th>35</th>\n      <td>SVM</td>\n      <td>TodosVerbos NearMiss</td>\n      <td>76.74</td>\n      <td>0.0701</td>\n      <td>80.91</td>\n      <td>0.0713</td>\n      <td>76.80</td>\n      <td>0.0699</td>\n      <td>75.16</td>\n      <td>0.0811</td>\n    </tr>\n    <tr>\n      <th>5</th>\n      <td>SVM</td>\n      <td>Segmento Chi 0.25</td>\n      <td>90.22</td>\n      <td>0.0108</td>\n      <td>86.66</td>\n      <td>0.0519</td>\n      <td>69.10</td>\n      <td>0.0409</td>\n      <td>74.46</td>\n      <td>0.0462</td>\n    </tr>\n    <tr>\n      <th>32</th>\n      <td>SVM</td>\n      <td>Segmento NearMiss</td>\n      <td>77.83</td>\n      <td>0.0588</td>\n      <td>75.29</td>\n      <td>0.0957</td>\n      <td>77.77</td>\n      <td>0.0624</td>\n      <td>74.22</td>\n      <td>0.0754</td>\n    </tr>\n    <tr>\n      <th>10</th>\n      <td>SVM</td>\n      <td>Segmento+Ementa Chi 0.1</td>\n      <td>89.91</td>\n      <td>0.0231</td>\n      <td>86.65</td>\n      <td>0.0646</td>\n      <td>69.38</td>\n      <td>0.0462</td>\n      <td>73.76</td>\n      <td>0.0583</td>\n    </tr>\n    <tr>\n      <th>3</th>\n      <td>SVM</td>\n      <td>TodosVerbos</td>\n      <td>88.88</td>\n      <td>0.0614</td>\n      <td>81.53</td>\n      <td>0.0727</td>\n      <td>70.65</td>\n      <td>0.0542</td>\n      <td>73.59</td>\n      <td>0.0587</td>\n    </tr>\n    <tr>\n      <th>4</th>\n      <td>SVM</td>\n      <td>Segmento Chi 0.1</td>\n      <td>89.83</td>\n      <td>0.0122</td>\n      <td>85.89</td>\n      <td>0.0523</td>\n      <td>67.78</td>\n      <td>0.0359</td>\n      <td>72.98</td>\n      <td>0.0442</td>\n    </tr>\n    <tr>\n      <th>36</th>\n      <td>SVM</td>\n      <td>Segmento Chi 0.1 NearMiss</td>\n      <td>74.67</td>\n      <td>0.0761</td>\n      <td>75.20</td>\n      <td>0.0865</td>\n      <td>74.37</td>\n      <td>0.0742</td>\n      <td>71.42</td>\n      <td>0.0893</td>\n    </tr>\n    <tr>\n      <th>14</th>\n      <td>SVM</td>\n      <td>TodosVerbos Chi 0.25</td>\n      <td>88.81</td>\n      <td>0.0299</td>\n      <td>84.48</td>\n      <td>0.0681</td>\n      <td>65.52</td>\n      <td>0.0516</td>\n      <td>71.33</td>\n      <td>0.0594</td>\n    </tr>\n    <tr>\n      <th>15</th>\n      <td>SVM</td>\n      <td>TodosVerbos Chi 0.5</td>\n      <td>88.92</td>\n      <td>0.0356</td>\n      <td>84.45</td>\n      <td>0.0610</td>\n      <td>65.23</td>\n      <td>0.0515</td>\n      <td>71.29</td>\n      <td>0.0556</td>\n    </tr>\n    <tr>\n      <th>47</th>\n      <td>SVM</td>\n      <td>TodosVerbos Chi 0.5 NearMiss</td>\n      <td>73.59</td>\n      <td>0.1187</td>\n      <td>75.56</td>\n      <td>0.1289</td>\n      <td>73.48</td>\n      <td>0.1197</td>\n      <td>70.89</td>\n      <td>0.1252</td>\n    </tr>\n    <tr>\n      <th>13</th>\n      <td>SVM</td>\n      <td>TodosVerbos Chi 0.1</td>\n      <td>88.13</td>\n      <td>0.0295</td>\n      <td>84.11</td>\n      <td>0.0854</td>\n      <td>63.67</td>\n      <td>0.0641</td>\n      <td>69.35</td>\n      <td>0.0727</td>\n    </tr>\n    <tr>\n      <th>1</th>\n      <td>SVM</td>\n      <td>VerbosSegmento</td>\n      <td>87.77</td>\n      <td>0.0255</td>\n      <td>81.92</td>\n      <td>0.0633</td>\n      <td>62.85</td>\n      <td>0.0592</td>\n      <td>68.98</td>\n      <td>0.0602</td>\n    </tr>\n    <tr>\n      <th>9</th>\n      <td>SVM</td>\n      <td>VerbosSegmento Chi 0.5</td>\n      <td>88.09</td>\n      <td>0.0213</td>\n      <td>83.76</td>\n      <td>0.0486</td>\n      <td>60.80</td>\n      <td>0.0470</td>\n      <td>68.17</td>\n      <td>0.0459</td>\n    </tr>\n    <tr>\n      <th>8</th>\n      <td>SVM</td>\n      <td>VerbosSegmento Chi 0.25</td>\n      <td>87.58</td>\n      <td>0.0250</td>\n      <td>83.59</td>\n      <td>0.0552</td>\n      <td>60.97</td>\n      <td>0.0520</td>\n      <td>68.12</td>\n      <td>0.0525</td>\n    </tr>\n    <tr>\n      <th>38</th>\n      <td>SVM</td>\n      <td>Segmento Chi 0.5 NearMiss</td>\n      <td>71.41</td>\n      <td>0.0764</td>\n      <td>69.15</td>\n      <td>0.0313</td>\n      <td>71.34</td>\n      <td>0.0714</td>\n      <td>67.58</td>\n      <td>0.0721</td>\n    </tr>\n    <tr>\n      <th>46</th>\n      <td>SVM</td>\n      <td>TodosVerbos Chi 0.25 NearMiss</td>\n      <td>70.54</td>\n      <td>0.1039</td>\n      <td>68.88</td>\n      <td>0.1230</td>\n      <td>70.63</td>\n      <td>0.1008</td>\n      <td>67.39</td>\n      <td>0.1185</td>\n    </tr>\n    <tr>\n      <th>7</th>\n      <td>SVM</td>\n      <td>VerbosSegmento Chi 0.1</td>\n      <td>87.07</td>\n      <td>0.0260</td>\n      <td>83.41</td>\n      <td>0.0594</td>\n      <td>59.62</td>\n      <td>0.0568</td>\n      <td>66.91</td>\n      <td>0.0592</td>\n    </tr>\n    <tr>\n      <th>42</th>\n      <td>SVM</td>\n      <td>Segmento+Ementa Chi 0.1 NearMiss</td>\n      <td>70.65</td>\n      <td>0.0887</td>\n      <td>67.50</td>\n      <td>0.0763</td>\n      <td>70.60</td>\n      <td>0.0857</td>\n      <td>66.11</td>\n      <td>0.0883</td>\n    </tr>\n    <tr>\n      <th>33</th>\n      <td>SVM</td>\n      <td>VerbosSegmento NearMiss</td>\n      <td>68.91</td>\n      <td>0.0806</td>\n      <td>66.65</td>\n      <td>0.0752</td>\n      <td>68.89</td>\n      <td>0.0775</td>\n      <td>65.14</td>\n      <td>0.0864</td>\n    </tr>\n    <tr>\n      <th>40</th>\n      <td>SVM</td>\n      <td>VerbosSegmento Chi 0.25 NearMiss</td>\n      <td>66.30</td>\n      <td>0.0731</td>\n      <td>65.81</td>\n      <td>0.0586</td>\n      <td>65.95</td>\n      <td>0.0736</td>\n      <td>62.04</td>\n      <td>0.0706</td>\n    </tr>\n    <tr>\n      <th>41</th>\n      <td>SVM</td>\n      <td>VerbosSegmento Chi 0.5 NearMiss</td>\n      <td>64.13</td>\n      <td>0.0764</td>\n      <td>66.93</td>\n      <td>0.0783</td>\n      <td>63.74</td>\n      <td>0.0770</td>\n      <td>61.43</td>\n      <td>0.0853</td>\n    </tr>\n    <tr>\n      <th>45</th>\n      <td>SVM</td>\n      <td>TodosVerbos Chi 0.1 NearMiss</td>\n      <td>62.50</td>\n      <td>0.0821</td>\n      <td>62.02</td>\n      <td>0.0862</td>\n      <td>62.40</td>\n      <td>0.0770</td>\n      <td>58.82</td>\n      <td>0.0827</td>\n    </tr>\n    <tr>\n      <th>39</th>\n      <td>SVM</td>\n      <td>VerbosSegmento Chi 0.1 NearMiss</td>\n      <td>62.72</td>\n      <td>0.0784</td>\n      <td>59.17</td>\n      <td>0.0820</td>\n      <td>62.47</td>\n      <td>0.0769</td>\n      <td>57.58</td>\n      <td>0.0802</td>\n    </tr>\n  </tbody>\n</table>\n</div>"
     },
     "metadata": {},
     "execution_count": 10
    }
   ],
   "source": [
    "df_resultado  = pd.DataFrame(resultadoGeral)\n",
    "df_resultado.columns = ['Modelo','Estratégia',\n",
    "                        'Acurácia %','DP','Precisão',\n",
    "                        'DP', 'Revocação','DP', 'F1','DP' ]\n",
    "df_resultado.loc[df_resultado['Modelo']=='LinearSVC','Modelo']='SVM'\n",
    "df_resultado.loc[df_resultado['Modelo']=='MultinomialNB','Modelo']='Naive Bayes'\n",
    "df_resultado.sort_values(['F1'], ascending = False)"
   ]
  },
  {
   "cell_type": "code",
   "execution_count": 11,
   "metadata": {},
   "outputs": [],
   "source": [
    "df_resultado.to_csv(\"resultado.csv\")"
   ]
  },
  {
   "cell_type": "code",
   "execution_count": 12,
   "metadata": {},
   "outputs": [
    {
     "output_type": "stream",
     "name": "stdout",
     "text": [
      "\\begin{tabular}{llrrrrrrrr}\n\\toprule\nModelo &                         Estratégia &  Acurácia \\% &      DP &  Precisão &      DP &  Revocação &      DP &     F1 &      DP \\\\\n\\midrule\n   SVM &              Segmento+Ementa Smote &       98.90 &  0.0084 &     98.97 &  0.0069 &      98.90 &  0.0084 &  98.89 &  0.0086 \\\\\n   SVM &                     Segmento Smote &       97.58 &  0.0045 &     97.83 &  0.0036 &      97.58 &  0.0045 &  97.61 &  0.0045 \\\\\n   SVM &                  TodosVerbos Smote &       96.80 &  0.0089 &     97.04 &  0.0075 &      96.79 &  0.0089 &  96.79 &  0.0094 \\\\\n   SVM &      Segmento+Ementa Chi 0.5 Smote &       94.93 &  0.0098 &     95.07 &  0.0099 &      94.93 &  0.0098 &  94.91 &  0.0101 \\\\\n   SVM &     Segmento+Ementa Chi 0.25 Smote &       93.63 &  0.0096 &     93.78 &  0.0095 &      93.63 &  0.0096 &  93.59 &  0.0098 \\\\\n   SVM &          TodosVerbos Chi 0.5 Smote &       92.92 &  0.0097 &     93.27 &  0.0100 &      92.92 &  0.0097 &  92.92 &  0.0100 \\\\\n   SVM &               VerbosSegmento Smote &       92.68 &  0.0078 &     94.05 &  0.0040 &      92.68 &  0.0078 &  92.88 &  0.0074 \\\\\n   SVM &             Segmento Chi 0.5 Smote &       91.93 &  0.0022 &     93.14 &  0.0022 &      91.93 &  0.0022 &  92.13 &  0.0021 \\\\\n   SVM &      Segmento+Ementa Chi 0.1 Smote &       91.30 &  0.0099 &     91.56 &  0.0086 &      91.30 &  0.0099 &  91.23 &  0.0097 \\\\\n   SVM &         TodosVerbos Chi 0.25 Smote &       90.64 &  0.0081 &     91.19 &  0.0094 &      90.64 &  0.0081 &  90.63 &  0.0084 \\\\\n   SVM &            Segmento Chi 0.25 Smote &       89.86 &  0.0044 &     91.57 &  0.0045 &      89.86 &  0.0044 &  90.07 &  0.0044 \\\\\n   SVM &       VerbosSegmento Chi 0.5 Smote &       88.76 &  0.0039 &     91.13 &  0.0033 &      88.76 &  0.0040 &  89.22 &  0.0038 \\\\\n   SVM &          TodosVerbos Chi 0.1 Smote &       88.08 &  0.0113 &     88.60 &  0.0121 &      88.08 &  0.0113 &  87.94 &  0.0113 \\\\\n   SVM &             Segmento Chi 0.1 Smote &       87.08 &  0.0047 &     89.29 &  0.0047 &      87.08 &  0.0047 &  87.30 &  0.0047 \\\\\n   SVM &      VerbosSegmento Chi 0.25 Smote &       86.74 &  0.0053 &     89.51 &  0.0038 &      86.74 &  0.0053 &  87.21 &  0.0051 \\\\\n   SVM &           Segmento+Ementa NearMiss &       86.20 &  0.0811 &     87.50 &  0.0798 &      85.98 &  0.0818 &  85.17 &  0.0915 \\\\\n   SVM &       VerbosSegmento Chi 0.1 Smote &       82.52 &  0.0051 &     86.25 &  0.0042 &      82.52 &  0.0051 &  83.18 &  0.0051 \\\\\n   SVM &   Segmento+Ementa Chi 0.5 NearMiss &       82.61 &  0.0902 &     84.03 &  0.0897 &      82.50 &  0.0895 &  81.68 &  0.0969 \\\\\n   SVM &                    Segmento+Ementa &       89.96 &  0.0575 &     85.07 &  0.0575 &      76.33 &  0.0381 &  79.01 &  0.0465 \\\\\n   SVM &  Segmento+Ementa Chi 0.25 NearMiss &       80.22 &  0.0500 &     80.87 &  0.0748 &      79.98 &  0.0509 &  78.67 &  0.0629 \\\\\n   SVM &            Segmento+Ementa Chi 0.5 &       89.53 &  0.0552 &     86.42 &  0.0526 &      73.53 &  0.0407 &  77.58 &  0.0431 \\\\\n   SVM &                           Segmento &       91.57 &  0.0077 &     85.67 &  0.0503 &      73.18 &  0.0303 &  77.53 &  0.0363 \\\\\n   SVM &           Segmento+Ementa Chi 0.25 &       89.76 &  0.0549 &     87.35 &  0.0555 &      73.06 &  0.0438 &  77.37 &  0.0486 \\\\\n   SVM &         Segmento Chi 0.25 NearMiss &       79.13 &  0.0813 &     80.63 &  0.0768 &      78.85 &  0.0804 &  77.05 &  0.0955 \\\\\n   SVM &                   Segmento Chi 0.5 &       91.16 &  0.0065 &     86.96 &  0.0357 &      71.35 &  0.0331 &  76.52 &  0.0337 \\\\\n   SVM &               TodosVerbos NearMiss &       76.74 &  0.0701 &     80.91 &  0.0713 &      76.80 &  0.0699 &  75.16 &  0.0811 \\\\\n   SVM &                  Segmento Chi 0.25 &       90.22 &  0.0108 &     86.66 &  0.0519 &      69.10 &  0.0409 &  74.46 &  0.0462 \\\\\n   SVM &                  Segmento NearMiss &       77.83 &  0.0588 &     75.29 &  0.0957 &      77.77 &  0.0624 &  74.22 &  0.0754 \\\\\n   SVM &            Segmento+Ementa Chi 0.1 &       89.91 &  0.0231 &     86.65 &  0.0646 &      69.38 &  0.0462 &  73.76 &  0.0583 \\\\\n   SVM &                        TodosVerbos &       88.88 &  0.0614 &     81.53 &  0.0727 &      70.65 &  0.0542 &  73.59 &  0.0587 \\\\\n   SVM &                   Segmento Chi 0.1 &       89.83 &  0.0122 &     85.89 &  0.0523 &      67.78 &  0.0359 &  72.98 &  0.0442 \\\\\n   SVM &          Segmento Chi 0.1 NearMiss &       74.67 &  0.0761 &     75.20 &  0.0865 &      74.37 &  0.0742 &  71.42 &  0.0893 \\\\\n   SVM &               TodosVerbos Chi 0.25 &       88.81 &  0.0299 &     84.48 &  0.0681 &      65.52 &  0.0516 &  71.33 &  0.0594 \\\\\n   SVM &                TodosVerbos Chi 0.5 &       88.92 &  0.0356 &     84.45 &  0.0610 &      65.23 &  0.0515 &  71.29 &  0.0556 \\\\\n   SVM &       TodosVerbos Chi 0.5 NearMiss &       73.59 &  0.1187 &     75.56 &  0.1289 &      73.48 &  0.1197 &  70.89 &  0.1252 \\\\\n   SVM &                TodosVerbos Chi 0.1 &       88.13 &  0.0295 &     84.11 &  0.0854 &      63.67 &  0.0641 &  69.35 &  0.0727 \\\\\n   SVM &                     VerbosSegmento &       87.77 &  0.0255 &     81.92 &  0.0633 &      62.85 &  0.0592 &  68.98 &  0.0602 \\\\\n   SVM &             VerbosSegmento Chi 0.5 &       88.09 &  0.0213 &     83.76 &  0.0486 &      60.80 &  0.0470 &  68.17 &  0.0459 \\\\\n   SVM &            VerbosSegmento Chi 0.25 &       87.58 &  0.0250 &     83.59 &  0.0552 &      60.97 &  0.0520 &  68.12 &  0.0525 \\\\\n   SVM &          Segmento Chi 0.5 NearMiss &       71.41 &  0.0764 &     69.15 &  0.0313 &      71.34 &  0.0714 &  67.58 &  0.0721 \\\\\n   SVM &      TodosVerbos Chi 0.25 NearMiss &       70.54 &  0.1039 &     68.88 &  0.1230 &      70.63 &  0.1008 &  67.39 &  0.1185 \\\\\n   SVM &             VerbosSegmento Chi 0.1 &       87.07 &  0.0260 &     83.41 &  0.0594 &      59.62 &  0.0568 &  66.91 &  0.0592 \\\\\n   SVM &   Segmento+Ementa Chi 0.1 NearMiss &       70.65 &  0.0887 &     67.50 &  0.0763 &      70.60 &  0.0857 &  66.11 &  0.0883 \\\\\n   SVM &            VerbosSegmento NearMiss &       68.91 &  0.0806 &     66.65 &  0.0752 &      68.89 &  0.0775 &  65.14 &  0.0864 \\\\\n   SVM &   VerbosSegmento Chi 0.25 NearMiss &       66.30 &  0.0731 &     65.81 &  0.0586 &      65.95 &  0.0736 &  62.04 &  0.0706 \\\\\n   SVM &    VerbosSegmento Chi 0.5 NearMiss &       64.13 &  0.0764 &     66.93 &  0.0783 &      63.74 &  0.0770 &  61.43 &  0.0853 \\\\\n   SVM &       TodosVerbos Chi 0.1 NearMiss &       62.50 &  0.0821 &     62.02 &  0.0862 &      62.40 &  0.0770 &  58.82 &  0.0827 \\\\\n   SVM &    VerbosSegmento Chi 0.1 NearMiss &       62.72 &  0.0784 &     59.17 &  0.0820 &      62.47 &  0.0769 &  57.58 &  0.0802 \\\\\n\\bottomrule\n\\end{tabular}\n\n"
     ]
    }
   ],
   "source": [
    "print(df_resultado.sort_values(['F1'], ascending = False).to_latex(index=False))"
   ]
  },
  {
   "cell_type": "code",
   "execution_count": 57,
   "metadata": {},
   "outputs": [
    {
     "output_type": "stream",
     "name": "stdout",
     "text": [
      "[LibLinear][LibLinear][LibLinear][LibLinear][LibLinear][LibLinear][LibLinear][LibLinear][LibLinear][LibLinear]"
     ]
    },
    {
     "output_type": "execute_result",
     "data": {
      "text/plain": [
       "       24     1      9      22     10     25     13     4 \n",
       "24  13143      0     30    212      0     11      1      0\n",
       "1      69  12578    516     80      0    147      0      7\n",
       "9      18     32  13310      0     34      3      0      0\n",
       "22     16      3      0  13378      0      0      0      0\n",
       "10      0      0      0      0  13397      0      0      0\n",
       "25      0      0      0      0      0  13397      0      0\n",
       "13      0      0      0      0      0      0  13397      0\n",
       "4       0      0      0      0      0      0      0  13397"
      ],
      "text/html": "<div>\n<style scoped>\n    .dataframe tbody tr th:only-of-type {\n        vertical-align: middle;\n    }\n\n    .dataframe tbody tr th {\n        vertical-align: top;\n    }\n\n    .dataframe thead th {\n        text-align: right;\n    }\n</style>\n<table border=\"1\" class=\"dataframe\">\n  <thead>\n    <tr style=\"text-align: right;\">\n      <th></th>\n      <th>24</th>\n      <th>1</th>\n      <th>9</th>\n      <th>22</th>\n      <th>10</th>\n      <th>25</th>\n      <th>13</th>\n      <th>4</th>\n    </tr>\n  </thead>\n  <tbody>\n    <tr>\n      <th>24</th>\n      <td>13143</td>\n      <td>0</td>\n      <td>30</td>\n      <td>212</td>\n      <td>0</td>\n      <td>11</td>\n      <td>1</td>\n      <td>0</td>\n    </tr>\n    <tr>\n      <th>1</th>\n      <td>69</td>\n      <td>12578</td>\n      <td>516</td>\n      <td>80</td>\n      <td>0</td>\n      <td>147</td>\n      <td>0</td>\n      <td>7</td>\n    </tr>\n    <tr>\n      <th>9</th>\n      <td>18</td>\n      <td>32</td>\n      <td>13310</td>\n      <td>0</td>\n      <td>34</td>\n      <td>3</td>\n      <td>0</td>\n      <td>0</td>\n    </tr>\n    <tr>\n      <th>22</th>\n      <td>16</td>\n      <td>3</td>\n      <td>0</td>\n      <td>13378</td>\n      <td>0</td>\n      <td>0</td>\n      <td>0</td>\n      <td>0</td>\n    </tr>\n    <tr>\n      <th>10</th>\n      <td>0</td>\n      <td>0</td>\n      <td>0</td>\n      <td>0</td>\n      <td>13397</td>\n      <td>0</td>\n      <td>0</td>\n      <td>0</td>\n    </tr>\n    <tr>\n      <th>25</th>\n      <td>0</td>\n      <td>0</td>\n      <td>0</td>\n      <td>0</td>\n      <td>0</td>\n      <td>13397</td>\n      <td>0</td>\n      <td>0</td>\n    </tr>\n    <tr>\n      <th>13</th>\n      <td>0</td>\n      <td>0</td>\n      <td>0</td>\n      <td>0</td>\n      <td>0</td>\n      <td>0</td>\n      <td>13397</td>\n      <td>0</td>\n    </tr>\n    <tr>\n      <th>4</th>\n      <td>0</td>\n      <td>0</td>\n      <td>0</td>\n      <td>0</td>\n      <td>0</td>\n      <td>0</td>\n      <td>0</td>\n      <td>13397</td>\n    </tr>\n  </tbody>\n</table>\n</div>"
     },
     "metadata": {},
     "execution_count": 57
    }
   ],
   "source": [
    "from sklearn.model_selection import cross_val_predict\n",
    "from sklearn.svm import LinearSVC\n",
    "\n",
    "modelo = LinearSVC(random_state=26, max_iter=1000)\n",
    "\n",
    "for dado in listaDados:\n",
    "    if dado.estrategia == 'Segmento+Ementa Smote':\n",
    "        y_pred = cross_val_predict(modelo, dado.x,dado.y, cv=10)\n",
    "        y_real = dado.y\n",
    "        classes = dado.y.unique()\n",
    "from libs import metricas\n",
    "matrix = metricas.matrixConfusa(y_real, y_pred, classes)\n",
    "matrix  "
   ]
  },
  {
   "cell_type": "code",
   "execution_count": 81,
   "metadata": {},
   "outputs": [],
   "source": [
    "for dado in listaDados:\n",
    "    if dado.estrategia == 'Segmento+Ementa Smote':\n",
    "        model =  LinearSVC(random_state=26, max_iter=1000, penalty='l2', C=1)\n",
    "        accuracy,std_acc, precision,std_pre, recall, std_rec,f1,std_f1 =                metricas.calculaMetricasCV(model,dado.x, dado.y)"
   ]
  },
  {
   "cell_type": "code",
   "execution_count": 83,
   "metadata": {},
   "outputs": [
    {
     "output_type": "stream",
     "name": "stdout",
     "text": [
      "98.9 0.0084 98.97 0.0069 98.9 0.0084 98.89 0.0086\n"
     ]
    }
   ],
   "source": [
    "print( accuracy,std_acc, precision,std_pre, recall, std_rec,f1,std_f1)"
   ]
  },
  {
   "cell_type": "code",
   "execution_count": 79,
   "metadata": {},
   "outputs": [],
   "source": [
    "\n",
    "for dado in listaDados:\n",
    "    if dado.estrategia == 'Segmento+Ementa Smote':\n",
    "        model =  LinearSVC(random_state=26, max_iter=1000, penalty='l2', C=1.5)\n",
    "        accuracy,std_acc, precision,std_pre, recall, std_rec,f1,std_f1 =                metricas.calculaMetricasCV(model,dado.x, dado.y)"
   ]
  },
  {
   "cell_type": "code",
   "execution_count": 80,
   "metadata": {},
   "outputs": [
    {
     "output_type": "stream",
     "name": "stdout",
     "text": [
      "98.92999999999999 0.0083 99.0 0.0068 98.92999999999999 0.0083 98.92 0.0085\n"
     ]
    }
   ],
   "source": [
    "print(accuracy,std_acc, precision,std_pre, recall, std_rec,f1,std_f1)"
   ]
  },
  {
   "cell_type": "code",
   "execution_count": 84,
   "metadata": {},
   "outputs": [],
   "source": [
    "for dado in listaDados:\n",
    "    if dado.estrategia == 'Segmento+Ementa Smote':\n",
    "        model =  LinearSVC(random_state=26, max_iter=1000, penalty='l2', C=2)\n",
    "        accuracy,std_acc, precision,std_pre, recall, std_rec,f1,std_f1 =                metricas.calculaMetricasCV(model,dado.x, dado.y)"
   ]
  },
  {
   "cell_type": "code",
   "execution_count": 85,
   "metadata": {},
   "outputs": [
    {
     "output_type": "stream",
     "name": "stdout",
     "text": [
      "98.95 0.0079 99.02 0.0065 98.95 0.0079 98.94 0.0081\n"
     ]
    }
   ],
   "source": [
    "print( accuracy,std_acc, precision,std_pre, recall, std_rec,f1,std_f1)"
   ]
  },
  {
   "source": [],
   "cell_type": "markdown",
   "metadata": {}
  }
 ],
 "metadata": {
  "kernelspec": {
   "display_name": "Python 3",
   "language": "python",
   "name": "python3"
  },
  "language_info": {
   "codemirror_mode": {
    "name": "ipython",
    "version": 3
   },
   "file_extension": ".py",
   "mimetype": "text/x-python",
   "name": "python",
   "nbconvert_exporter": "python",
   "pygments_lexer": "ipython3",
   "version": "3.7.3-final"
  }
 },
 "nbformat": 4,
 "nbformat_minor": 2
}