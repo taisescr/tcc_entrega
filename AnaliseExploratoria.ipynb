{
 "cells": [
  {
   "cell_type": "code",
   "execution_count": 1,
   "metadata": {
    "id": "465o5H36uIu-"
   },
   "outputs": [],
   "source": [
    "##### Se estiver executando no COLAB rode esta linha e restart o Kernel em seguida\n",
    "#!python -m spacy download pt_core_news_sm"
   ]
  },
  {
   "cell_type": "code",
   "execution_count": 2,
   "metadata": {
    "id": "rhikUrWYuIvA"
   },
   "outputs": [],
   "source": [
    "#Se tiver exwecutando no Colab rode esta célula\n",
    "#from google.colab import drive\n",
    "#drive.mount('/content/gdrive')\n",
    "#import sys\n",
    "#sys.path.insert(0,'/content/gdrive/My Drive/TCC/tcccimatec')\n",
    "#caminhoDados=\"/content/gdrive/My Drive/TCC/tcccimatec/dados/\"\n"
   ]
  },
  {
   "cell_type": "code",
   "execution_count": 3,
   "metadata": {
    "id": "N0-b93gauIvA"
   },
   "outputs": [],
   "source": [
    "#Dados disponíveis em \n",
    "#https://drive.google.com/drive/folders/111ViaBRVmR0uevl00Ivmy3tbqMLjqIX7?usp=sharing"
   ]
  },
  {
   "cell_type": "code",
   "execution_count": 1,
   "metadata": {
    "id": "NZ2SqRa5uIvA"
   },
   "outputs": [],
   "source": [
    "#Se estiver rodando localmente \n",
    "caminhoDados=\"dados/\""
   ]
  },
  {
   "cell_type": "code",
   "execution_count": 2,
   "metadata": {
    "colab": {
     "base_uri": "https://localhost:8080/"
    },
    "executionInfo": {
     "elapsed": 11926,
     "status": "ok",
     "timestamp": 1625240864356,
     "user": {
      "displayName": "Taise Santana",
      "photoUrl": "https://lh3.googleusercontent.com/a-/AOh14GgKAADg6Rps3N8uIyXhe_-x0PwLHGxngc11vJP1qdQ=s64",
      "userId": "17052149037411840574"
     },
     "user_tz": 180
    },
    "id": "j8bs-5ZKuIvB",
    "outputId": "3eb23a90-b8ac-453c-edd6-a8f94dbc383e"
   },
   "outputs": [
    {
     "name": "stderr",
     "output_type": "stream",
     "text": [
      "[nltk_data] Downloading package stopwords to\n",
      "[nltk_data]     /home/94779325587/nltk_data...\n",
      "[nltk_data]   Package stopwords is already up-to-date!\n",
      "[nltk_data] Downloading package wordnet to\n",
      "[nltk_data]     /home/94779325587/nltk_data...\n",
      "[nltk_data]   Package wordnet is already up-to-date!\n",
      "[nltk_data] Downloading package punkt to\n",
      "[nltk_data]     /home/94779325587/nltk_data...\n",
      "[nltk_data]   Package punkt is already up-to-date!\n"
     ]
    }
   ],
   "source": [
    "import pandas as pd\n",
    "import numpy as np\n",
    "import matplotlib.pyplot as plt\n",
    "import seaborn as sns\n",
    "from zipfile import ZipFile\n",
    "import nltk\n",
    "from nltk.corpus import stopwords\n",
    "import re\n",
    "from unicodedata import normalize\n",
    "from nltk.tokenize import RegexpTokenizer, WordPunctTokenizer, WhitespaceTokenizer\n",
    "from wordcloud import WordCloud, STOPWORDS, ImageColorGenerator\n",
    "import html\n",
    "import spacy\n",
    "from libs import stopword, tratatexto\n",
    "\n",
    "nlp = spacy.load('pt_core_news_sm')\n",
    "nltk.download('stopwords')\n",
    "nltk.download('wordnet')\n",
    "nltk.download('punkt')\n",
    "random_state=26"
   ]
  },
  {
   "cell_type": "markdown",
   "metadata": {
    "id": "MaYgHW0muIvC"
   },
   "source": [
    "# Análise Exploratória"
   ]
  },
  {
   "cell_type": "code",
   "execution_count": 3,
   "metadata": {
    "id": "FR22-KdHuIvC"
   },
   "outputs": [],
   "source": [
    "df  = pd.read_json(caminhoDados+'segmentosOrigemAnotacao.json') "
   ]
  },
  {
   "cell_type": "code",
   "execution_count": 4,
   "metadata": {
    "colab": {
     "base_uri": "https://localhost:8080/"
    },
    "executionInfo": {
     "elapsed": 18,
     "status": "ok",
     "timestamp": 1625240866827,
     "user": {
      "displayName": "Taise Santana",
      "photoUrl": "https://lh3.googleusercontent.com/a-/AOh14GgKAADg6Rps3N8uIyXhe_-x0PwLHGxngc11vJP1qdQ=s64",
      "userId": "17052149037411840574"
     },
     "user_tz": 180
    },
    "id": "ek06q___uIvC",
    "outputId": "5625d45d-e9ad-4d58-b674-e7a23996a6f4"
   },
   "outputs": [
    {
     "name": "stdout",
     "output_type": "stream",
     "text": [
      "<class 'pandas.core.frame.DataFrame'>\n",
      "RangeIndex: 21307 entries, 0 to 21306\n",
      "Data columns (total 14 columns):\n",
      "ano                  21307 non-null int64\n",
      "ementa               21307 non-null object\n",
      "idAto                21307 non-null int64\n",
      "idSegmentoOrigem     21307 non-null int64\n",
      "idTipoAnotacao       21307 non-null int64\n",
      "idTipoAto            21307 non-null int64\n",
      "idTipoSegmento       21307 non-null int64\n",
      "nomeTipoAnotacao     21307 non-null object\n",
      "nomeTipoAto          21307 non-null object\n",
      "nomeTipoSegmento     21307 non-null object\n",
      "siglaTipoAnotacao    21307 non-null object\n",
      "textoIntegra         21307 non-null object\n",
      "tipoSolucao          21307 non-null object\n",
      "versaoSegmento       21307 non-null int64\n",
      "dtypes: int64(7), object(7)\n",
      "memory usage: 2.3+ MB\n"
     ]
    }
   ],
   "source": [
    "df.info()"
   ]
  },
  {
   "cell_type": "code",
   "execution_count": 5,
   "metadata": {
    "colab": {
     "base_uri": "https://localhost:8080/"
    },
    "executionInfo": {
     "elapsed": 18,
     "status": "ok",
     "timestamp": 1625240866829,
     "user": {
      "displayName": "Taise Santana",
      "photoUrl": "https://lh3.googleusercontent.com/a-/AOh14GgKAADg6Rps3N8uIyXhe_-x0PwLHGxngc11vJP1qdQ=s64",
      "userId": "17052149037411840574"
     },
     "user_tz": 180
    },
    "id": "sYRqbOp0uIvD",
    "outputId": "3526b5ac-bca9-49f1-c5f6-59793c92b1db"
   },
   "outputs": [
    {
     "data": {
      "text/plain": [
       "array([2013, 2014, 2015, 2016, 2017, 2018, 2019, 2020, 2021])"
      ]
     },
     "execution_count": 5,
     "metadata": {},
     "output_type": "execute_result"
    }
   ],
   "source": [
    "df['ano'].unique() #todos os anos da base"
   ]
  },
  {
   "cell_type": "code",
   "execution_count": 6,
   "metadata": {
    "colab": {
     "base_uri": "https://localhost:8080/",
     "height": 564
    },
    "executionInfo": {
     "elapsed": 15,
     "status": "ok",
     "timestamp": 1625240866829,
     "user": {
      "displayName": "Taise Santana",
      "photoUrl": "https://lh3.googleusercontent.com/a-/AOh14GgKAADg6Rps3N8uIyXhe_-x0PwLHGxngc11vJP1qdQ=s64",
      "userId": "17052149037411840574"
     },
     "user_tz": 180
    },
    "id": "XyA8O2sxuIvD",
    "outputId": "c96c6ddf-f09a-4595-d455-990534451d4f"
   },
   "outputs": [
    {
     "data": {
      "text/html": [
       "<div>\n",
       "<style scoped>\n",
       "    .dataframe tbody tr th:only-of-type {\n",
       "        vertical-align: middle;\n",
       "    }\n",
       "\n",
       "    .dataframe tbody tr th {\n",
       "        vertical-align: top;\n",
       "    }\n",
       "\n",
       "    .dataframe thead th {\n",
       "        text-align: right;\n",
       "    }\n",
       "</style>\n",
       "<table border=\"1\" class=\"dataframe\">\n",
       "  <thead>\n",
       "    <tr style=\"text-align: right;\">\n",
       "      <th></th>\n",
       "      <th>ano</th>\n",
       "      <th>ementa</th>\n",
       "      <th>idAto</th>\n",
       "      <th>idSegmentoOrigem</th>\n",
       "      <th>idTipoAnotacao</th>\n",
       "      <th>idTipoAto</th>\n",
       "      <th>idTipoSegmento</th>\n",
       "      <th>nomeTipoAnotacao</th>\n",
       "      <th>nomeTipoAto</th>\n",
       "      <th>nomeTipoSegmento</th>\n",
       "      <th>siglaTipoAnotacao</th>\n",
       "      <th>textoIntegra</th>\n",
       "      <th>tipoSolucao</th>\n",
       "      <th>versaoSegmento</th>\n",
       "    </tr>\n",
       "  </thead>\n",
       "  <tbody>\n",
       "    <tr>\n",
       "      <th>0</th>\n",
       "      <td>2013</td>\n",
       "      <td>Autoriza exportação de cigarros do estabelecim...</td>\n",
       "      <td>39246</td>\n",
       "      <td>1260061</td>\n",
       "      <td>24</td>\n",
       "      <td>9</td>\n",
       "      <td>3</td>\n",
       "      <td>Vide</td>\n",
       "      <td>Ato Declaratório Executivo</td>\n",
       "      <td>Artigo</td>\n",
       "      <td>VID</td>\n",
       "      <td>Art. 2º A autorização de que trata o art. 1º f...</td>\n",
       "      <td>REF</td>\n",
       "      <td>1</td>\n",
       "    </tr>\n",
       "    <tr>\n",
       "      <th>1</th>\n",
       "      <td>2013</td>\n",
       "      <td>Altera a Instrução Normativa SRF nº 588, de 21...</td>\n",
       "      <td>39255</td>\n",
       "      <td>1260829</td>\n",
       "      <td>1</td>\n",
       "      <td>42</td>\n",
       "      <td>999</td>\n",
       "      <td>Alteração</td>\n",
       "      <td>Instrução Normativa</td>\n",
       "      <td>Não Identificado</td>\n",
       "      <td>RedaÃ§Ã£o dada</td>\n",
       "      <td>“Art. 17. As entidades fechadas de previdência...</td>\n",
       "      <td>ALT</td>\n",
       "      <td>1</td>\n",
       "    </tr>\n",
       "    <tr>\n",
       "      <th>2</th>\n",
       "      <td>2013</td>\n",
       "      <td>Altera a Instrução Normativa SRF nº 588, de 21...</td>\n",
       "      <td>39255</td>\n",
       "      <td>1260830</td>\n",
       "      <td>3</td>\n",
       "      <td>42</td>\n",
       "      <td>5</td>\n",
       "      <td>Inclusão</td>\n",
       "      <td>Instrução Normativa</td>\n",
       "      <td>Parágrafo</td>\n",
       "      <td>INC</td>\n",
       "      <td>Parágrafo único.  O disposto no caput aplica-s...</td>\n",
       "      <td>INC</td>\n",
       "      <td>1</td>\n",
       "    </tr>\n",
       "    <tr>\n",
       "      <th>3</th>\n",
       "      <td>2013</td>\n",
       "      <td>Dispõe sobre o reajuste dos benefícios pagos p...</td>\n",
       "      <td>39283</td>\n",
       "      <td>1262698</td>\n",
       "      <td>9</td>\n",
       "      <td>80</td>\n",
       "      <td>3</td>\n",
       "      <td>Revogação</td>\n",
       "      <td>Portaria Interministerial</td>\n",
       "      <td>Artigo</td>\n",
       "      <td>RVO</td>\n",
       "      <td>Art. 12. Fica revogada a Portaria Interministe...</td>\n",
       "      <td>EXC</td>\n",
       "      <td>1</td>\n",
       "    </tr>\n",
       "    <tr>\n",
       "      <th>4</th>\n",
       "      <td>2013</td>\n",
       "      <td>Dispõe sobre o reajuste dos benefícios pagos p...</td>\n",
       "      <td>39289</td>\n",
       "      <td>1263242</td>\n",
       "      <td>9</td>\n",
       "      <td>80</td>\n",
       "      <td>3</td>\n",
       "      <td>Revogação</td>\n",
       "      <td>Portaria Interministerial</td>\n",
       "      <td>Artigo</td>\n",
       "      <td>RVO</td>\n",
       "      <td>Art. 12. Fica revogada a Portaria Interministe...</td>\n",
       "      <td>EXC</td>\n",
       "      <td>1</td>\n",
       "    </tr>\n",
       "  </tbody>\n",
       "</table>\n",
       "</div>"
      ],
      "text/plain": [
       "    ano                                             ementa  idAto  \\\n",
       "0  2013  Autoriza exportação de cigarros do estabelecim...  39246   \n",
       "1  2013  Altera a Instrução Normativa SRF nº 588, de 21...  39255   \n",
       "2  2013  Altera a Instrução Normativa SRF nº 588, de 21...  39255   \n",
       "3  2013  Dispõe sobre o reajuste dos benefícios pagos p...  39283   \n",
       "4  2013  Dispõe sobre o reajuste dos benefícios pagos p...  39289   \n",
       "\n",
       "   idSegmentoOrigem  idTipoAnotacao  idTipoAto  idTipoSegmento  \\\n",
       "0           1260061              24          9               3   \n",
       "1           1260829               1         42             999   \n",
       "2           1260830               3         42               5   \n",
       "3           1262698               9         80               3   \n",
       "4           1263242               9         80               3   \n",
       "\n",
       "  nomeTipoAnotacao                 nomeTipoAto  nomeTipoSegmento  \\\n",
       "0             Vide  Ato Declaratório Executivo            Artigo   \n",
       "1        Alteração         Instrução Normativa  Não Identificado   \n",
       "2         Inclusão         Instrução Normativa         Parágrafo   \n",
       "3        Revogação   Portaria Interministerial            Artigo   \n",
       "4        Revogação   Portaria Interministerial            Artigo   \n",
       "\n",
       "  siglaTipoAnotacao                                       textoIntegra  \\\n",
       "0               VID  Art. 2º A autorização de que trata o art. 1º f...   \n",
       "1   RedaÃ§Ã£o dada   “Art. 17. As entidades fechadas de previdência...   \n",
       "2               INC  Parágrafo único.  O disposto no caput aplica-s...   \n",
       "3               RVO  Art. 12. Fica revogada a Portaria Interministe...   \n",
       "4               RVO  Art. 12. Fica revogada a Portaria Interministe...   \n",
       "\n",
       "  tipoSolucao  versaoSegmento  \n",
       "0         REF               1  \n",
       "1         ALT               1  \n",
       "2         INC               1  \n",
       "3         EXC               1  \n",
       "4         EXC               1  "
      ]
     },
     "execution_count": 6,
     "metadata": {},
     "output_type": "execute_result"
    }
   ],
   "source": [
    "#Excluindo o ano de 2021  por não estar completo\n",
    "df = df[df['ano']<2021]\n",
    "df.head()"
   ]
  },
  {
   "cell_type": "code",
   "execution_count": 7,
   "metadata": {
    "colab": {
     "base_uri": "https://localhost:8080/"
    },
    "executionInfo": {
     "elapsed": 13,
     "status": "ok",
     "timestamp": 1625240866830,
     "user": {
      "displayName": "Taise Santana",
      "photoUrl": "https://lh3.googleusercontent.com/a-/AOh14GgKAADg6Rps3N8uIyXhe_-x0PwLHGxngc11vJP1qdQ=s64",
      "userId": "17052149037411840574"
     },
     "user_tz": 180
    },
    "id": "MxcPGPp7uIvD",
    "outputId": "f47d394d-7081-44e2-8bf3-227a9eaa29c5"
   },
   "outputs": [
    {
     "name": "stdout",
     "output_type": "stream",
     "text": [
      "<class 'pandas.core.frame.DataFrame'>\n",
      "Int64Index: 21012 entries, 0 to 21306\n",
      "Data columns (total 14 columns):\n",
      "ano                  21012 non-null int64\n",
      "ementa               21012 non-null object\n",
      "idAto                21012 non-null int64\n",
      "idSegmentoOrigem     21012 non-null int64\n",
      "idTipoAnotacao       21012 non-null int64\n",
      "idTipoAto            21012 non-null int64\n",
      "idTipoSegmento       21012 non-null int64\n",
      "nomeTipoAnotacao     21012 non-null object\n",
      "nomeTipoAto          21012 non-null object\n",
      "nomeTipoSegmento     21012 non-null object\n",
      "siglaTipoAnotacao    21012 non-null object\n",
      "textoIntegra         21012 non-null object\n",
      "tipoSolucao          21012 non-null object\n",
      "versaoSegmento       21012 non-null int64\n",
      "dtypes: int64(7), object(7)\n",
      "memory usage: 2.4+ MB\n"
     ]
    }
   ],
   "source": [
    "df.info()"
   ]
  },
  {
   "cell_type": "code",
   "execution_count": 8,
   "metadata": {
    "colab": {
     "base_uri": "https://localhost:8080/"
    },
    "executionInfo": {
     "elapsed": 11,
     "status": "ok",
     "timestamp": 1625240866830,
     "user": {
      "displayName": "Taise Santana",
      "photoUrl": "https://lh3.googleusercontent.com/a-/AOh14GgKAADg6Rps3N8uIyXhe_-x0PwLHGxngc11vJP1qdQ=s64",
      "userId": "17052149037411840574"
     },
     "user_tz": 180
    },
    "id": "3E9sPjK-uIvE",
    "outputId": "fa274867-4efb-45cd-b369-f25d5fe963b0"
   },
   "outputs": [
    {
     "data": {
      "text/plain": [
       "ano                  0\n",
       "ementa               0\n",
       "idAto                0\n",
       "idSegmentoOrigem     0\n",
       "idTipoAnotacao       0\n",
       "idTipoAto            0\n",
       "idTipoSegmento       0\n",
       "nomeTipoAnotacao     0\n",
       "nomeTipoAto          0\n",
       "nomeTipoSegmento     0\n",
       "siglaTipoAnotacao    0\n",
       "textoIntegra         0\n",
       "tipoSolucao          0\n",
       "versaoSegmento       0\n",
       "dtype: int64"
      ]
     },
     "execution_count": 8,
     "metadata": {},
     "output_type": "execute_result"
    }
   ],
   "source": [
    "#Verificando valores nulos\n",
    "df.isna().sum()"
   ]
  },
  {
   "cell_type": "code",
   "execution_count": 9,
   "metadata": {
    "id": "6hL69a_GuIvE"
   },
   "outputs": [],
   "source": [
    "#unificando o nome da coluna idSegmento\n",
    "df.rename(columns={'idSegmentoOrigem': 'idSegmento'},inplace=True)"
   ]
  },
  {
   "cell_type": "code",
   "execution_count": 10,
   "metadata": {
    "id": "zriMRQKjuIvE"
   },
   "outputs": [],
   "source": [
    "#Quantidade de segmentos anotados por tipo de Solução\n",
    "#Percebemos que alguns segmentos tem mais de uma anotação, esses casos não serão escopo desse trabalho\n",
    "#o alvo são segmentos que só possuem uma anotação\n",
    "df.groupby([\"idSegmento\"])[\"nomeTipoAnotacao\"].nunique().sort_values(ascending=False)\n",
    "dfseg = pd.DataFrame(df.groupby([\"idSegmento\"])[\"nomeTipoAnotacao\"].nunique())\n",
    "excluir = dfseg[dfseg['nomeTipoAnotacao']>1].index\n",
    "#Quantidade de segmentos a exluir\n",
    "len(excluir)\n",
    "df.drop(df[df['idSegmento'].isin(excluir)].index, inplace = True)"
   ]
  },
  {
   "cell_type": "code",
   "execution_count": 11,
   "metadata": {
    "colab": {
     "base_uri": "https://localhost:8080/"
    },
    "executionInfo": {
     "elapsed": 38,
     "status": "ok",
     "timestamp": 1625240867245,
     "user": {
      "displayName": "Taise Santana",
      "photoUrl": "https://lh3.googleusercontent.com/a-/AOh14GgKAADg6Rps3N8uIyXhe_-x0PwLHGxngc11vJP1qdQ=s64",
      "userId": "17052149037411840574"
     },
     "user_tz": 180
    },
    "id": "oONZffzcuIvF",
    "outputId": "da1175fd-7a25-4a86-ad18-0b1b712431db"
   },
   "outputs": [
    {
     "data": {
      "text/plain": [
       "tipoSolucao\n",
       "ALT    8423\n",
       "INC    6639\n",
       "EXC    3823\n",
       "REF    1162\n",
       "REP     233\n",
       "REN      18\n",
       "Name: idSegmento, dtype: int64"
      ]
     },
     "execution_count": 11,
     "metadata": {},
     "output_type": "execute_result"
    }
   ],
   "source": [
    "#Quantidade de segmentos anotados por tipo de Solução\n",
    "df.groupby([\"tipoSolucao\"])[\"idSegmento\"].nunique().sort_values(ascending=False)"
   ]
  },
  {
   "cell_type": "code",
   "execution_count": 12,
   "metadata": {
    "colab": {
     "base_uri": "https://localhost:8080/"
    },
    "executionInfo": {
     "elapsed": 33,
     "status": "ok",
     "timestamp": 1625240867245,
     "user": {
      "displayName": "Taise Santana",
      "photoUrl": "https://lh3.googleusercontent.com/a-/AOh14GgKAADg6Rps3N8uIyXhe_-x0PwLHGxngc11vJP1qdQ=s64",
      "userId": "17052149037411840574"
     },
     "user_tz": 180
    },
    "id": "yQpl6S5VuIvF",
    "outputId": "e3cea7e9-f5c0-481c-8bff-adc02cc9943f"
   },
   "outputs": [
    {
     "data": {
      "text/plain": [
       "ALT    8426\n",
       "INC    6640\n",
       "EXC    3823\n",
       "REF    1162\n",
       "REP     233\n",
       "REN      18\n",
       "Name: tipoSolucao, dtype: int64"
      ]
     },
     "execution_count": 12,
     "metadata": {},
     "output_type": "execute_result"
    }
   ],
   "source": [
    "#Anotações por tipo de Solução\n",
    "df['tipoSolucao'].value_counts().sort_values(ascending=False)"
   ]
  },
  {
   "cell_type": "code",
   "execution_count": 13,
   "metadata": {
    "colab": {
     "base_uri": "https://localhost:8080/"
    },
    "executionInfo": {
     "elapsed": 26,
     "status": "ok",
     "timestamp": 1625240867246,
     "user": {
      "displayName": "Taise Santana",
      "photoUrl": "https://lh3.googleusercontent.com/a-/AOh14GgKAADg6Rps3N8uIyXhe_-x0PwLHGxngc11vJP1qdQ=s64",
      "userId": "17052149037411840574"
     },
     "user_tz": 180
    },
    "id": "mPRNPCxyuIvF",
    "outputId": "2d52e20b-0ec4-437d-bd54-e7d2a38f0870"
   },
   "outputs": [
    {
     "data": {
      "text/plain": [
       "Alteração                  6785\n",
       "Inclusão                   6612\n",
       "Revogação                  3439\n",
       "Retificação                1638\n",
       "Vide                       1002\n",
       "Republicação                233\n",
       "Sem Efeito                  200\n",
       "Anulação                    123\n",
       "Prorrogação                 115\n",
       "Prorrogação de Vigência      42\n",
       "Prejuízo                     28\n",
       "                             28\n",
       "Insubsistente                23\n",
       "Renumeração                  18\n",
       "Execução Suspensa             6\n",
       "Sem Eficácia                  4\n",
       "Regulamentação                3\n",
       "Revigoramento                 3\n",
       "Name: nomeTipoAnotacao, dtype: int64"
      ]
     },
     "execution_count": 13,
     "metadata": {},
     "output_type": "execute_result"
    }
   ],
   "source": [
    "#Anotações por tipo de anotação, existem 28 com valor vazio\n",
    "df['nomeTipoAnotacao'].value_counts()"
   ]
  },
  {
   "cell_type": "code",
   "execution_count": 14,
   "metadata": {
    "id": "coNTCkhyuIvF"
   },
   "outputs": [],
   "source": [
    "#As 28 anotacoes sem nome são anotações válidas para o negócio, no sistema tem um valor \"Inclusão por republicação parcial\"\n",
    "df.loc[df['nomeTipoAnotacao']==\"\", 'nomeTipoAnotacao']= \"Inclusão por republicação parcial\""
   ]
  },
  {
   "cell_type": "code",
   "execution_count": 15,
   "metadata": {
    "colab": {
     "base_uri": "https://localhost:8080/"
    },
    "executionInfo": {
     "elapsed": 19,
     "status": "ok",
     "timestamp": 1625240867247,
     "user": {
      "displayName": "Taise Santana",
      "photoUrl": "https://lh3.googleusercontent.com/a-/AOh14GgKAADg6Rps3N8uIyXhe_-x0PwLHGxngc11vJP1qdQ=s64",
      "userId": "17052149037411840574"
     },
     "user_tz": 180
    },
    "id": "JMuEQSTEuIvG",
    "outputId": "d994de4b-8e9e-4c75-b73a-4304e4992913"
   },
   "outputs": [
    {
     "data": {
      "text/plain": [
       "nomeTipoAnotacao\n",
       "Alteração                            6783\n",
       "Inclusão                             6612\n",
       "Revogação                            3439\n",
       "Retificação                          1637\n",
       "Vide                                 1002\n",
       "Republicação                          233\n",
       "Sem Efeito                            200\n",
       "Anulação                              123\n",
       "Prorrogação                           115\n",
       "Prorrogação de Vigência                42\n",
       "Prejuízo                               28\n",
       "Inclusão por republicação parcial      27\n",
       "Insubsistente                          23\n",
       "Renumeração                            18\n",
       "Execução Suspensa                       6\n",
       "Sem Eficácia                            4\n",
       "Revigoramento                           3\n",
       "Regulamentação                          3\n",
       "Name: idSegmento, dtype: int64"
      ]
     },
     "execution_count": 15,
     "metadata": {},
     "output_type": "execute_result"
    }
   ],
   "source": [
    "#Quantidade de segmentos anotados por tipo de anotacao\n",
    "df.groupby([\"nomeTipoAnotacao\"])[\"idSegmento\"].nunique().sort_values(ascending=False)\n"
   ]
  },
  {
   "cell_type": "code",
   "execution_count": 19,
   "metadata": {
    "colab": {
     "base_uri": "https://localhost:8080/",
     "height": 745
    },
    "executionInfo": {
     "elapsed": 1191,
     "status": "ok",
     "timestamp": 1625240868424,
     "user": {
      "displayName": "Taise Santana",
      "photoUrl": "https://lh3.googleusercontent.com/a-/AOh14GgKAADg6Rps3N8uIyXhe_-x0PwLHGxngc11vJP1qdQ=s64",
      "userId": "17052149037411840574"
     },
     "user_tz": 180
    },
    "id": "Y9b_7p1euIvG",
    "outputId": "115e3448-741c-4d0c-dece-da0214ab0c04"
   },
   "outputs": [
    {
     "data": {
      "text/plain": [
       "Text(0.5, 1.0, 'Quantidade de Anotações por Tipo de Anotação')"
      ]
     },
     "execution_count": 19,
     "metadata": {},
     "output_type": "execute_result"
    },
    {
     "data": {
      "image/png": "[encoded data removed]",
      "text/plain": [
       "<Figure size 1440x1440 with 2 Axes>"
      ]
     },
     "metadata": {
      "needs_background": "light"
     },
     "output_type": "display_data"
    }
   ],
   "source": [
    "#Quantidade de segmentos anotados por tipo de anotacao\n",
    "plt.figure()\n",
    "plt.subplot(2,2,1)\n",
    "tipoSolucao=df.groupby([\"tipoSolucao\"])[\"idSegmento\"].nunique().sort_values(ascending=False)\n",
    "tipoSolucao.plot.bar(figsize = (20,6), color=\"green\")\n",
    "plt.title('Quantidade de Anotações por Comportamento') \n",
    "plt.subplot(2,2,2)\n",
    "tipoAnotacao=df.groupby([\"nomeTipoAnotacao\"])[\"idSegmento\"].nunique().sort_values(ascending=False)\n",
    "tipoAnotacao.plot.bar(figsize = (20,20))\n",
    "plt.title('Quantidade de Anotações por Tipo de Anotação') \n"
   ]
  },
  {
   "cell_type": "code",
   "execution_count": 43,
   "metadata": {},
   "outputs": [
    {
     "data": {
      "text/plain": [
       "nomeTipoAnotacao                   idTipoAnotacao\n",
       "Alteração                          1                 6785\n",
       "Inclusão                           3                 6612\n",
       "Revogação                          9                 3439\n",
       "Retificação                        22                1638\n",
       "Vide                               24                1002\n",
       "Republicação                       25                 233\n",
       "Sem Efeito                         13                 200\n",
       "Anulação                           10                 123\n",
       "Prorrogação                        4                  115\n",
       "Prorrogação de Vigência            5                   42\n",
       "Prejuízo                           16                  28\n",
       "Inclusão por republicação parcial  55                  28\n",
       "Insubsistente                      12                  23\n",
       "Renumeração                        2                   18\n",
       "Execução Suspensa                  11                   6\n",
       "Sem Eficácia                       14                   4\n",
       "Revigoramento                      20                   3\n",
       "Regulamentação                     6                    3\n",
       "Name: idTipoAnotacao, dtype: int64"
      ]
     },
     "execution_count": 43,
     "metadata": {},
     "output_type": "execute_result"
    }
   ],
   "source": [
    "df.groupby([\"nomeTipoAnotacao\"])[\"idTipoAnotacao\"].value_counts().sort_values(ascending=False)"
   ]
  },
  {
   "cell_type": "code",
   "execution_count": null,
   "metadata": {},
   "outputs": [],
   "source": [
    "juntar=[]"
   ]
  },
  {
   "cell_type": "code",
   "execution_count": 38,
   "metadata": {},
   "outputs": [
    {
     "data": {
      "text/plain": [
       "nomeTipoAnotacao    18\n",
       "idTipoAnotacao      18\n",
       "dtype: int64"
      ]
     },
     "execution_count": 38,
     "metadata": {},
     "output_type": "execute_result"
    }
   ],
   "source": [
    "df[['nomeTipoAnotacao','idTipoAnotacao']].nunique()"
   ]
  },
  {
   "cell_type": "code",
   "execution_count": 50,
   "metadata": {},
   "outputs": [
    {
     "data": {
      "text/plain": [
       "Text(0.5, 1.0, 'Quantidade de Anotações por Tipo de Anotação')"
      ]
     },
     "execution_count": 50,
     "metadata": {},
     "output_type": "execute_result"
    },
    {
     "data": {
      "image/png": "[encoded data removed]",
      "text/plain": [
       "<Figure size 1080x360 with 1 Axes>"
      ]
     },
     "metadata": {
      "needs_background": "light"
     },
     "output_type": "display_data"
    }
   ],
   "source": [
    "tipoAnotacao=df.groupby([\"nomeTipoAnotacao\"])[\"idSegmento\"].nunique().sort_values(ascending=False)\n",
    "tipoAnotacao.plot.bar(figsize = (15,5), color=['red','purple','brown','orange','pink','yellow','blue','green', 'grey' ] )\n",
    "plt.title('Quantidade de Anotações por Tipo de Anotação') \n"
   ]
  },
  {
   "cell_type": "code",
   "execution_count": 20,
   "metadata": {
    "colab": {
     "base_uri": "https://localhost:8080/"
    },
    "executionInfo": {
     "elapsed": 15,
     "status": "ok",
     "timestamp": 1625240868424,
     "user": {
      "displayName": "Taise Santana",
      "photoUrl": "https://lh3.googleusercontent.com/a-/AOh14GgKAADg6Rps3N8uIyXhe_-x0PwLHGxngc11vJP1qdQ=s64",
      "userId": "17052149037411840574"
     },
     "user_tz": 180
    },
    "id": "BdK2hB3NuIvG",
    "outputId": "ac6b4257-f32c-4ec0-c8cf-09680604efc2"
   },
   "outputs": [
    {
     "data": {
      "text/plain": [
       "nomeTipoAto\n",
       "Portaria                               6956\n",
       "Instrução Normativa                    6887\n",
       "Ato Declaratório Executivo             4171\n",
       "Resolução                              1274\n",
       "Portaria Conjunta                       707\n",
       "Solução de Consulta                     148\n",
       "Solução de Divergência                   73\n",
       "Instrução Normativa Conjunta             18\n",
       "Despacho                                 16\n",
       "Parecer Normativo                        11\n",
       "Ordem de Serviço                         10\n",
       "Ato Declaratório Interpretativo           7\n",
       "Ato Declaratório Executivo Conjunto       5\n",
       "Ato Declaratório                          5\n",
       "Portaria Interministerial                 5\n",
       "Parecer                                   2\n",
       "Consulta Pública                          1\n",
       "Recomendação                              1\n",
       "Ordem de Serviço Conjunta                 1\n",
       "Name: idSegmento, dtype: int64"
      ]
     },
     "execution_count": 20,
     "metadata": {},
     "output_type": "execute_result"
    }
   ],
   "source": [
    "#Quantidade de segmentos anotados por tipo de ato\n",
    "df.groupby([\"nomeTipoAto\"])[\"idSegmento\"].nunique().sort_values(ascending=False)"
   ]
  },
  {
   "cell_type": "code",
   "execution_count": 21,
   "metadata": {
    "colab": {
     "base_uri": "https://localhost:8080/",
     "height": 575
    },
    "executionInfo": {
     "elapsed": 14,
     "status": "ok",
     "timestamp": 1625240868425,
     "user": {
      "displayName": "Taise Santana",
      "photoUrl": "https://lh3.googleusercontent.com/a-/AOh14GgKAADg6Rps3N8uIyXhe_-x0PwLHGxngc11vJP1qdQ=s64",
      "userId": "17052149037411840574"
     },
     "user_tz": 180
    },
    "id": "1IyZe5nSuIvH",
    "outputId": "d1fd40ba-616e-495a-aea4-40806c99fe91"
   },
   "outputs": [
    {
     "data": {
      "image/png": "[encoded data removed]",
      "text/plain": [
       "<Figure size 1440x432 with 1 Axes>"
      ]
     },
     "metadata": {
      "needs_background": "light"
     },
     "output_type": "display_data"
    }
   ],
   "source": [
    "#Quantidade de segmentos anotados por tipo de ato\n",
    "plt.figure()\n",
    "tipoAto=df.groupby([\"nomeTipoAto\"])[\"idSegmento\"].nunique().sort_values(ascending=False)\n",
    "tipoAto.plot.bar(figsize = (20,6))\n",
    "plt.title('Quantidade de Anotações por Tipo de Ato') \n",
    "plt.show()"
   ]
  },
  {
   "cell_type": "code",
   "execution_count": 22,
   "metadata": {
    "colab": {
     "base_uri": "https://localhost:8080/"
    },
    "executionInfo": {
     "elapsed": 14,
     "status": "ok",
     "timestamp": 1625240868426,
     "user": {
      "displayName": "Taise Santana",
      "photoUrl": "https://lh3.googleusercontent.com/a-/AOh14GgKAADg6Rps3N8uIyXhe_-x0PwLHGxngc11vJP1qdQ=s64",
      "userId": "17052149037411840574"
     },
     "user_tz": 180
    },
    "id": "juqeGOzquIvH",
    "outputId": "0c3c4122-369d-4632-ccf6-40afa523e904"
   },
   "outputs": [
    {
     "data": {
      "text/plain": [
       "nomeTipoAto                          nomeTipoAnotacao\n",
       "Instrução Normativa                  Alteração           3036\n",
       "                                     Inclusão            2880\n",
       "Portaria                             Inclusão            2691\n",
       "                                     Alteração           2577\n",
       "Ato Declaratório Executivo           Revogação           1401\n",
       "                                     Retificação         1160\n",
       "Portaria                             Revogação           1021\n",
       "Instrução Normativa                  Revogação            756\n",
       "Ato Declaratório Executivo           Vide                 553\n",
       "Resolução                            Alteração            537\n",
       "                                     Inclusão             509\n",
       "Portaria Conjunta                    Inclusão             379\n",
       "Ato Declaratório Executivo           Alteração            377\n",
       "Portaria                             Retificação          298\n",
       "Portaria Conjunta                    Alteração            239\n",
       "Resolução                            Revogação            183\n",
       "Ato Declaratório Executivo           Sem Efeito           173\n",
       "Portaria                             Vide                 156\n",
       "Ato Declaratório Executivo           Republicação         147\n",
       "                                     Inclusão             145\n",
       "                                     Anulação             118\n",
       "Instrução Normativa                  Retificação           98\n",
       "                                     Vide                  81\n",
       "Solução de Consulta                  Vide                  81\n",
       "Solução de Divergência               Vide                  69\n",
       "Portaria                             Prorrogação           57\n",
       "Ato Declaratório Executivo           Prorrogação           55\n",
       "Portaria                             Republicação          55\n",
       "Portaria Conjunta                    Revogação             49\n",
       "Solução de Consulta                  Retificação           46\n",
       "                                                         ... \n",
       "Portaria Conjunta                    Renumeração            2\n",
       "Solução de Consulta                  Revogação              2\n",
       "Portaria                             Revigoramento          2\n",
       "Solução de Consulta                  Anulação               2\n",
       "Portaria                             Renumeração            2\n",
       "Solução de Consulta                  Insubsistente          2\n",
       "Portaria                             Anulação               2\n",
       "Parecer Normativo                    Retificação            2\n",
       "Parecer                              Retificação            2\n",
       "Solução de Divergência               Retificação            2\n",
       "Ato Declaratório                     Prorrogação            1\n",
       "Ato Declaratório Executivo           Prejuízo               1\n",
       "                                     Revigoramento          1\n",
       "Ordem de Serviço Conjunta            Revogação              1\n",
       "Ato Declaratório Executivo Conjunto  Inclusão               1\n",
       "                                     Retificação            1\n",
       "                                     Revogação              1\n",
       "Ato Declaratório Interpretativo      Alteração              1\n",
       "                                     Vide                   1\n",
       "Consulta Pública                     Vide                   1\n",
       "Instrução Normativa                  Prorrogação            1\n",
       "Instrução Normativa Conjunta         Vide                   1\n",
       "Parecer Normativo                    Anulação               1\n",
       "                                     Republicação           1\n",
       "                                     Vide                   1\n",
       "Portaria                             Regulamentação         1\n",
       "Portaria Conjunta                    Prorrogação            1\n",
       "Recomendação                         Revogação              1\n",
       "Solução de Consulta                  Sem Efeito             1\n",
       "Ato Declaratório                     Alteração              1\n",
       "Name: idSegmento, Length: 98, dtype: int64"
      ]
     },
     "execution_count": 22,
     "metadata": {},
     "output_type": "execute_result"
    }
   ],
   "source": [
    "#Quantidade de segmentos anotados por tipo de ato, tipo anotação\n",
    "df.groupby([\"nomeTipoAto\",\"nomeTipoAnotacao\"])[\"idSegmento\"].nunique().sort_values(ascending=False)"
   ]
  },
  {
   "cell_type": "code",
   "execution_count": 23,
   "metadata": {
    "colab": {
     "base_uri": "https://localhost:8080/"
    },
    "executionInfo": {
     "elapsed": 13,
     "status": "ok",
     "timestamp": 1625240868427,
     "user": {
      "displayName": "Taise Santana",
      "photoUrl": "https://lh3.googleusercontent.com/a-/AOh14GgKAADg6Rps3N8uIyXhe_-x0PwLHGxngc11vJP1qdQ=s64",
      "userId": "17052149037411840574"
     },
     "user_tz": 180
    },
    "id": "UoIqKAHduIvH",
    "outputId": "af687dea-6d8a-42c0-a070-066897a26112"
   },
   "outputs": [
    {
     "data": {
      "text/plain": [
       "tipoSolucao  nomeTipoAto                        \n",
       "ALT          Instrução Normativa                    3134\n",
       "INC          Instrução Normativa                    2884\n",
       "ALT          Portaria                               2877\n",
       "INC          Portaria                               2699\n",
       "EXC          Ato Declaratório Executivo             1712\n",
       "ALT          Ato Declaratório Executivo             1538\n",
       "EXC          Portaria                               1075\n",
       "             Instrução Normativa                     765\n",
       "REF          Ato Declaratório Executivo              614\n",
       "ALT          Resolução                               547\n",
       "INC          Resolução                               509\n",
       "             Portaria Conjunta                       379\n",
       "ALT          Portaria Conjunta                       255\n",
       "REF          Portaria                                248\n",
       "EXC          Resolução                               183\n",
       "INC          Ato Declaratório Executivo              160\n",
       "REP          Ato Declaratório Executivo              147\n",
       "REF          Instrução Normativa                      82\n",
       "             Solução de Consulta                      81\n",
       "             Solução de Divergência                   69\n",
       "REP          Portaria                                 55\n",
       "EXC          Portaria Conjunta                        49\n",
       "ALT          Solução de Consulta                      46\n",
       "REF          Resolução                                32\n",
       "             Portaria Conjunta                        19\n",
       "REP          Solução de Consulta                      14\n",
       "REN          Instrução Normativa                      14\n",
       "REF          Despacho                                 12\n",
       "ALT          Instrução Normativa Conjunta              9\n",
       "REP          Instrução Normativa                       8\n",
       "                                                    ... \n",
       "EXC          Portaria Interministerial                 5\n",
       "INC          Instrução Normativa Conjunta              4\n",
       "EXC          Instrução Normativa Conjunta              4\n",
       "             Despacho                                  4\n",
       "ALT          Ordem de Serviço                          4\n",
       "             Ato Declaratório Interpretativo           3\n",
       "             Ato Declaratório Executivo Conjunto       3\n",
       "INC          Ordem de Serviço                          3\n",
       "EXC          Ordem de Serviço                          3\n",
       "REP          Portaria Conjunta                         3\n",
       "EXC          Ato Declaratório Interpretativo           3\n",
       "REP          Resolução                                 3\n",
       "EXC          Ato Declaratório                          3\n",
       "ALT          Solução de Divergência                    2\n",
       "             Parecer Normativo                         2\n",
       "             Parecer                                   2\n",
       "REP          Solução de Divergência                    2\n",
       "REN          Portaria                                  2\n",
       "             Portaria Conjunta                         2\n",
       "EXC          Ato Declaratório Executivo Conjunto       1\n",
       "             Ordem de Serviço Conjunta                 1\n",
       "             Recomendação                              1\n",
       "INC          Ato Declaratório Executivo Conjunto       1\n",
       "REF          Ato Declaratório                          1\n",
       "             Ato Declaratório Interpretativo           1\n",
       "             Consulta Pública                          1\n",
       "             Instrução Normativa Conjunta              1\n",
       "             Parecer Normativo                         1\n",
       "REP          Parecer Normativo                         1\n",
       "ALT          Ato Declaratório                          1\n",
       "Name: idSegmento, Length: 62, dtype: int64"
      ]
     },
     "execution_count": 23,
     "metadata": {},
     "output_type": "execute_result"
    }
   ],
   "source": [
    "#Quantidade de segmentos anotados por tipo Comportamento, tipo de ato\n",
    "df.groupby([\"tipoSolucao\",\"nomeTipoAto\"])[\"idSegmento\"].nunique().sort_values(ascending=False)"
   ]
  },
  {
   "cell_type": "code",
   "execution_count": 24,
   "metadata": {
    "colab": {
     "base_uri": "https://localhost:8080/"
    },
    "executionInfo": {
     "elapsed": 13,
     "status": "ok",
     "timestamp": 1625240868428,
     "user": {
      "displayName": "Taise Santana",
      "photoUrl": "https://lh3.googleusercontent.com/a-/AOh14GgKAADg6Rps3N8uIyXhe_-x0PwLHGxngc11vJP1qdQ=s64",
      "userId": "17052149037411840574"
     },
     "user_tz": 180
    },
    "id": "_WzZvnMLuIvH",
    "outputId": "f1d8aff3-78ee-4bae-ed6c-ead05d9e5039"
   },
   "outputs": [
    {
     "data": {
      "text/plain": [
       "nomeTipoAnotacao  nomeTipoAto                        \n",
       "Alteração         Instrução Normativa                    3036\n",
       "Inclusão          Instrução Normativa                    2880\n",
       "                  Portaria                               2691\n",
       "Alteração         Portaria                               2577\n",
       "Revogação         Ato Declaratório Executivo             1401\n",
       "Retificação       Ato Declaratório Executivo             1160\n",
       "Revogação         Portaria                               1021\n",
       "                  Instrução Normativa                     756\n",
       "Vide              Ato Declaratório Executivo              553\n",
       "Alteração         Resolução                               537\n",
       "Inclusão          Resolução                               509\n",
       "                  Portaria Conjunta                       379\n",
       "Alteração         Ato Declaratório Executivo              377\n",
       "Retificação       Portaria                                298\n",
       "Alteração         Portaria Conjunta                       239\n",
       "Revogação         Resolução                               183\n",
       "Sem Efeito        Ato Declaratório Executivo              173\n",
       "Vide              Portaria                                156\n",
       "Republicação      Ato Declaratório Executivo              147\n",
       "Inclusão          Ato Declaratório Executivo              145\n",
       "Anulação          Ato Declaratório Executivo              118\n",
       "Retificação       Instrução Normativa                      98\n",
       "Vide              Solução de Consulta                      81\n",
       "                  Instrução Normativa                      81\n",
       "                  Solução de Divergência                   69\n",
       "Prorrogação       Portaria                                 57\n",
       "                  Ato Declaratório Executivo               55\n",
       "Republicação      Portaria                                 55\n",
       "Revogação         Portaria Conjunta                        49\n",
       "Retificação       Solução de Consulta                      46\n",
       "                                                         ... \n",
       "                  Solução de Divergência                    2\n",
       "                  Parecer Normativo                         2\n",
       "                  Parecer                                   2\n",
       "Alteração         Ato Declaratório Executivo Conjunto       2\n",
       "Anulação          Solução de Consulta                       2\n",
       "Renumeração       Portaria                                  2\n",
       "Republicação      Solução de Divergência                    2\n",
       "Insubsistente     Solução de Consulta                       2\n",
       "Renumeração       Portaria Conjunta                         2\n",
       "Revogação         Solução de Consulta                       2\n",
       "Vide              Consulta Pública                          1\n",
       "Anulação          Parecer Normativo                         1\n",
       "Vide              Instrução Normativa Conjunta              1\n",
       "                  Parecer Normativo                         1\n",
       "Alteração         Ato Declaratório Interpretativo           1\n",
       "Prorrogação       Instrução Normativa                       1\n",
       "Vide              Ato Declaratório Interpretativo           1\n",
       "Inclusão          Ato Declaratório Executivo Conjunto       1\n",
       "Sem Efeito        Solução de Consulta                       1\n",
       "Prejuízo          Ato Declaratório Executivo                1\n",
       "Prorrogação       Ato Declaratório                          1\n",
       "Revogação         Ato Declaratório Executivo Conjunto       1\n",
       "                  Recomendação                              1\n",
       "Prorrogação       Portaria Conjunta                         1\n",
       "Regulamentação    Portaria                                  1\n",
       "Republicação      Parecer Normativo                         1\n",
       "Retificação       Ato Declaratório Executivo Conjunto       1\n",
       "Revogação         Ordem de Serviço Conjunta                 1\n",
       "Revigoramento     Ato Declaratório Executivo                1\n",
       "Alteração         Ato Declaratório                          1\n",
       "Name: idSegmento, Length: 98, dtype: int64"
      ]
     },
     "execution_count": 24,
     "metadata": {},
     "output_type": "execute_result"
    }
   ],
   "source": [
    "#Quantidade de segmentos anotados por tipo anotação, tipo de ato\n",
    "df.groupby([\"nomeTipoAnotacao\",\"nomeTipoAto\"])[\"idSegmento\"].nunique().sort_values(ascending=False)"
   ]
  },
  {
   "cell_type": "code",
   "execution_count": 25,
   "metadata": {},
   "outputs": [
    {
     "data": {
      "text/plain": [
       "array(['Artigo', 'Não Identificado', 'Parágrafo', 'Inciso', 'Citação',\n",
       "       'Alínea', 'Anexo', 'Ementa', 'Título', 'Seção', 'SubSeção',\n",
       "       'Assinatura', 'Capítulo', 'Autor', 'Fecho', 'Item'], dtype=object)"
      ]
     },
     "execution_count": 25,
     "metadata": {},
     "output_type": "execute_result"
    }
   ],
   "source": [
    "df['nomeTipoSegmento'].unique()"
   ]
  },
  {
   "cell_type": "code",
   "execution_count": 26,
   "metadata": {},
   "outputs": [
    {
     "data": {
      "text/plain": [
       "array(['Vide', 'Alteração', 'Inclusão', 'Revogação', 'Renumeração',\n",
       "       'Retificação', 'Republicação', 'Sem Efeito', 'Insubsistente',\n",
       "       'Anulação', 'Prorrogação', 'Prejuízo', 'Prorrogação de Vigência',\n",
       "       'Regulamentação', 'Execução Suspensa', 'Sem Eficácia',\n",
       "       'Revigoramento', 'Inclusão por republicação parcial'], dtype=object)"
      ]
     },
     "execution_count": 26,
     "metadata": {},
     "output_type": "execute_result"
    }
   ],
   "source": [
    "df['nomeTipoAnotacao'].unique()"
   ]
  },
  {
   "cell_type": "code",
   "execution_count": 27,
   "metadata": {
    "colab": {
     "base_uri": "https://localhost:8080/"
    },
    "executionInfo": {
     "elapsed": 12,
     "status": "ok",
     "timestamp": 1625240868429,
     "user": {
      "displayName": "Taise Santana",
      "photoUrl": "https://lh3.googleusercontent.com/a-/AOh14GgKAADg6Rps3N8uIyXhe_-x0PwLHGxngc11vJP1qdQ=s64",
      "userId": "17052149037411840574"
     },
     "user_tz": 180
    },
    "id": "ULhvCJZ5uIvI",
    "outputId": "fbc9f68d-ab93-4777-9978-b57041eeabc9"
   },
   "outputs": [
    {
     "data": {
      "text/plain": [
       "Não Identificado    5400\n",
       "Inciso              5311\n",
       "Parágrafo           3795\n",
       "Artigo              3641\n",
       "Alínea               945\n",
       "Anexo                431\n",
       "Ementa               423\n",
       "Item                 198\n",
       "Título                72\n",
       "Seção                 41\n",
       "Assinatura            17\n",
       "SubSeção              10\n",
       "Capítulo               9\n",
       "Citação                7\n",
       "Fecho                  1\n",
       "Autor                  1\n",
       "Name: nomeTipoSegmento, dtype: int64"
      ]
     },
     "execution_count": 27,
     "metadata": {},
     "output_type": "execute_result"
    }
   ],
   "source": [
    "df['nomeTipoSegmento'].value_counts()"
   ]
  },
  {
   "cell_type": "code",
   "execution_count": 28,
   "metadata": {},
   "outputs": [
    {
     "data": {
      "text/plain": [
       "nomeTipoAnotacao                   nomeTipoSegmento\n",
       "Inclusão                           Inciso              2312\n",
       "Revogação                          Artigo              2147\n",
       "Alteração                          Não Identificado    2054\n",
       "Inclusão                           Parágrafo           1982\n",
       "Alteração                          Inciso              1967\n",
       "                                   Parágrafo           1767\n",
       "Retificação                        Não Identificado    1408\n",
       "Inclusão                           Não Identificado    1372\n",
       "Revogação                          Inciso               959\n",
       "Vide                               Artigo               615\n",
       "Inclusão                           Alínea               535\n",
       "Alteração                          Alínea               341\n",
       "                                   Artigo               299\n",
       "                                   Anexo                255\n",
       "Revogação                          Não Identificado     250\n",
       "Republicação                       Ementa               233\n",
       "Vide                               Não Identificado     182\n",
       "                                   Ementa               168\n",
       "Inclusão                           Item                 146\n",
       "                                   Artigo               142\n",
       "Sem Efeito                         Artigo               128\n",
       "Prorrogação                        Artigo               106\n",
       "Retificação                        Anexo                104\n",
       "Anulação                           Artigo                92\n",
       "Sem Efeito                         Não Identificado      70\n",
       "Revogação                          Alínea                61\n",
       "Inclusão                           Anexo                 50\n",
       "                                   Título                45\n",
       "Retificação                        Inciso                45\n",
       "                                   Artigo                42\n",
       "                                                       ... \n",
       "Renumeração                        Artigo                 3\n",
       "Prejuízo                           Parágrafo              3\n",
       "Alteração                          Ementa                 3\n",
       "Anulação                           Ementa                 3\n",
       "Prorrogação de Vigência            Inciso                 3\n",
       "Regulamentação                     Ementa                 3\n",
       "Sem Eficácia                       Não Identificado       2\n",
       "                                   Artigo                 2\n",
       "Renumeração                        Seção                  2\n",
       "Prorrogação                        Parágrafo              2\n",
       "Inclusão                           Citação                2\n",
       "Insubsistente                      Alínea                 2\n",
       "                                   Ementa                 2\n",
       "Prorrogação                        Inciso                 2\n",
       "Renumeração                        SubSeção               1\n",
       "Vide                               Assinatura             1\n",
       "Prejuízo                           Item                   1\n",
       "Sem Efeito                         Ementa                 1\n",
       "                                   Anexo                  1\n",
       "Revigoramento                      Não Identificado       1\n",
       "                                   Ementa                 1\n",
       "                                   Artigo                 1\n",
       "Retificação                        Título                 1\n",
       "                                   Fecho                  1\n",
       "Anulação                           Alínea                 1\n",
       "Retificação                        Ementa                 1\n",
       "Prorrogação de Vigência            Ementa                 1\n",
       "Inclusão por republicação parcial  Ementa                 1\n",
       "Retificação                        Alínea                 1\n",
       "                                   Autor                  1\n",
       "Name: idSegmento, Length: 91, dtype: int64"
      ]
     },
     "execution_count": 28,
     "metadata": {},
     "output_type": "execute_result"
    }
   ],
   "source": [
    "#Anotação tipo de segmento\n",
    "df.groupby([\"nomeTipoAnotacao\",\"nomeTipoSegmento\"])[\"idSegmento\"].nunique().sort_values(ascending=False)\n"
   ]
  },
  {
   "cell_type": "code",
   "execution_count": 29,
   "metadata": {},
   "outputs": [
    {
     "data": {
      "text/plain": [
       "nomeTipoAnotacao                   nomeTipoSegmento\n",
       "Alteração                          Ementa                3\n",
       "Anulação                           Ementa                3\n",
       "Inclusão por republicação parcial  Ementa                1\n",
       "Insubsistente                      Ementa                2\n",
       "Prorrogação de Vigência            Ementa                1\n",
       "Regulamentação                     Ementa                3\n",
       "Republicação                       Ementa              233\n",
       "Retificação                        Ementa                1\n",
       "Revigoramento                      Ementa                1\n",
       "Revogação                          Ementa                5\n",
       "Sem Efeito                         Ementa                1\n",
       "Vide                               Ementa              168\n",
       "Name: idSegmento, dtype: int64"
      ]
     },
     "execution_count": 29,
     "metadata": {},
     "output_type": "execute_result"
    }
   ],
   "source": [
    "#Quantidade de segmentos anotados na ementa por tipo de anotação\n",
    "df[df['nomeTipoSegmento']=='Ementa'].groupby([\"nomeTipoAnotacao\",\"nomeTipoSegmento\"])[\"idSegmento\"].nunique()#.sort_values(ascending=False)"
   ]
  },
  {
   "cell_type": "code",
   "execution_count": 30,
   "metadata": {},
   "outputs": [
    {
     "data": {
      "text/plain": [
       "nomeTipoAnotacao  nomeTipoSegmento\n",
       "Republicação      Ementa              233\n",
       "Name: idSegmento, dtype: int64"
      ]
     },
     "execution_count": 30,
     "metadata": {},
     "output_type": "execute_result"
    }
   ],
   "source": [
    "#Existe republicação em outro tipo de segmento?\n",
    "df[df['nomeTipoAnotacao']=='Republicação'].groupby([\"nomeTipoAnotacao\",\"nomeTipoSegmento\"])[\"idSegmento\"].nunique()#.sort_values(ascending=False)\n",
    "#Nao"
   ]
  },
  {
   "cell_type": "code",
   "execution_count": 31,
   "metadata": {},
   "outputs": [
    {
     "data": {
      "text/plain": [
       "nomeTipoAnotacao  nomeTipoSegmento\n",
       "Vide              Alínea                4\n",
       "                  Anexo                 5\n",
       "                  Artigo              615\n",
       "                  Assinatura            1\n",
       "                  Ementa              168\n",
       "                  Inciso               23\n",
       "                  Não Identificado    182\n",
       "                  Parágrafo             4\n",
       "Name: idSegmento, dtype: int64"
      ]
     },
     "execution_count": 31,
     "metadata": {},
     "output_type": "execute_result"
    }
   ],
   "source": [
    "#Existe Vide em outro tipo de segmento?\n",
    "df[df['nomeTipoAnotacao']=='Vide'].groupby([\"nomeTipoAnotacao\",\"nomeTipoSegmento\"])[\"idSegmento\"].nunique()#.sort_values(ascending=False)\n",
    "#Sim"
   ]
  },
  {
   "cell_type": "code",
   "execution_count": 32,
   "metadata": {
    "id": "gTCshsCZuIvI"
   },
   "outputs": [],
   "source": [
    "#Pela análise exploratória dos dados será escopo deste trabalho:\n",
    "\n",
    "#3 tipos de atos, por serem os 3 de maior presença na base\n",
    "#nomeTipoAto\n",
    "#Portaria                               4087\n",
    "#Instrução Normativa                    3078\n",
    "#Ato Declaratório Executivo             1927\n",
    "\n",
    "#3 tipos de anotação, por serem os 3 de maior presença na base \n",
    "#nomeTipoAnotacao\n",
    "#Alteração                  3134\n",
    "#Inclusão                   2924\n",
    "#Revogação                  2060\n",
    "\n",
    "#tipoAtoAlvo = ['Portaria','Instrução Normativa','Ato Declaratório Executivo']\n",
    "#anotacaoAlvo = ['Alteração','Inclusão','Revogação']\n",
    "#dfAlvo = df[df['nomeTipoAto'].isin(tipoAtoAlvo) & df['nomeTipoAnotacao'].isin(anotacaoAlvo)]"
   ]
  },
  {
   "cell_type": "code",
   "execution_count": 33,
   "metadata": {
    "id": "j-J4X3QyuIvI"
   },
   "outputs": [],
   "source": [
    "dfAlvo = df"
   ]
  },
  {
   "cell_type": "code",
   "execution_count": 34,
   "metadata": {},
   "outputs": [
    {
     "data": {
      "text/plain": [
       "array(['Artigo', 'Não Identificado', 'Parágrafo', 'Inciso', 'Citação',\n",
       "       'Alínea', 'Anexo', 'Ementa', 'Título', 'Seção', 'SubSeção',\n",
       "       'Assinatura', 'Capítulo', 'Autor', 'Fecho', 'Item'], dtype=object)"
      ]
     },
     "execution_count": 34,
     "metadata": {},
     "output_type": "execute_result"
    }
   ],
   "source": [
    "dfAlvo[\"nomeTipoSegmento\"].unique()"
   ]
  },
  {
   "cell_type": "code",
   "execution_count": 35,
   "metadata": {},
   "outputs": [
    {
     "data": {
      "text/plain": [
       "nomeTipoSegmento  nomeTipoAnotacao                 \n",
       "Alínea            Alteração                             341\n",
       "                  Anulação                                1\n",
       "                  Inclusão                              535\n",
       "                  Insubsistente                           2\n",
       "                  Retificação                             1\n",
       "                  Revogação                              61\n",
       "                  Vide                                    4\n",
       "Anexo             Alteração                             255\n",
       "                  Inclusão                               50\n",
       "                  Inclusão por republicação parcial      16\n",
       "                  Retificação                           104\n",
       "                  Sem Efeito                              1\n",
       "                  Vide                                    5\n",
       "Artigo            Alteração                             299\n",
       "                  Anulação                               92\n",
       "                  Execução Suspensa                       6\n",
       "                  Inclusão                              142\n",
       "                  Insubsistente                          15\n",
       "                  Prejuízo                               11\n",
       "                  Prorrogação                           106\n",
       "                  Prorrogação de Vigência                32\n",
       "                  Renumeração                             3\n",
       "                  Retificação                            42\n",
       "                  Revigoramento                           1\n",
       "                  Revogação                            2147\n",
       "                  Sem Efeito                            128\n",
       "                  Sem Eficácia                            2\n",
       "                  Vide                                  615\n",
       "Assinatura        Retificação                            16\n",
       "                  Vide                                    1\n",
       "                                                       ... \n",
       "Não Identificado  Inclusão                             1372\n",
       "                  Inclusão por republicação parcial       3\n",
       "                  Insubsistente                           4\n",
       "                  Prejuízo                               13\n",
       "                  Prorrogação                             5\n",
       "                  Prorrogação de Vigência                 6\n",
       "                  Retificação                          1408\n",
       "                  Revigoramento                           1\n",
       "                  Revogação                             250\n",
       "                  Sem Efeito                             70\n",
       "                  Sem Eficácia                            2\n",
       "                  Vide                                  182\n",
       "Parágrafo         Alteração                            1767\n",
       "                  Inclusão                             1982\n",
       "                  Prejuízo                                3\n",
       "                  Prorrogação                             2\n",
       "                  Renumeração                            12\n",
       "                  Retificação                            17\n",
       "                  Revogação                               8\n",
       "                  Vide                                    4\n",
       "Seção             Alteração                              21\n",
       "                  Inclusão                               18\n",
       "                  Renumeração                             2\n",
       "SubSeção          Alteração                               5\n",
       "                  Inclusão                                4\n",
       "                  Renumeração                             1\n",
       "Título            Alteração                              19\n",
       "                  Inclusão                               45\n",
       "                  Inclusão por republicação parcial       7\n",
       "                  Retificação                             1\n",
       "Name: idSegmento, Length: 91, dtype: int64"
      ]
     },
     "execution_count": 35,
     "metadata": {},
     "output_type": "execute_result"
    }
   ],
   "source": [
    "#Anotação tipo de segmento depois do corte\n",
    "df.groupby([\"nomeTipoSegmento\",\"nomeTipoAnotacao\"])[\"idSegmento\"].nunique()\n"
   ]
  },
  {
   "cell_type": "code",
   "execution_count": 36,
   "metadata": {
    "id": "YJ4z0lASuIvJ"
   },
   "outputs": [],
   "source": [
    "idAtoAlvo = dfAlvo['idAto'].unique()"
   ]
  },
  {
   "cell_type": "code",
   "execution_count": 95,
   "metadata": {},
   "outputs": [
    {
     "name": "stdout",
     "output_type": "stream",
     "text": [
      "Média de palavras nos segmentos Vide: 527.51 e desvio padrão: 993.87\n",
      "Média de palavras nos segmentos Alteração: 206.81 e desvio padrão: 148.06\n",
      "Média de palavras nos segmentos Inclusão: 170.62 e desvio padrão: 117.62\n",
      "Média de palavras nos segmentos Revogação: 124.82 e desvio padrão: 107.35\n",
      "Média de palavras nos segmentos Retificação: 166.89 e desvio padrão: 201.83\n",
      "Média de palavras nos segmentos Sem Efeito: 259.40 e desvio padrão: 207.88\n",
      "Média de palavras nos segmentos Insubsistente: 328.83 e desvio padrão: 261.11\n",
      "Média de palavras nos segmentos Anulação: 285.89 e desvio padrão: 244.33\n",
      "Média de palavras nos segmentos Prorrogação: 357.68 e desvio padrão: 196.81\n",
      "Média de palavras nos segmentos Republicação: 305.01 e desvio padrão: 652.69\n",
      "Média de palavras nos segmentos Prejuízo: 110.61 e desvio padrão: 77.55\n",
      "Média de palavras nos segmentos Inclusão por republicação parcial: 35.54 e desvio padrão: 94.72\n",
      "Média de palavras nos segmentos Prorrogação de Vigência: 371.43 e desvio padrão: 227.12\n",
      "Média de palavras nos segmentos Renumeração: 165.28 e desvio padrão: 81.73\n",
      "Média de palavras nos segmentos Sem Eficácia: 358.50 e desvio padrão: 204.51\n",
      "Média de palavras nos segmentos Execução Suspensa: 262.33 e desvio padrão: 147.78\n",
      "Média de palavras nos segmentos Revigoramento: 125.00 e desvio padrão: 18.08\n",
      "Média de palavras nos segmentos Regulamentação: 118.33 e desvio padrão: 30.02\n",
      "Média de palavras nos segmentos Não anota: 162.15 e desvio padrão: 145.13\n"
     ]
    },
    {
     "name": "stderr",
     "output_type": "stream",
     "text": [
      "/home/94779325587/anaconda3/lib/python3.7/site-packages/matplotlib/tight_layout.py:211: UserWarning: Tight layout not applied. tight_layout cannot make axes height small enough to accommodate all axes decorations\n",
      "  warnings.warn('Tight layout not applied. '\n"
     ]
    },
    {
     "data": {
      "image/png": "[encoded data removed]",
      "text/plain": [
       "<Figure size 1440x4320 with 19 Axes>"
      ]
     },
     "metadata": {
      "needs_background": "light"
     },
     "output_type": "display_data"
    }
   ],
   "source": [
    "# colocando a polaridade em uma lista dos unicos existentes\n",
    "anotacoes = dfAlvo['nomeTipoAnotacao'].unique().tolist()\n",
    "\n",
    "# definindo a área de plotagem\n",
    "fig, ax = plt.subplots(nrows=len(anotacoes), figsize=(20,60))\n",
    "\n",
    "# loop para criar os histogramas com seus respectivos parâmetros\n",
    "for i in range(len(anotacoes)):\n",
    "    #if i >0:\n",
    "        sns.distplot(dfAlvo[dfAlvo.nomeTipoAnotacao == anotacoes[i]]['textoIntegra'].apply(len), ax=ax[i], kde=False, bins=30)\n",
    "        ax[i].set_xlim(0, 3000)\n",
    "        ax[i].set_title(f'Distribuição do tamanho do segmento por tipo de anotação: {anotacoes[i]}', fontsize=10, fontweight='bold')\n",
    "        ax[i].set_xlabel(None)\n",
    "        print(f\"Média de palavras nos segmentos {anotacoes[i]}: {dfAlvo[dfAlvo.nomeTipoAnotacao == anotacoes[i]]['textoIntegra'].apply(len).mean():.2f} e desvio padrão: {dfAlvo[dfAlvo.nomeTipoAnotacao == anotacoes[i]]['textoIntegra'].apply(len).std():.2f}\")\n",
    "# ajusta o espaçamento entre os plots\n",
    "plt.tight_layout(pad=20)"
   ]
  },
  {
   "cell_type": "code",
   "execution_count": 96,
   "metadata": {},
   "outputs": [],
   "source": [
    "dfAlvo['tamanhoTexto'] = dfAlvo['textoIntegra'].apply(len)"
   ]
  },
  {
   "cell_type": "code",
   "execution_count": null,
   "metadata": {},
   "outputs": [],
   "source": [
    "b = sns.boxplot(x=tips[\"total_bill\"])\n",
    "b.axes.set_title(\"Title\",fontsize=50)\n",
    "b.set_xlabel(\"X Label\",fontsize=30)\n",
    "b.set_ylabel(\"Y Label\",fontsize=20)\n",
    "b.tick_params(labelsize=5)\n",
    "sns.plt.show()"
   ]
  },
  {
   "cell_type": "code",
   "execution_count": 151,
   "metadata": {},
   "outputs": [
    {
     "data": {
      "text/plain": [
       "<matplotlib.axes._subplots.AxesSubplot at 0x7f3afe3a58d0>"
      ]
     },
     "execution_count": 151,
     "metadata": {},
     "output_type": "execute_result"
    },
    {
     "data": {
      "image/png": "[encoded data removed]",
      "text/plain": [
       "<Figure size 1440x2880 with 1 Axes>"
      ]
     },
     "metadata": {},
     "output_type": "display_data"
    }
   ],
   "source": [
    "#sns.set_theme(style=\"ticks\", palette=\"pastel\")\n",
    "\n",
    "fig, ax = plt.subplots(figsize=(20,40))\n",
    "sns.set(font_scale = 2)\n",
    "sns.boxplot(y=\"nomeTipoAnotacao\", x=\"tamanhoTexto\",\n",
    "            palette=[\"m\", \"g\"],\n",
    "            data=dfAlvo, showfliers = False)\n",
    "#sns.despine(offset=10, trim=True)"
   ]
  },
  {
   "cell_type": "code",
   "execution_count": 37,
   "metadata": {
    "colab": {
     "base_uri": "https://localhost:8080/"
    },
    "executionInfo": {
     "elapsed": 14,
     "status": "ok",
     "timestamp": 1625240868777,
     "user": {
      "displayName": "Taise Santana",
      "photoUrl": "https://lh3.googleusercontent.com/a-/AOh14GgKAADg6Rps3N8uIyXhe_-x0PwLHGxngc11vJP1qdQ=s64",
      "userId": "17052149037411840574"
     },
     "user_tz": 180
    },
    "id": "KRi2wzNNuIvJ",
    "outputId": "d8b866ea-c2ea-44ef-99b0-9ff5f046c138"
   },
   "outputs": [
    {
     "data": {
      "text/plain": [
       "211.41828391291497"
      ]
     },
     "execution_count": 37,
     "metadata": {},
     "output_type": "execute_result"
    }
   ],
   "source": [
    "#tamanho médio da ementa\n",
    "dfAlvo['ementa'].apply(len).mean()"
   ]
  },
  {
   "cell_type": "code",
   "execution_count": 38,
   "metadata": {
    "colab": {
     "base_uri": "https://localhost:8080/",
     "height": 283
    },
    "executionInfo": {
     "elapsed": 13,
     "status": "ok",
     "timestamp": 1625240868777,
     "user": {
      "displayName": "Taise Santana",
      "photoUrl": "https://lh3.googleusercontent.com/a-/AOh14GgKAADg6Rps3N8uIyXhe_-x0PwLHGxngc11vJP1qdQ=s64",
      "userId": "17052149037411840574"
     },
     "user_tz": 180
    },
    "id": "HBfo7pieuIvJ",
    "outputId": "02d09734-44ce-48cd-bdcc-645b328d5a5f"
   },
   "outputs": [
    {
     "data": {
      "text/plain": [
       "<matplotlib.axes._subplots.AxesSubplot at 0x7f3b2dd37c88>"
      ]
     },
     "execution_count": 38,
     "metadata": {},
     "output_type": "execute_result"
    },
    {
     "data": {
      "image/png": "[encoded data removed]",
      "text/plain": [
       "<Figure size 432x288 with 1 Axes>"
      ]
     },
     "metadata": {
      "needs_background": "light"
     },
     "output_type": "display_data"
    }
   ],
   "source": [
    "#Tamanho da ementa\n",
    "dfAlvo['ementa'].apply(len).hist()"
   ]
  },
  {
   "cell_type": "code",
   "execution_count": 39,
   "metadata": {
    "colab": {
     "base_uri": "https://localhost:8080/"
    },
    "executionInfo": {
     "elapsed": 12,
     "status": "ok",
     "timestamp": 1625240868778,
     "user": {
      "displayName": "Taise Santana",
      "photoUrl": "https://lh3.googleusercontent.com/a-/AOh14GgKAADg6Rps3N8uIyXhe_-x0PwLHGxngc11vJP1qdQ=s64",
      "userId": "17052149037411840574"
     },
     "user_tz": 180
    },
    "id": "c9gd11_SuIvK",
    "outputId": "24a80e67-4012-40b0-e872-84b77b1dbd43"
   },
   "outputs": [
    {
     "data": {
      "text/plain": [
       "196.81809673923752"
      ]
     },
     "execution_count": 39,
     "metadata": {},
     "output_type": "execute_result"
    }
   ],
   "source": [
    "#tamanho médio do texto\n",
    "dfAlvo['textoIntegra'].apply(len).mean()"
   ]
  },
  {
   "cell_type": "code",
   "execution_count": 40,
   "metadata": {
    "colab": {
     "base_uri": "https://localhost:8080/",
     "height": 283
    },
    "executionInfo": {
     "elapsed": 390,
     "status": "ok",
     "timestamp": 1625240869158,
     "user": {
      "displayName": "Taise Santana",
      "photoUrl": "https://lh3.googleusercontent.com/a-/AOh14GgKAADg6Rps3N8uIyXhe_-x0PwLHGxngc11vJP1qdQ=s64",
      "userId": "17052149037411840574"
     },
     "user_tz": 180
    },
    "id": "-2s_8o90uIvK",
    "outputId": "1362b61f-4455-4fec-bba8-8ca969a51b86"
   },
   "outputs": [
    {
     "data": {
      "text/plain": [
       "<matplotlib.axes._subplots.AxesSubplot at 0x7f3b2dc57198>"
      ]
     },
     "execution_count": 40,
     "metadata": {},
     "output_type": "execute_result"
    },
    {
     "data": {
      "image/png": "[encoded data removed]",
      "text/plain": [
       "<Figure size 432x288 with 1 Axes>"
      ]
     },
     "metadata": {
      "needs_background": "light"
     },
     "output_type": "display_data"
    }
   ],
   "source": [
    "#Tamanho da ementa\n",
    "dfAlvo['textoIntegra'].apply(len).hist()"
   ]
  },
  {
   "cell_type": "code",
   "execution_count": 152,
   "metadata": {
    "colab": {
     "base_uri": "https://localhost:8080/",
     "height": 329
    },
    "executionInfo": {
     "elapsed": 273,
     "status": "ok",
     "timestamp": 1625240869424,
     "user": {
      "displayName": "Taise Santana",
      "photoUrl": "https://lh3.googleusercontent.com/a-/AOh14GgKAADg6Rps3N8uIyXhe_-x0PwLHGxngc11vJP1qdQ=s64",
      "userId": "17052149037411840574"
     },
     "user_tz": 180
    },
    "id": "zTkbNfoIuIvK",
    "outputId": "5770a239-efc1-411c-d83d-5e7c32ce2aeb",
    "scrolled": true
   },
   "outputs": [
    {
     "ename": "KeyError",
     "evalue": "'ementa'",
     "output_type": "error",
     "traceback": [
      "\u001b[0;31m---------------------------------------------------------------------------\u001b[0m",
      "\u001b[0;31mKeyError\u001b[0m                                  Traceback (most recent call last)",
      "\u001b[0;32m~/anaconda3/lib/python3.7/site-packages/pandas/core/indexes/base.py\u001b[0m in \u001b[0;36mget_loc\u001b[0;34m(self, key, method, tolerance)\u001b[0m\n\u001b[1;32m   2656\u001b[0m             \u001b[0;32mtry\u001b[0m\u001b[0;34m:\u001b[0m\u001b[0;34m\u001b[0m\u001b[0;34m\u001b[0m\u001b[0m\n\u001b[0;32m-> 2657\u001b[0;31m                 \u001b[0;32mreturn\u001b[0m \u001b[0mself\u001b[0m\u001b[0;34m.\u001b[0m\u001b[0m_engine\u001b[0m\u001b[0;34m.\u001b[0m\u001b[0mget_loc\u001b[0m\u001b[0;34m(\u001b[0m\u001b[0mkey\u001b[0m\u001b[0;34m)\u001b[0m\u001b[0;34m\u001b[0m\u001b[0;34m\u001b[0m\u001b[0m\n\u001b[0m\u001b[1;32m   2658\u001b[0m             \u001b[0;32mexcept\u001b[0m \u001b[0mKeyError\u001b[0m\u001b[0;34m:\u001b[0m\u001b[0;34m\u001b[0m\u001b[0;34m\u001b[0m\u001b[0m\n",
      "\u001b[0;32mpandas/_libs/index.pyx\u001b[0m in \u001b[0;36mpandas._libs.index.IndexEngine.get_loc\u001b[0;34m()\u001b[0m\n",
      "\u001b[0;32mpandas/_libs/index.pyx\u001b[0m in \u001b[0;36mpandas._libs.index.IndexEngine.get_loc\u001b[0;34m()\u001b[0m\n",
      "\u001b[0;32mpandas/_libs/hashtable_class_helper.pxi\u001b[0m in \u001b[0;36mpandas._libs.hashtable.PyObjectHashTable.get_item\u001b[0;34m()\u001b[0m\n",
      "\u001b[0;32mpandas/_libs/hashtable_class_helper.pxi\u001b[0m in \u001b[0;36mpandas._libs.hashtable.PyObjectHashTable.get_item\u001b[0;34m()\u001b[0m\n",
      "\u001b[0;31mKeyError\u001b[0m: 'ementa'",
      "\nDuring handling of the above exception, another exception occurred:\n",
      "\u001b[0;31mKeyError\u001b[0m                                  Traceback (most recent call last)",
      "\u001b[0;32m<ipython-input-152-f360e2da4f79>\u001b[0m in \u001b[0;36m<module>\u001b[0;34m\u001b[0m\n\u001b[1;32m      1\u001b[0m \u001b[0mplt\u001b[0m\u001b[0;34m.\u001b[0m\u001b[0mfigure\u001b[0m\u001b[0;34m(\u001b[0m\u001b[0;34m)\u001b[0m\u001b[0;34m\u001b[0m\u001b[0;34m\u001b[0m\u001b[0m\n\u001b[1;32m      2\u001b[0m \u001b[0mplt\u001b[0m\u001b[0;34m.\u001b[0m\u001b[0msubplot\u001b[0m\u001b[0;34m(\u001b[0m\u001b[0;36m2\u001b[0m\u001b[0;34m,\u001b[0m\u001b[0;36m2\u001b[0m\u001b[0;34m,\u001b[0m\u001b[0;36m1\u001b[0m\u001b[0;34m)\u001b[0m\u001b[0;34m\u001b[0m\u001b[0;34m\u001b[0m\u001b[0m\n\u001b[0;32m----> 3\u001b[0;31m \u001b[0mdfAlvo\u001b[0m\u001b[0;34m[\u001b[0m\u001b[0;34m'ementa'\u001b[0m\u001b[0;34m]\u001b[0m\u001b[0;34m.\u001b[0m\u001b[0mapply\u001b[0m\u001b[0;34m(\u001b[0m\u001b[0mlen\u001b[0m\u001b[0;34m)\u001b[0m\u001b[0;34m.\u001b[0m\u001b[0mhist\u001b[0m\u001b[0;34m(\u001b[0m\u001b[0mfigsize\u001b[0m \u001b[0;34m=\u001b[0m \u001b[0;34m(\u001b[0m\u001b[0;36m10\u001b[0m\u001b[0;34m,\u001b[0m\u001b[0;36m10\u001b[0m\u001b[0;34m)\u001b[0m\u001b[0;34m)\u001b[0m\u001b[0;34m\u001b[0m\u001b[0;34m\u001b[0m\u001b[0m\n\u001b[0m\u001b[1;32m      4\u001b[0m \u001b[0;34m\u001b[0m\u001b[0m\n\u001b[1;32m      5\u001b[0m \u001b[0mplt\u001b[0m\u001b[0;34m.\u001b[0m\u001b[0mtitle\u001b[0m\u001b[0;34m(\u001b[0m\u001b[0;34m'Tamanho Ementa'\u001b[0m\u001b[0;34m)\u001b[0m\u001b[0;34m\u001b[0m\u001b[0;34m\u001b[0m\u001b[0m\n",
      "\u001b[0;32m~/anaconda3/lib/python3.7/site-packages/pandas/core/frame.py\u001b[0m in \u001b[0;36m__getitem__\u001b[0;34m(self, key)\u001b[0m\n\u001b[1;32m   2925\u001b[0m             \u001b[0;32mif\u001b[0m \u001b[0mself\u001b[0m\u001b[0;34m.\u001b[0m\u001b[0mcolumns\u001b[0m\u001b[0;34m.\u001b[0m\u001b[0mnlevels\u001b[0m \u001b[0;34m>\u001b[0m \u001b[0;36m1\u001b[0m\u001b[0;34m:\u001b[0m\u001b[0;34m\u001b[0m\u001b[0;34m\u001b[0m\u001b[0m\n\u001b[1;32m   2926\u001b[0m                 \u001b[0;32mreturn\u001b[0m \u001b[0mself\u001b[0m\u001b[0;34m.\u001b[0m\u001b[0m_getitem_multilevel\u001b[0m\u001b[0;34m(\u001b[0m\u001b[0mkey\u001b[0m\u001b[0;34m)\u001b[0m\u001b[0;34m\u001b[0m\u001b[0;34m\u001b[0m\u001b[0m\n\u001b[0;32m-> 2927\u001b[0;31m             \u001b[0mindexer\u001b[0m \u001b[0;34m=\u001b[0m \u001b[0mself\u001b[0m\u001b[0;34m.\u001b[0m\u001b[0mcolumns\u001b[0m\u001b[0;34m.\u001b[0m\u001b[0mget_loc\u001b[0m\u001b[0;34m(\u001b[0m\u001b[0mkey\u001b[0m\u001b[0;34m)\u001b[0m\u001b[0;34m\u001b[0m\u001b[0;34m\u001b[0m\u001b[0m\n\u001b[0m\u001b[1;32m   2928\u001b[0m             \u001b[0;32mif\u001b[0m \u001b[0mis_integer\u001b[0m\u001b[0;34m(\u001b[0m\u001b[0mindexer\u001b[0m\u001b[0;34m)\u001b[0m\u001b[0;34m:\u001b[0m\u001b[0;34m\u001b[0m\u001b[0;34m\u001b[0m\u001b[0m\n\u001b[1;32m   2929\u001b[0m                 \u001b[0mindexer\u001b[0m \u001b[0;34m=\u001b[0m \u001b[0;34m[\u001b[0m\u001b[0mindexer\u001b[0m\u001b[0;34m]\u001b[0m\u001b[0;34m\u001b[0m\u001b[0;34m\u001b[0m\u001b[0m\n",
      "\u001b[0;32m~/anaconda3/lib/python3.7/site-packages/pandas/core/indexes/base.py\u001b[0m in \u001b[0;36mget_loc\u001b[0;34m(self, key, method, tolerance)\u001b[0m\n\u001b[1;32m   2657\u001b[0m                 \u001b[0;32mreturn\u001b[0m \u001b[0mself\u001b[0m\u001b[0;34m.\u001b[0m\u001b[0m_engine\u001b[0m\u001b[0;34m.\u001b[0m\u001b[0mget_loc\u001b[0m\u001b[0;34m(\u001b[0m\u001b[0mkey\u001b[0m\u001b[0;34m)\u001b[0m\u001b[0;34m\u001b[0m\u001b[0;34m\u001b[0m\u001b[0m\n\u001b[1;32m   2658\u001b[0m             \u001b[0;32mexcept\u001b[0m \u001b[0mKeyError\u001b[0m\u001b[0;34m:\u001b[0m\u001b[0;34m\u001b[0m\u001b[0;34m\u001b[0m\u001b[0m\n\u001b[0;32m-> 2659\u001b[0;31m                 \u001b[0;32mreturn\u001b[0m \u001b[0mself\u001b[0m\u001b[0;34m.\u001b[0m\u001b[0m_engine\u001b[0m\u001b[0;34m.\u001b[0m\u001b[0mget_loc\u001b[0m\u001b[0;34m(\u001b[0m\u001b[0mself\u001b[0m\u001b[0;34m.\u001b[0m\u001b[0m_maybe_cast_indexer\u001b[0m\u001b[0;34m(\u001b[0m\u001b[0mkey\u001b[0m\u001b[0;34m)\u001b[0m\u001b[0;34m)\u001b[0m\u001b[0;34m\u001b[0m\u001b[0;34m\u001b[0m\u001b[0m\n\u001b[0m\u001b[1;32m   2660\u001b[0m         \u001b[0mindexer\u001b[0m \u001b[0;34m=\u001b[0m \u001b[0mself\u001b[0m\u001b[0;34m.\u001b[0m\u001b[0mget_indexer\u001b[0m\u001b[0;34m(\u001b[0m\u001b[0;34m[\u001b[0m\u001b[0mkey\u001b[0m\u001b[0;34m]\u001b[0m\u001b[0;34m,\u001b[0m \u001b[0mmethod\u001b[0m\u001b[0;34m=\u001b[0m\u001b[0mmethod\u001b[0m\u001b[0;34m,\u001b[0m \u001b[0mtolerance\u001b[0m\u001b[0;34m=\u001b[0m\u001b[0mtolerance\u001b[0m\u001b[0;34m)\u001b[0m\u001b[0;34m\u001b[0m\u001b[0;34m\u001b[0m\u001b[0m\n\u001b[1;32m   2661\u001b[0m         \u001b[0;32mif\u001b[0m \u001b[0mindexer\u001b[0m\u001b[0;34m.\u001b[0m\u001b[0mndim\u001b[0m \u001b[0;34m>\u001b[0m \u001b[0;36m1\u001b[0m \u001b[0;32mor\u001b[0m \u001b[0mindexer\u001b[0m\u001b[0;34m.\u001b[0m\u001b[0msize\u001b[0m \u001b[0;34m>\u001b[0m \u001b[0;36m1\u001b[0m\u001b[0;34m:\u001b[0m\u001b[0;34m\u001b[0m\u001b[0;34m\u001b[0m\u001b[0m\n",
      "\u001b[0;32mpandas/_libs/index.pyx\u001b[0m in \u001b[0;36mpandas._libs.index.IndexEngine.get_loc\u001b[0;34m()\u001b[0m\n",
      "\u001b[0;32mpandas/_libs/index.pyx\u001b[0m in \u001b[0;36mpandas._libs.index.IndexEngine.get_loc\u001b[0;34m()\u001b[0m\n",
      "\u001b[0;32mpandas/_libs/hashtable_class_helper.pxi\u001b[0m in \u001b[0;36mpandas._libs.hashtable.PyObjectHashTable.get_item\u001b[0;34m()\u001b[0m\n",
      "\u001b[0;32mpandas/_libs/hashtable_class_helper.pxi\u001b[0m in \u001b[0;36mpandas._libs.hashtable.PyObjectHashTable.get_item\u001b[0;34m()\u001b[0m\n",
      "\u001b[0;31mKeyError\u001b[0m: 'ementa'"
     ]
    },
    {
     "data": {
      "image/png": "[encoded data removed]",
      "text/plain": [
       "<Figure size 432x288 with 1 Axes>"
      ]
     },
     "metadata": {},
     "output_type": "display_data"
    }
   ],
   "source": [
    "plt.figure()\n",
    "plt.subplot(2,2,1)\n",
    "dfAlvo['ementa'].apply(len).hist(figsize = (10,10))\n",
    "\n",
    "plt.title('Tamanho Ementa') \n",
    "plt.subplot(2,2,2)\n",
    "dfAlvo['textoIntegra'].apply(len).hist(figsize = (10,10))\n",
    "\n",
    "plt.title('Tamanho Segmentos') "
   ]
  },
  {
   "cell_type": "markdown",
   "metadata": {
    "id": "n-BD4AaXuIvK"
   },
   "source": [
    "# Tratamento texto"
   ]
  },
  {
   "cell_type": "code",
   "execution_count": 42,
   "metadata": {
    "id": "KZJ0GC66uIvK"
   },
   "outputs": [],
   "source": [
    "#Texto que tem anotação"
   ]
  },
  {
   "cell_type": "code",
   "execution_count": 43,
   "metadata": {
    "colab": {
     "base_uri": "https://localhost:8080/"
    },
    "executionInfo": {
     "elapsed": 4214,
     "status": "ok",
     "timestamp": 1625240873627,
     "user": {
      "displayName": "Taise Santana",
      "photoUrl": "https://lh3.googleusercontent.com/a-/AOh14GgKAADg6Rps3N8uIyXhe_-x0PwLHGxngc11vJP1qdQ=s64",
      "userId": "17052149037411840574"
     },
     "user_tz": 180
    },
    "id": "WhV6RGtFuIvL",
    "outputId": "5d573735-9b5b-4607-b467-b6ff18328532"
   },
   "outputs": [],
   "source": [
    " dfAlvo['ementalimpa'] = dfAlvo['ementa'].apply(tratatexto.limpaTexto)"
   ]
  },
  {
   "cell_type": "code",
   "execution_count": 44,
   "metadata": {
    "colab": {
     "base_uri": "https://localhost:8080/",
     "height": 361
    },
    "executionInfo": {
     "elapsed": 3638,
     "status": "ok",
     "timestamp": 1625240877252,
     "user": {
      "displayName": "Taise Santana",
      "photoUrl": "https://lh3.googleusercontent.com/a-/AOh14GgKAADg6Rps3N8uIyXhe_-x0PwLHGxngc11vJP1qdQ=s64",
      "userId": "17052149037411840574"
     },
     "user_tz": 180
    },
    "id": "gUmDOxrtuIvL",
    "outputId": "c1451614-df14-4922-d9cc-3289afef1647"
   },
   "outputs": [],
   "source": [
    "#tratatexto.geraNuvem(dfAlvo['ementalimpa'],'Palavras Ementa')"
   ]
  },
  {
   "cell_type": "code",
   "execution_count": 45,
   "metadata": {
    "id": "DduZiZqzuIvL"
   },
   "outputs": [],
   "source": [
    "dfAlvo['verbosEmenta'] = dfAlvo['ementalimpa'].apply(tratatexto.buscaVerbo)"
   ]
  },
  {
   "cell_type": "code",
   "execution_count": 46,
   "metadata": {
    "id": "mhac7q0FuIvL"
   },
   "outputs": [],
   "source": [
    "#tratatexto.geraNuvem(dfAlvo['verbosEmenta'],'Verbos Ementa')"
   ]
  },
  {
   "cell_type": "code",
   "execution_count": 47,
   "metadata": {
    "id": "twshHZQpuIvM"
   },
   "outputs": [],
   "source": [
    " dfAlvo['textoIntegraLimpo'] = dfAlvo['textoIntegra'].apply(tratatexto.limpaTexto)"
   ]
  },
  {
   "cell_type": "code",
   "execution_count": 48,
   "metadata": {
    "id": "WYvXuJ1euIvM"
   },
   "outputs": [],
   "source": [
    "#tratatexto.geraNuvem(dfAlvo['textoIntegraLimpo'],'Palavras Segmentos')"
   ]
  },
  {
   "cell_type": "code",
   "execution_count": 49,
   "metadata": {
    "id": "L-0z9S9QuIvM"
   },
   "outputs": [],
   "source": [
    "dfAlvo['verbosTextoIntegra'] = dfAlvo['textoIntegraLimpo'].apply(tratatexto.buscaVerbo)"
   ]
  },
  {
   "cell_type": "code",
   "execution_count": 50,
   "metadata": {
    "id": "79mZ5LZjuIvM"
   },
   "outputs": [],
   "source": [
    "#tratatexto.geraNuvem(dfAlvo['verbosTextoIntegra'],'Verbos Segmentos')"
   ]
  },
  {
   "cell_type": "code",
   "execution_count": 51,
   "metadata": {
    "id": "cxypSz20uIvN"
   },
   "outputs": [],
   "source": [
    "#tratatexto.geraNuvem(dfAlvo['verbosEmenta'].append(dfAlvo['verbosTextoIntegra']),'Todos os Verbos')"
   ]
  },
  {
   "cell_type": "code",
   "execution_count": 52,
   "metadata": {
    "id": "aCNWKPBWuIvO"
   },
   "outputs": [],
   "source": [
    "#Textos que não anotam"
   ]
  },
  {
   "cell_type": "code",
   "execution_count": 53,
   "metadata": {
    "id": "re03vgwKuIvO"
   },
   "outputs": [],
   "source": [
    "dfNaoAnota  = pd.read_json(caminhoDados+'segmentosNaoAnotamdosAtosqueAnotam.json') "
   ]
  },
  {
   "cell_type": "code",
   "execution_count": 54,
   "metadata": {
    "id": "Zdd5QfDwuIvO"
   },
   "outputs": [
    {
     "data": {
      "text/plain": [
       "array([2013, 2014, 2015, 2016, 2017, 2018, 2019, 2020, 2021])"
      ]
     },
     "execution_count": 54,
     "metadata": {},
     "output_type": "execute_result"
    }
   ],
   "source": [
    "dfNaoAnota['ano'].unique() #a partir de 2018"
   ]
  },
  {
   "cell_type": "code",
   "execution_count": 55,
   "metadata": {
    "id": "9Q3_8c6NuIvO"
   },
   "outputs": [
    {
     "data": {
      "text/plain": [
       "ano                 0\n",
       "ementa              0\n",
       "idAto               0\n",
       "idSegmento          0\n",
       "idTipoAto           0\n",
       "idTipoSegmento      0\n",
       "nomeTipoAto         0\n",
       "nomeTipoSegmento    0\n",
       "textoIntegra        0\n",
       "dtype: int64"
      ]
     },
     "execution_count": 55,
     "metadata": {},
     "output_type": "execute_result"
    }
   ],
   "source": [
    "##Verificando valores nulos\n",
    "dfNaoAnota.isna().sum()"
   ]
  },
  {
   "cell_type": "code",
   "execution_count": 56,
   "metadata": {
    "id": "jNIDvAxKuIvP"
   },
   "outputs": [],
   "source": [
    "#Filtro para unificar os DF\n",
    "dfAlvoNaoAnota = dfNaoAnota[dfNaoAnota['idAto'].isin(idAtoAlvo)]"
   ]
  },
  {
   "cell_type": "code",
   "execution_count": 57,
   "metadata": {
    "id": "3OAmRiEHuIvP"
   },
   "outputs": [
    {
     "data": {
      "text/html": [
       "<div>\n",
       "<style scoped>\n",
       "    .dataframe tbody tr th:only-of-type {\n",
       "        vertical-align: middle;\n",
       "    }\n",
       "\n",
       "    .dataframe tbody tr th {\n",
       "        vertical-align: top;\n",
       "    }\n",
       "\n",
       "    .dataframe thead th {\n",
       "        text-align: right;\n",
       "    }\n",
       "</style>\n",
       "<table border=\"1\" class=\"dataframe\">\n",
       "  <thead>\n",
       "    <tr style=\"text-align: right;\">\n",
       "      <th></th>\n",
       "      <th>ano</th>\n",
       "      <th>ementa</th>\n",
       "      <th>idAto</th>\n",
       "      <th>idSegmento</th>\n",
       "      <th>idTipoAto</th>\n",
       "      <th>idTipoSegmento</th>\n",
       "      <th>nomeTipoAto</th>\n",
       "      <th>nomeTipoSegmento</th>\n",
       "      <th>textoIntegra</th>\n",
       "    </tr>\n",
       "  </thead>\n",
       "  <tbody>\n",
       "    <tr>\n",
       "      <th>0</th>\n",
       "      <td>2013</td>\n",
       "      <td>Autoriza exportação de cigarros do estabelecim...</td>\n",
       "      <td>39246</td>\n",
       "      <td>1260058</td>\n",
       "      <td>9</td>\n",
       "      <td>2</td>\n",
       "      <td>Ato Declaratório Executivo</td>\n",
       "      <td>Autor</td>\n",
       "      <td>O COORDENADOR-GERAL DE FISCALIZAÇÃO SUBSTITUTO...</td>\n",
       "    </tr>\n",
       "    <tr>\n",
       "      <th>1</th>\n",
       "      <td>2013</td>\n",
       "      <td>Autoriza exportação de cigarros do estabelecim...</td>\n",
       "      <td>39246</td>\n",
       "      <td>1260059</td>\n",
       "      <td>9</td>\n",
       "      <td>3</td>\n",
       "      <td>Ato Declaratório Executivo</td>\n",
       "      <td>Artigo</td>\n",
       "      <td>Art. 1º Fica o estabelecimento da empresa Souz...</td>\n",
       "    </tr>\n",
       "    <tr>\n",
       "      <th>100</th>\n",
       "      <td>2013</td>\n",
       "      <td>Dispõe sobre o reajuste dos benefícios pagos p...</td>\n",
       "      <td>39283</td>\n",
       "      <td>1262700</td>\n",
       "      <td>80</td>\n",
       "      <td>11</td>\n",
       "      <td>Portaria Interministerial</td>\n",
       "      <td>Título</td>\n",
       "      <td>ANEXO I</td>\n",
       "    </tr>\n",
       "    <tr>\n",
       "      <th>100072</th>\n",
       "      <td>2014</td>\n",
       "      <td>Declara inapta a inscrição de empresa no Cadas...</td>\n",
       "      <td>54153</td>\n",
       "      <td>1427100</td>\n",
       "      <td>9</td>\n",
       "      <td>999</td>\n",
       "      <td>Ato Declaratório Executivo</td>\n",
       "      <td>Não Identificado</td>\n",
       "      <td>O Chefe do Serviço de Controle e Acompanhament...</td>\n",
       "    </tr>\n",
       "    <tr>\n",
       "      <th>100073</th>\n",
       "      <td>2014</td>\n",
       "      <td>Declara inapta a inscrição de empresa no Cadas...</td>\n",
       "      <td>54153</td>\n",
       "      <td>1427101</td>\n",
       "      <td>9</td>\n",
       "      <td>3</td>\n",
       "      <td>Ato Declaratório Executivo</td>\n",
       "      <td>Artigo</td>\n",
       "      <td>Art. 1º Retificado o Ato Declaratório Executiv...</td>\n",
       "    </tr>\n",
       "  </tbody>\n",
       "</table>\n",
       "</div>"
      ],
      "text/plain": [
       "         ano                                             ementa  idAto  \\\n",
       "0       2013  Autoriza exportação de cigarros do estabelecim...  39246   \n",
       "1       2013  Autoriza exportação de cigarros do estabelecim...  39246   \n",
       "100     2013  Dispõe sobre o reajuste dos benefícios pagos p...  39283   \n",
       "100072  2014  Declara inapta a inscrição de empresa no Cadas...  54153   \n",
       "100073  2014  Declara inapta a inscrição de empresa no Cadas...  54153   \n",
       "\n",
       "        idSegmento  idTipoAto  idTipoSegmento                 nomeTipoAto  \\\n",
       "0          1260058          9               2  Ato Declaratório Executivo   \n",
       "1          1260059          9               3  Ato Declaratório Executivo   \n",
       "100        1262700         80              11   Portaria Interministerial   \n",
       "100072     1427100          9             999  Ato Declaratório Executivo   \n",
       "100073     1427101          9               3  Ato Declaratório Executivo   \n",
       "\n",
       "        nomeTipoSegmento                                       textoIntegra  \n",
       "0                  Autor  O COORDENADOR-GERAL DE FISCALIZAÇÃO SUBSTITUTO...  \n",
       "1                 Artigo  Art. 1º Fica o estabelecimento da empresa Souz...  \n",
       "100               Título                                            ANEXO I  \n",
       "100072  Não Identificado  O Chefe do Serviço de Controle e Acompanhament...  \n",
       "100073            Artigo  Art. 1º Retificado o Ato Declaratório Executiv...  "
      ]
     },
     "execution_count": 57,
     "metadata": {},
     "output_type": "execute_result"
    }
   ],
   "source": [
    "dfAlvoNaoAnota.head()"
   ]
  },
  {
   "cell_type": "code",
   "execution_count": 58,
   "metadata": {
    "id": "gQgEg-YOuIvP"
   },
   "outputs": [
    {
     "name": "stdout",
     "output_type": "stream",
     "text": [
      "<class 'pandas.core.frame.DataFrame'>\n",
      "Int64Index: 100450 entries, 0 to 99759\n",
      "Data columns (total 9 columns):\n",
      "ano                 100450 non-null int64\n",
      "ementa              100450 non-null object\n",
      "idAto               100450 non-null int64\n",
      "idSegmento          100450 non-null int64\n",
      "idTipoAto           100450 non-null int64\n",
      "idTipoSegmento      100450 non-null int64\n",
      "nomeTipoAto         100450 non-null object\n",
      "nomeTipoSegmento    100450 non-null object\n",
      "textoIntegra        100450 non-null object\n",
      "dtypes: int64(5), object(4)\n",
      "memory usage: 7.7+ MB\n"
     ]
    }
   ],
   "source": [
    "dfAlvoNaoAnota.info()"
   ]
  },
  {
   "cell_type": "code",
   "execution_count": 59,
   "metadata": {
    "id": "AYKZoY2WuIvP"
   },
   "outputs": [
    {
     "data": {
      "text/plain": [
       "Inciso              26959\n",
       "Não Identificado    26124\n",
       "Artigo              20370\n",
       "Parágrafo           11345\n",
       "Fecho                4677\n",
       "Alínea               3896\n",
       "Anexo                1894\n",
       "Título               1526\n",
       "Capítulo             1075\n",
       "Seção                 894\n",
       "Assinatura            783\n",
       "Item                  428\n",
       "SubSeção              348\n",
       "Autor                  80\n",
       "Livro                  39\n",
       "Citação                 6\n",
       "Parte                   6\n",
       "Name: nomeTipoSegmento, dtype: int64"
      ]
     },
     "execution_count": 59,
     "metadata": {},
     "output_type": "execute_result"
    }
   ],
   "source": [
    "#tipos de segmento são importantes para o negócio\n",
    "dfAlvoNaoAnota['nomeTipoSegmento'].value_counts()"
   ]
  },
  {
   "cell_type": "code",
   "execution_count": 60,
   "metadata": {
    "id": "-_G09-hTuIvQ"
   },
   "outputs": [
    {
     "data": {
      "text/plain": [
       "1     6785\n",
       "3     6612\n",
       "9     3439\n",
       "22    1638\n",
       "24    1002\n",
       "25     233\n",
       "13     200\n",
       "10     123\n",
       "4      115\n",
       "5       42\n",
       "16      28\n",
       "55      28\n",
       "12      23\n",
       "2       18\n",
       "11       6\n",
       "14       4\n",
       "6        3\n",
       "20       3\n",
       "Name: idTipoAnotacao, dtype: int64"
      ]
     },
     "execution_count": 60,
     "metadata": {},
     "output_type": "execute_result"
    }
   ],
   "source": [
    "#Classes dos segmentos que anotam, hpa desbaleceamento\n",
    "dfAlvo['idTipoAnotacao'].value_counts()"
   ]
  },
  {
   "cell_type": "code",
   "execution_count": 61,
   "metadata": {
    "id": "DcXLZ_rJuIvQ"
   },
   "outputs": [],
   "source": [
    "#Preciso fazer um undersample dos sefmentos que não anotam,  Pegar 7 % por conta do balanceamento de classes\n",
    "dfAlvoNaoAnota = dfAlvoNaoAnota.sample(frac=0.07, random_state=random_state)"
   ]
  },
  {
   "cell_type": "code",
   "execution_count": 62,
   "metadata": {
    "id": "KWfjSV37uIvQ"
   },
   "outputs": [
    {
     "name": "stdout",
     "output_type": "stream",
     "text": [
      "<class 'pandas.core.frame.DataFrame'>\n",
      "Int64Index: 7032 entries, 388240 to 196877\n",
      "Data columns (total 9 columns):\n",
      "ano                 7032 non-null int64\n",
      "ementa              7032 non-null object\n",
      "idAto               7032 non-null int64\n",
      "idSegmento          7032 non-null int64\n",
      "idTipoAto           7032 non-null int64\n",
      "idTipoSegmento      7032 non-null int64\n",
      "nomeTipoAto         7032 non-null object\n",
      "nomeTipoSegmento    7032 non-null object\n",
      "textoIntegra        7032 non-null object\n",
      "dtypes: int64(5), object(4)\n",
      "memory usage: 549.4+ KB\n"
     ]
    }
   ],
   "source": [
    "dfAlvoNaoAnota.info()"
   ]
  },
  {
   "cell_type": "code",
   "execution_count": 63,
   "metadata": {
    "id": "E5r0_doWuIvQ"
   },
   "outputs": [
    {
     "data": {
      "text/plain": [
       "Não Identificado    1856\n",
       "Inciso              1812\n",
       "Artigo              1444\n",
       "Parágrafo            800\n",
       "Fecho                326\n",
       "Alínea               281\n",
       "Anexo                147\n",
       "Título               110\n",
       "Capítulo              87\n",
       "Seção                 65\n",
       "Assinatura            46\n",
       "Item                  35\n",
       "SubSeção              15\n",
       "Autor                  4\n",
       "Livro                  4\n",
       "Name: nomeTipoSegmento, dtype: int64"
      ]
     },
     "execution_count": 63,
     "metadata": {},
     "output_type": "execute_result"
    }
   ],
   "source": [
    "dfAlvoNaoAnota['nomeTipoSegmento'].value_counts()"
   ]
  },
  {
   "cell_type": "code",
   "execution_count": 64,
   "metadata": {
    "id": "BUPI9GVduIvQ"
   },
   "outputs": [],
   "source": [
    " dfAlvoNaoAnota['textoIntegraLimpo'] = dfAlvoNaoAnota['textoIntegra'].apply(tratatexto.limpaTexto)"
   ]
  },
  {
   "cell_type": "code",
   "execution_count": 65,
   "metadata": {
    "id": "hl3tYGaYuIvR"
   },
   "outputs": [],
   "source": [
    "#tratatexto.geraNuvem(dfAlvoNaoAnota['textoIntegraLimpo'],'Palavras Segmentos não anotam')"
   ]
  },
  {
   "cell_type": "code",
   "execution_count": 66,
   "metadata": {
    "id": "V3dVvF8huIvR"
   },
   "outputs": [],
   "source": [
    "dfAlvoNaoAnota['verbosTextoIntegra'] = dfAlvoNaoAnota['textoIntegraLimpo'].apply(tratatexto.buscaVerbo)"
   ]
  },
  {
   "cell_type": "code",
   "execution_count": 67,
   "metadata": {
    "id": "-LSMBhAwuIvR"
   },
   "outputs": [],
   "source": [
    "#tratatexto.geraNuvem(dfAlvoNaoAnota['verbosTextoIntegra'],'Verbos Segmentos não anotam')"
   ]
  },
  {
   "cell_type": "code",
   "execution_count": 68,
   "metadata": {
    "id": "pelymW4KuIvR"
   },
   "outputs": [],
   "source": [
    "dfAlvo = pd.concat([dfAlvo, dfAlvoNaoAnota],sort=False)\n",
    "\n"
   ]
  },
  {
   "cell_type": "code",
   "execution_count": 69,
   "metadata": {
    "id": "vsd5gEVhuIvR"
   },
   "outputs": [
    {
     "name": "stdout",
     "output_type": "stream",
     "text": [
      "<class 'pandas.core.frame.DataFrame'>\n",
      "Int64Index: 27334 entries, 0 to 196877\n",
      "Data columns (total 18 columns):\n",
      "ano                   27334 non-null int64\n",
      "ementa                27334 non-null object\n",
      "idAto                 27334 non-null int64\n",
      "idSegmento            27334 non-null int64\n",
      "idTipoAnotacao        20302 non-null float64\n",
      "idTipoAto             27334 non-null int64\n",
      "idTipoSegmento        27334 non-null int64\n",
      "nomeTipoAnotacao      20302 non-null object\n",
      "nomeTipoAto           27334 non-null object\n",
      "nomeTipoSegmento      27334 non-null object\n",
      "siglaTipoAnotacao     20302 non-null object\n",
      "textoIntegra          27334 non-null object\n",
      "tipoSolucao           20302 non-null object\n",
      "versaoSegmento        20302 non-null float64\n",
      "ementalimpa           20302 non-null object\n",
      "verbosEmenta          20302 non-null object\n",
      "textoIntegraLimpo     27334 non-null object\n",
      "verbosTextoIntegra    27334 non-null object\n",
      "dtypes: float64(2), int64(5), object(11)\n",
      "memory usage: 4.0+ MB\n"
     ]
    }
   ],
   "source": [
    "dfAlvo.info()"
   ]
  },
  {
   "cell_type": "code",
   "execution_count": 70,
   "metadata": {
    "id": "ZJIzCdlwuIvS"
   },
   "outputs": [],
   "source": [
    "#Para os segmentos que não anotam não faz sentido usar a ementa nem seus verbos\n",
    "valores = {'idTipoAnotacao': 0, 'nomeTipoAnotacao':'Não anota','verbosEmenta':'','ementalimpa':''}\n",
    "dfAlvo.fillna(value = valores, inplace = True)"
   ]
  },
  {
   "cell_type": "code",
   "execution_count": 71,
   "metadata": {
    "id": "UtHgg0sFuIvS"
   },
   "outputs": [],
   "source": [
    "#colunas que não importam para o tratamento de textos\n",
    "limpar = ['ano','ementa','idAto','idTipoAto','idTipoSegmento','nomeTipoAto','nomeTipoSegmento','siglaTipoAnotacao','tipoSolucao','versaoSegmento']\n",
    "dfAlvo.drop(limpar,axis=1, inplace=True)"
   ]
  },
  {
   "cell_type": "code",
   "execution_count": 72,
   "metadata": {
    "id": "CceSxFC3uIvS"
   },
   "outputs": [],
   "source": [
    "dfAlvo.reset_index(drop=True, inplace=True)"
   ]
  },
  {
   "cell_type": "code",
   "execution_count": 73,
   "metadata": {
    "id": "k5eZ2WaYuIvS"
   },
   "outputs": [
    {
     "data": {
      "text/html": [
       "<div>\n",
       "<style scoped>\n",
       "    .dataframe tbody tr th:only-of-type {\n",
       "        vertical-align: middle;\n",
       "    }\n",
       "\n",
       "    .dataframe tbody tr th {\n",
       "        vertical-align: top;\n",
       "    }\n",
       "\n",
       "    .dataframe thead th {\n",
       "        text-align: right;\n",
       "    }\n",
       "</style>\n",
       "<table border=\"1\" class=\"dataframe\">\n",
       "  <thead>\n",
       "    <tr style=\"text-align: right;\">\n",
       "      <th></th>\n",
       "      <th>idSegmento</th>\n",
       "      <th>idTipoAnotacao</th>\n",
       "      <th>nomeTipoAnotacao</th>\n",
       "      <th>textoIntegra</th>\n",
       "      <th>ementalimpa</th>\n",
       "      <th>verbosEmenta</th>\n",
       "      <th>textoIntegraLimpo</th>\n",
       "      <th>verbosTextoIntegra</th>\n",
       "      <th>verbos</th>\n",
       "      <th>textoTotal</th>\n",
       "    </tr>\n",
       "  </thead>\n",
       "  <tbody>\n",
       "    <tr>\n",
       "      <th>0</th>\n",
       "      <td>1260061</td>\n",
       "      <td>24</td>\n",
       "      <td>Vide</td>\n",
       "      <td>Art. 2º A autorização de que trata o art. 1º f...</td>\n",
       "      <td>autoriza exportacao cigarros estabelecimento e...</td>\n",
       "      <td>autoriza</td>\n",
       "      <td>art autorizacao trata art fica condicionada co...</td>\n",
       "      <td>trata fica condicionada referida</td>\n",
       "      <td>autoriza trata fica condicionada referida</td>\n",
       "      <td>autoriza exportacao cigarros estabelecimento e...</td>\n",
       "    </tr>\n",
       "    <tr>\n",
       "      <th>1</th>\n",
       "      <td>1260829</td>\n",
       "      <td>1</td>\n",
       "      <td>Alteração</td>\n",
       "      <td>“Art. 17. As entidades fechadas de previdência...</td>\n",
       "      <td>altera instrucao normativa srf dezembro dispoe...</td>\n",
       "      <td>altera dispoe clausula</td>\n",
       "      <td>art entidades fechadas previdencia complementa...</td>\n",
       "      <td>complementar renda</td>\n",
       "      <td>altera dispoe clausula complementar renda</td>\n",
       "      <td>altera instrucao normativa srf dezembro dispoe...</td>\n",
       "    </tr>\n",
       "    <tr>\n",
       "      <th>10</th>\n",
       "      <td>1264027</td>\n",
       "      <td>3</td>\n",
       "      <td>Inclusão</td>\n",
       "      <td>§ 3º Na hipótese de exigência de controle admi...</td>\n",
       "      <td>altera instrucao normativa srf janeiro dispoe ...</td>\n",
       "      <td>altera dispoe</td>\n",
       "      <td>hipotese exigencia controle administrativo par...</td>\n",
       "      <td>exigencia parte admitida devera efetivado saida</td>\n",
       "      <td>altera dispoe exigencia parte admitida devera ...</td>\n",
       "      <td>altera instrucao normativa srf janeiro dispoe ...</td>\n",
       "    </tr>\n",
       "    <tr>\n",
       "      <th>100</th>\n",
       "      <td>1271821</td>\n",
       "      <td>3</td>\n",
       "      <td>Inclusão</td>\n",
       "      <td>Permitida a habilitação de usuários externos: Não</td>\n",
       "      <td>altera anexo portaria cgsn julho define perfis...</td>\n",
       "      <td>altera portaria define</td>\n",
       "      <td>permitida habilitacao usuarios externos nao</td>\n",
       "      <td></td>\n",
       "      <td>altera portaria define</td>\n",
       "      <td>altera anexo portaria cgsn julho define perfis...</td>\n",
       "    </tr>\n",
       "    <tr>\n",
       "      <th>1000</th>\n",
       "      <td>1335167</td>\n",
       "      <td>1</td>\n",
       "      <td>Alteração</td>\n",
       "      <td>§ 2º  A interrupção da manutenção preventiva e...</td>\n",
       "      <td>altera instrucao normativa agosto dispoe insta...</td>\n",
       "      <td>altera dispoe bebidas</td>\n",
       "      <td>interrupcao manutencao preventiva corretiva si...</td>\n",
       "      <td>cmb reiterada ausencia trata caracteriza</td>\n",
       "      <td>altera dispoe bebidas cmb reiterada ausencia t...</td>\n",
       "      <td>altera instrucao normativa agosto dispoe insta...</td>\n",
       "    </tr>\n",
       "  </tbody>\n",
       "</table>\n",
       "</div>"
      ],
      "text/plain": [
       "      idSegmento  idTipoAnotacao nomeTipoAnotacao  \\\n",
       "0        1260061              24             Vide   \n",
       "1        1260829               1        Alteração   \n",
       "10       1264027               3         Inclusão   \n",
       "100      1271821               3         Inclusão   \n",
       "1000     1335167               1        Alteração   \n",
       "\n",
       "                                           textoIntegra  \\\n",
       "0     Art. 2º A autorização de que trata o art. 1º f...   \n",
       "1     “Art. 17. As entidades fechadas de previdência...   \n",
       "10    § 3º Na hipótese de exigência de controle admi...   \n",
       "100   Permitida a habilitação de usuários externos: Não   \n",
       "1000  § 2º  A interrupção da manutenção preventiva e...   \n",
       "\n",
       "                                            ementalimpa  \\\n",
       "0     autoriza exportacao cigarros estabelecimento e...   \n",
       "1     altera instrucao normativa srf dezembro dispoe...   \n",
       "10    altera instrucao normativa srf janeiro dispoe ...   \n",
       "100   altera anexo portaria cgsn julho define perfis...   \n",
       "1000  altera instrucao normativa agosto dispoe insta...   \n",
       "\n",
       "                verbosEmenta  \\\n",
       "0                   autoriza   \n",
       "1     altera dispoe clausula   \n",
       "10             altera dispoe   \n",
       "100   altera portaria define   \n",
       "1000   altera dispoe bebidas   \n",
       "\n",
       "                                      textoIntegraLimpo  \\\n",
       "0     art autorizacao trata art fica condicionada co...   \n",
       "1     art entidades fechadas previdencia complementa...   \n",
       "10    hipotese exigencia controle administrativo par...   \n",
       "100         permitida habilitacao usuarios externos nao   \n",
       "1000  interrupcao manutencao preventiva corretiva si...   \n",
       "\n",
       "                                   verbosTextoIntegra  \\\n",
       "0                    trata fica condicionada referida   \n",
       "1                                  complementar renda   \n",
       "10    exigencia parte admitida devera efetivado saida   \n",
       "100                                                     \n",
       "1000         cmb reiterada ausencia trata caracteriza   \n",
       "\n",
       "                                                 verbos  \\\n",
       "0             autoriza trata fica condicionada referida   \n",
       "1             altera dispoe clausula complementar renda   \n",
       "10    altera dispoe exigencia parte admitida devera ...   \n",
       "100                             altera portaria define    \n",
       "1000  altera dispoe bebidas cmb reiterada ausencia t...   \n",
       "\n",
       "                                             textoTotal  \n",
       "0     autoriza exportacao cigarros estabelecimento e...  \n",
       "1     altera instrucao normativa srf dezembro dispoe...  \n",
       "10    altera instrucao normativa srf janeiro dispoe ...  \n",
       "100   altera anexo portaria cgsn julho define perfis...  \n",
       "1000  altera instrucao normativa agosto dispoe insta...  "
      ]
     },
     "execution_count": 73,
     "metadata": {},
     "output_type": "execute_result"
    }
   ],
   "source": [
    "dfAlvo['verbos'] = dfAlvo['verbosEmenta']+ \" \"  + dfAlvo['verbosTextoIntegra']\n",
    "dfAlvo['textoTotal'] = dfAlvo['ementalimpa']+ \" \"  + dfAlvo['textoIntegraLimpo']\n",
    "dfAlvo.to_json(caminhoDados+'dfAlvo.json')\n",
    "dfAlvo  = pd.read_json(caminhoDados+'dfAlvo.json') \n",
    "dfAlvo.head()"
   ]
  },
  {
   "cell_type": "code",
   "execution_count": 74,
   "metadata": {
    "id": "rGu1i8T4uIvS"
   },
   "outputs": [
    {
     "data": {
      "text/plain": [
       "Index(['idSegmento', 'idTipoAnotacao', 'nomeTipoAnotacao', 'textoIntegra',\n",
       "       'ementalimpa', 'verbosEmenta', 'textoIntegraLimpo',\n",
       "       'verbosTextoIntegra', 'verbos', 'textoTotal'],\n",
       "      dtype='object')"
      ]
     },
     "execution_count": 74,
     "metadata": {},
     "output_type": "execute_result"
    }
   ],
   "source": [
    "dfAlvo.columns"
   ]
  },
  {
   "cell_type": "code",
   "execution_count": 75,
   "metadata": {
    "id": "ML2nHX6PuIvS"
   },
   "outputs": [
    {
     "data": {
      "text/plain": [
       "array([24,  1,  3,  9, 22, 13, 12, 10,  4, 25, 16, 55,  5,  2, 14, 11, 20,\n",
       "        6,  0])"
      ]
     },
     "execution_count": 75,
     "metadata": {},
     "output_type": "execute_result"
    }
   ],
   "source": [
    "dfAlvo['idTipoAnotacao'].unique()"
   ]
  }
 ],
 "metadata": {
  "colab": {
   "name": "Cópia de Cópia de AnaliseExploratoria.ipynb",
   "provenance": [
    {
     "file_id": "https://github.com/taisescr/tcccimatec/blob/main/AnaliseExploratoria.ipynb",
     "timestamp": 1625955378863
    },
    {
     "file_id": "https://github.com/taisescr/tcccimatec/blob/main/AnaliseExploratoria.ipynb",
     "timestamp": 1625240353922
    }
   ]
  },
  "kernelspec": {
   "display_name": "Python 3",
   "language": "python",
   "name": "python3"
  },
  "language_info": {
   "codemirror_mode": {
    "name": "ipython",
    "version": 3
   },
   "file_extension": ".py",
   "mimetype": "text/x-python",
   "name": "python",
   "nbconvert_exporter": "python",
   "pygments_lexer": "ipython3",
   "version": "3.7.3"
  }
 },
 "nbformat": 4,
 "nbformat_minor": 1
}
